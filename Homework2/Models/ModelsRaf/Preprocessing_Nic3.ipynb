{
 "nbformat": 4,
 "nbformat_minor": 0,
 "metadata": {
  "colab": {
   "provenance": [],
   "collapsed_sections": [
    "dd6wRlo1AsJ0",
    "-b7eh6oTLlDb"
   ]
  },
  "kernelspec": {
   "name": "python3",
   "display_name": "Python 3"
  },
  "language_info": {
   "name": "python"
  },
  "accelerator": "GPU",
  "gpuClass": "standard"
 },
 "cells": [
  {
   "cell_type": "code",
   "source": [
    "import tensorflow as tf\n",
    "import numpy as np\n",
    "import os\n",
    "import random\n",
    "import pandas as pd\n",
    "import seaborn as sns\n",
    "import matplotlib.pyplot as plt\n",
    "\n",
    "plt.rc('font', size=16)\n",
    "from sklearn.metrics import accuracy_score, f1_score, precision_score, recall_score\n",
    "from sklearn.metrics import confusion_matrix\n",
    "from sklearn.preprocessing import MinMaxScaler\n",
    "from scipy.ndimage import median_filter\n",
    "from sklearn.model_selection import train_test_split\n",
    "import warnings\n",
    "import logging\n",
    "from tqdm import tqdm\n",
    "from keras.layers import Input, Conv1D, Conv2D, MaxPooling2D, concatenate, Dense, Activation, Dropout\n",
    "from tensorflow.keras.layers import Input, Conv1D, Activation, BatchNormalization, MaxPooling1D, GlobalAveragePooling1D, AveragePooling1D, Dense, concatenate\n",
    "from tensorflow.keras.models import Model\n",
    "from tensorflow.keras.optimizers import SGD\n",
    "\n",
    "tfk = tf.keras\n",
    "tfkl = tf.keras.layers\n",
    "print(tf.__version__)\n",
    "\n",
    "seed = 42"
   ],
   "metadata": {
    "colab": {
     "base_uri": "https://localhost:8080/"
    },
    "id": "QMv-0gtembvU",
    "outputId": "56828b18-0d01-4021-80e0-22603395853f"
   },
   "execution_count": 1,
   "outputs": [
    {
     "name": "stdout",
     "output_type": "stream",
     "text": [
      "2.10.0\n"
     ]
    }
   ]
  },
  {
   "cell_type": "code",
   "source": [
    "training_labels = {\n",
    "    \"Wish\": 0,\n",
    "    \"Another\": 1,\n",
    "    \"Comfortably\": 2,\n",
    "    \"Money\": 3,\n",
    "    \"Breathe\": 4,\n",
    "    \"Time\": 5,\n",
    "    \"Brain\": 6,\n",
    "    \"Echoes\": 7,\n",
    "    \"Wearing\": 8,\n",
    "    \"Sorrow\": 9,\n",
    "    \"Hey\": 10,\n",
    "    \"Shine\": 11,\n",
    "}"
   ],
   "metadata": {
    "id": "Z3UsnmtIDh2L"
   },
   "execution_count": 2,
   "outputs": []
  },
  {
   "cell_type": "markdown",
   "source": [
    "### DATA PREPARATION"
   ],
   "metadata": {
    "id": "X34e4_u_Amoo"
   }
  },
  {
   "cell_type": "code",
   "source": [
    "data = np.load(\"../../data/x_train.npy\")\n",
    "target = np.load(\"../../data/y_train.npy\")"
   ],
   "metadata": {
    "id": "p6Ga7NTenMmq"
   },
   "execution_count": 3,
   "outputs": []
  },
  {
   "cell_type": "code",
   "source": [
    "#SHUFFLE DATA\n",
    "np.random.seed(42)\n",
    "p = np.random.permutation(data.shape[0])\n",
    "data = data[p]\n",
    "target = target[p]"
   ],
   "metadata": {
    "id": "tgYlp3mX5J1e"
   },
   "execution_count": 4,
   "outputs": []
  },
  {
   "cell_type": "code",
   "source": [
    "data[0].shape"
   ],
   "metadata": {
    "colab": {
     "base_uri": "https://localhost:8080/"
    },
    "id": "BkoIJrydpsqC",
    "outputId": "00f22930-0953-467a-946c-1ea416ab00f1"
   },
   "execution_count": 5,
   "outputs": [
    {
     "data": {
      "text/plain": "(36, 6)"
     },
     "execution_count": 5,
     "metadata": {},
     "output_type": "execute_result"
    }
   ]
  },
  {
   "cell_type": "markdown",
   "source": [
    "# SPLIT DATA INTO TRAIN / TEST\n",
    "- Split data into Train and test seqeuences using sequence ID\n",
    "- We also convert target into OneHotEncoding\n",
    "- Normalize Data using MinMax Scaler\n"
   ],
   "metadata": {
    "collapsed": false
   }
  },
  {
   "cell_type": "code",
   "source": [
    "test_split = 0.2\n",
    "val_split = 0.1\n",
    "#OneHotEncoding\n",
    "target = tfk.utils.to_categorical(target)\n",
    "\n",
    "#Split Train Test\n",
    "x_train,x_test,y_train,y_test = train_test_split(data,target, test_size=test_split,random_state=42,stratify=target)\n",
    "x_train,x_val,y_train,y_val = train_test_split(x_train,y_train, test_size=val_split,random_state=42,stratify=y_train)\n",
    "x_train.shape,x_test.shape,x_val.shape"
   ],
   "metadata": {
    "id": "0m-ynjVPE-qw"
   },
   "execution_count": 6,
   "outputs": [
    {
     "data": {
      "text/plain": "((1748, 36, 6), (486, 36, 6), (195, 36, 6))"
     },
     "execution_count": 6,
     "metadata": {},
     "output_type": "execute_result"
    }
   ]
  },
  {
   "cell_type": "code",
   "source": [
    "def normalize_single_series(data):\n",
    "  for i in tqdm(range(0,data.shape[0])):\n",
    "    chunck = data[i]\n",
    "    mean = np.mean(chunck)\n",
    "    std  = np.std(chunck)\n",
    "    data[i] = (chunck - mean) / std\n",
    "  return data\n"
   ],
   "metadata": {
    "id": "UWo0MaMnGZ8P"
   },
   "execution_count": 7,
   "outputs": []
  },
  {
   "cell_type": "code",
   "execution_count": 8,
   "outputs": [
    {
     "name": "stderr",
     "output_type": "stream",
     "text": [
      "100%|██████████| 1748/1748 [00:00<00:00, 62408.65it/s]\n",
      "100%|██████████| 486/486 [00:00<00:00, 57886.97it/s]\n",
      "100%|██████████| 195/195 [00:00<00:00, 60223.05it/s]\n"
     ]
    },
    {
     "data": {
      "text/plain": "(1748, 36, 6)"
     },
     "execution_count": 8,
     "metadata": {},
     "output_type": "execute_result"
    }
   ],
   "source": [
    "x_old = x_train.copy()\n",
    "x_train = normalize_single_series(x_train)\n",
    "x_test  = normalize_single_series(x_test)\n",
    "x_val   = normalize_single_series(x_val)\n",
    "\n",
    "x_train.shape"
   ],
   "metadata": {
    "collapsed": false
   }
  },
  {
   "cell_type": "code",
   "source": [
    "def add_noise(seq,weight=0.005):\n",
    "  #Copy Data\n",
    "  seq = np.array(seq)\n",
    "  seq = seq.copy()\n",
    "  #Calculate STD\n",
    "  std = np.std(seq) * weight\n",
    "  #Calculate Mean of this sequence\n",
    "  noise = np.random.normal(0,std,seq.shape)\n",
    "\n",
    "  data_augmented = seq + noise*0.1\n",
    "  return data_augmented"
   ],
   "metadata": {
    "colab": {
     "base_uri": "https://localhost:8080/",
     "height": 424
    },
    "id": "9yl0T1garCFM",
    "outputId": "625167c1-05d1-4b98-c1b3-87d9949e0349"
   },
   "execution_count": 9,
   "outputs": []
  },
  {
   "cell_type": "code",
   "source": [
    "augmentation = True #NOW IS FALSE SINCE IS TO CORRECT THE WAY IT ADD NOISE\n",
    "np.random.seed(60)\n",
    "\n",
    "y_new = y_train.copy()\n",
    "x_new = x_train.copy()\n",
    "if augmentation:\n",
    "  weights = [0.01,0.02,0.03, 0.04,0.05, 0.06]\n",
    "  for w in weights:\n",
    "    for i in tqdm(range(0,x_train.shape[0])):\n",
    "      aug = add_noise(x_train[i],w)\n",
    "      aug = np.expand_dims(aug, axis=0)\n",
    "      #print(aug.shape,x_new.shape)\n",
    "      #print(y_new.shape,y_train.shape)\n",
    "      x_new    = np.vstack([x_new,aug])\n",
    "      y_new    = np.vstack([y_new,y_train[i]])\n",
    "\n",
    "x_train_aug1  = x_new\n",
    "y_train_aug1  = y_new\n",
    "x_train.shape,y_train.shape, x_train_aug1.shape, y_train_aug1.shape"
   ],
   "metadata": {
    "id": "Q9RYhwMj-NPU"
   },
   "execution_count": 10,
   "outputs": [
    {
     "name": "stderr",
     "output_type": "stream",
     "text": [
      "100%|██████████| 1748/1748 [00:00<00:00, 2130.01it/s]\n",
      "100%|██████████| 1748/1748 [00:01<00:00, 1237.49it/s]\n",
      "100%|██████████| 1748/1748 [00:01<00:00, 891.33it/s]\n",
      "100%|██████████| 1748/1748 [00:02<00:00, 679.02it/s]\n",
      "100%|██████████| 1748/1748 [00:03<00:00, 552.40it/s]\n",
      "100%|██████████| 1748/1748 [00:03<00:00, 458.26it/s]\n"
     ]
    },
    {
     "data": {
      "text/plain": "((1748, 36, 6), (1748, 12), (12236, 36, 6), (12236, 12))"
     },
     "execution_count": 10,
     "metadata": {},
     "output_type": "execute_result"
    }
   ]
  },
  {
   "cell_type": "code",
   "execution_count": 10,
   "outputs": [],
   "source": [
    "\n",
    "\n"
   ],
   "metadata": {
    "collapsed": false
   }
  },
  {
   "cell_type": "markdown",
   "source": [
    "# Augmentation"
   ],
   "metadata": {
    "collapsed": false
   }
  },
  {
   "cell_type": "code",
   "execution_count": 11,
   "outputs": [],
   "source": [
    "import utils.augmentation as aug"
   ],
   "metadata": {
    "collapsed": false
   }
  },
  {
   "cell_type": "code",
   "execution_count": 12,
   "outputs": [
    {
     "data": {
      "text/plain": "<Figure size 1500x500 with 4 Axes>",
      "image/png": "[encoded data removed]"
     },
     "metadata": {},
     "output_type": "display_data"
    }
   ],
   "source": [
    "fig, ax =  plt.subplots(1, 4, figsize=(15, 5), sharey=True)\n",
    "\n",
    "ax[0].plot(x_train[0, :, 0], color=\"red\")\n",
    "ax[0].plot(aug.magnitude_warp(x_train, sigma=0.1, knot=10)[0, :, 0], color=\"blue\")\n",
    "\n",
    "ax[1].plot(x_train[2, :, 0], color=\"red\")\n",
    "ax[1].plot(aug.jitter(x_train, sigma=0.06)[2, :, 0], color=\"blue\")\n",
    "\n",
    "ax[2].plot(x_train[2, :, 0], color=\"red\")\n",
    "ax[2].plot(aug.time_warp(x_train)[2, :, 0], color=\"blue\")\n",
    "\n",
    "ax[3].plot(x_train[2, :, 0], color=\"red\")\n",
    "ax[3].plot(aug.window_slice(x_train)[2, :, 0], color=\"blue\")\n",
    "\n",
    "plt.show()"
   ],
   "metadata": {
    "collapsed": false
   }
  },
  {
   "cell_type": "code",
   "execution_count": 13,
   "outputs": [],
   "source": [
    "x_train = np.append(x_train, aug.jitter(x_train, sigma=0.06)[:3000], axis=0)\n",
    "y_train = np.append(y_train, y_train[:3000], axis=0)\n",
    "x_train = np.append(x_train, aug.magnitude_warp(x_train, sigma=0.1, knot=10)[:3000], axis=0)\n",
    "y_train = np.append(y_train, y_train[:3000], axis=0)\n",
    "x_train = np.append(x_train, aug.time_warp(x_train)[:3000], axis=0)\n",
    "y_train = np.append(y_train, y_train[:3000], axis=0)\n",
    "x_train = np.append(x_train, aug.window_slice(x_train)[:3000], axis=0)\n",
    "y_train = np.append(y_train, y_train[:3000], axis=0)\n",
    "\n",
    "x_train = np.append(x_train, x_train_aug1, axis=0)\n",
    "y_train = np.append(y_train, y_train_aug1, axis=0)\n",
    "\n",
    "\n",
    "indexes = np.random.choice(x_train.shape[0], x_train.shape[0])\n",
    "x_train = x_train[indexes]\n",
    "y_train = y_train[indexes]"
   ],
   "metadata": {
    "collapsed": false
   }
  },
  {
   "cell_type": "code",
   "execution_count": 14,
   "outputs": [
    {
     "data": {
      "text/plain": "array([0., 0., 0., 0., 0., 0., 1., 0., 0., 0., 0., 0.], dtype=float32)"
     },
     "execution_count": 14,
     "metadata": {},
     "output_type": "execute_result"
    }
   ],
   "source": [
    "y_train[0]"
   ],
   "metadata": {
    "collapsed": false
   }
  },
  {
   "cell_type": "markdown",
   "source": [
    "# NOW USE THE GENERATED TIME SERIES TO TRAIN OUR MODELS\n",
    "\n",
    "Vanilla Attempts:\n",
    "-CNN1D :"
   ],
   "metadata": {
    "id": "v_YogB46BWgm"
   }
  },
  {
   "cell_type": "code",
   "execution_count": 15,
   "outputs": [],
   "source": [
    "input_shape = x_train.shape[1:]\n",
    "classes = y_train.shape[-1]\n",
    "batch_size = 128\n",
    "epochs = 200"
   ],
   "metadata": {
    "collapsed": false
   }
  },
  {
   "cell_type": "code",
   "execution_count": 16,
   "outputs": [
    {
     "data": {
      "text/plain": "((24732, 36, 6), (24732, 12))"
     },
     "execution_count": 16,
     "metadata": {},
     "output_type": "execute_result"
    }
   ],
   "source": [
    "x_train.shape, y_train.shape"
   ],
   "metadata": {
    "collapsed": false
   }
  },
  {
   "cell_type": "code",
   "execution_count": 16,
   "outputs": [],
   "source": [],
   "metadata": {
    "collapsed": false
   }
  },
  {
   "cell_type": "code",
   "execution_count": 16,
   "outputs": [],
   "source": [],
   "metadata": {
    "collapsed": false
   }
  },
  {
   "cell_type": "code",
   "execution_count": 16,
   "outputs": [],
   "source": [],
   "metadata": {
    "collapsed": false
   }
  },
  {
   "cell_type": "code",
   "execution_count": 16,
   "outputs": [],
   "source": [],
   "metadata": {
    "collapsed": false
   }
  },
  {
   "cell_type": "code",
   "execution_count": 16,
   "outputs": [],
   "source": [],
   "metadata": {
    "collapsed": false
   }
  },
  {
   "cell_type": "code",
   "execution_count": 16,
   "outputs": [],
   "source": [],
   "metadata": {
    "collapsed": false
   }
  },
  {
   "cell_type": "code",
   "execution_count": 16,
   "outputs": [],
   "source": [],
   "metadata": {
    "collapsed": false
   }
  },
  {
   "cell_type": "code",
   "execution_count": 19,
   "outputs": [
    {
     "name": "stdout",
     "output_type": "stream",
     "text": [
      "Model: \"model\"\n",
      "__________________________________________________________________________________________________\n",
      " Layer (type)                   Output Shape         Param #     Connected to                     \n",
      "==================================================================================================\n",
      " input_2 (InputLayer)           [(None, 36, 6)]      0           []                               \n",
      "                                                                                                  \n",
      " conv1d (Conv1D)                (None, 36, 32)       1376        ['input_2[0][0]']                \n",
      "                                                                                                  \n",
      " activation (Activation)        (None, 36, 32)       0           ['conv1d[0][0]']                 \n",
      "                                                                                                  \n",
      " conv1d_1 (Conv1D)              (None, 36, 64)       10304       ['activation[0][0]']             \n",
      "                                                                                                  \n",
      " activation_1 (Activation)      (None, 36, 64)       0           ['conv1d_1[0][0]']               \n",
      "                                                                                                  \n",
      " dense (Dense)                  (None, 36, 128)      8320        ['activation_1[0][0]']           \n",
      "                                                                                                  \n",
      " activation_2 (Activation)      (None, 36, 128)      0           ['dense[0][0]']                  \n",
      "                                                                                                  \n",
      " batch_normalization (BatchNorm  (None, 36, 128)     512         ['activation_2[0][0]']           \n",
      " alization)                                                                                       \n",
      "                                                                                                  \n",
      " conv1d_2 (Conv1D)              (None, 36, 128)      49280       ['batch_normalization[0][0]']    \n",
      "                                                                                                  \n",
      " activation_3 (Activation)      (None, 36, 128)      0           ['conv1d_2[0][0]']               \n",
      "                                                                                                  \n",
      " dense_1 (Dense)                (None, 36, 256)      33024       ['activation_3[0][0]']           \n",
      "                                                                                                  \n",
      " activation_4 (Activation)      (None, 36, 256)      0           ['dense_1[0][0]']                \n",
      "                                                                                                  \n",
      " batch_normalization_1 (BatchNo  (None, 36, 256)     1024        ['activation_4[0][0]']           \n",
      " rmalization)                                                                                     \n",
      "                                                                                                  \n",
      " conv1d_3 (Conv1D)              (None, 36, 256)      65792       ['batch_normalization_1[0][0]']  \n",
      "                                                                                                  \n",
      " activation_5 (Activation)      (None, 36, 256)      0           ['conv1d_3[0][0]']               \n",
      "                                                                                                  \n",
      " batch_normalization_2 (BatchNo  (None, 36, 256)     1024        ['activation_5[0][0]']           \n",
      " rmalization)                                                                                     \n",
      "                                                                                                  \n",
      " max_pooling1d (MaxPooling1D)   (None, 18, 256)      0           ['batch_normalization_2[0][0]']  \n",
      "                                                                                                  \n",
      " lstm_2 (LSTM)                  (None, 36, 128)      69120       ['input_2[0][0]']                \n",
      "                                                                                                  \n",
      " global_average_pooling1d (Glob  (None, 256)         0           ['max_pooling1d[0][0]']          \n",
      " alAveragePooling1D)                                                                              \n",
      "                                                                                                  \n",
      " lstm_3 (LSTM)                  (None, 36, 256)      394240      ['lstm_2[0][0]']                 \n",
      "                                                                                                  \n",
      " flatten (Flatten)              (None, 256)          0           ['global_average_pooling1d[0][0]'\n",
      "                                                                 ]                                \n",
      "                                                                                                  \n",
      " lstm_4 (LSTM)                  (None, 512)          1574912     ['lstm_3[0][0]']                 \n",
      "                                                                                                  \n",
      " dense_2 (Dense)                (None, 512)          131584      ['flatten[0][0]']                \n",
      "                                                                                                  \n",
      " dropout (Dropout)              (None, 512)          0           ['lstm_4[0][0]']                 \n",
      "                                                                                                  \n",
      " dropout_1 (Dropout)            (None, 512)          0           ['dense_2[0][0]']                \n",
      "                                                                                                  \n",
      " add (Add)                      (None, 512)          0           ['dropout[0][0]',                \n",
      "                                                                  'dropout_1[0][0]']              \n",
      "                                                                                                  \n",
      " dense_3 (Dense)                (None, 12)           6156        ['add[0][0]']                    \n",
      "                                                                                                  \n",
      " activation_6 (Activation)      (None, 12)           0           ['dense_3[0][0]']                \n",
      "                                                                                                  \n",
      "==================================================================================================\n",
      "Total params: 2,346,668\n",
      "Trainable params: 2,345,388\n",
      "Non-trainable params: 1,280\n",
      "__________________________________________________________________________________________________\n"
     ]
    }
   ],
   "source": [
    "\n",
    "# build a network to classify data series with Conv1D\n",
    "def build_4_layers_conv1d_network(input_shape, classes, learning_rate=0.001, momentum=0.9, loss=\"categorical_crossentropy\",\n",
    "                                  metrics=[\"accuracy\"]):\n",
    "    \"\"\"\n",
    "    Builds 4 layers Conv1D network for data series.\n",
    "    \"\"\"\n",
    "    # Define the model input\n",
    "    input = Input(shape=input_shape)\n",
    "\n",
    "    y = tfkl.LSTM(units=128, return_sequences=True)(input)\n",
    "    y = tfkl.LSTM(units=256, return_sequences=True)(y)\n",
    "    y = tfkl.LSTM(units=512)(y)\n",
    "    y = tfkl.Dropout(0.5)(y)\n",
    "    # y = tfkl.Dense(512)\n",
    "\n",
    "    # # Apply convolutional layers\n",
    "    x = tfkl.Conv1D(filters=32, kernel_size=7, strides=1, padding=\"same\")(input)\n",
    "    x = tfkl.Activation(\"sigmoid\")(x)\n",
    "\n",
    "    x = tfkl.Conv1D(filters=64, kernel_size=5, strides=1, padding=\"same\")(x)\n",
    "    x = tfkl.Activation(\"sigmoid\")(x)\n",
    "\n",
    "    x = tfkl.Dense(units=128)(x)\n",
    "    x = tfkl.Activation(\"sigmoid\")(x)\n",
    "    x = tfkl.BatchNormalization()(x)\n",
    "\n",
    "\n",
    "\n",
    "    x = tfkl.Conv1D(filters=128, kernel_size=3, strides=1, padding=\"same\")(x)\n",
    "    x = tfkl.Activation(\"sigmoid\")(x)\n",
    "\n",
    "    x = tfkl.Dense(units=256)(x)\n",
    "    x = tfkl.Activation(\"sigmoid\")(x)\n",
    "    x = tfkl.BatchNormalization()(x)\n",
    "\n",
    "\n",
    "    x = tfkl.Conv1D(filters=256, kernel_size=1, strides=1, padding=\"same\")(x)\n",
    "    x = tfkl.Activation(\"sigmoid\")(x)\n",
    "    x = tfkl.BatchNormalization()(x)\n",
    "    x = tfkl.MaxPooling1D(pool_size=2)(x)\n",
    "    x = tfkl.GlobalAveragePooling1D()(x)\n",
    "\n",
    "    x = tfkl.Flatten()(x)\n",
    "    x = tfkl.Dense(units=512)(x)\n",
    "    x = tfkl.Dropout(0.5)(x)\n",
    "\n",
    "    x = tfkl.Add()([y, x])\n",
    "\n",
    "\n",
    "    x = tfkl.Dense(units=classes)(x)\n",
    "    x = tfkl.Activation(\"softmax\")(x)\n",
    "\n",
    "    # Define the model\n",
    "    model = Model(inputs=input, outputs=x)\n",
    "\n",
    "    # Compile the model\n",
    "    model.compile(optimizer=SGD(learning_rate=learning_rate, momentum=momentum), loss=loss, metrics=metrics)\n",
    "\n",
    "    return model\n",
    "\n",
    "model = build_4_layers_conv1d_network(input_shape, classes)\n",
    "model.summary()\n",
    "# tfk.utils.plot_model(model)"
   ],
   "metadata": {
    "collapsed": false
   }
  },
  {
   "cell_type": "code",
   "execution_count": 20,
   "outputs": [
    {
     "name": "stdout",
     "output_type": "stream",
     "text": [
      "Epoch 1/200\n"
     ]
    },
    {
     "name": "stderr",
     "output_type": "stream",
     "text": [
      "2022-12-18 15:22:07.888486: W tensorflow/core/platform/profile_utils/cpu_utils.cc:128] Failed to get CPU frequency: 0 Hz\n",
      "2022-12-18 15:22:10.955031: I tensorflow/core/grappler/optimizers/custom_graph_optimizer_registry.cc:114] Plugin optimizer for device_type GPU is enabled.\n",
      "2022-12-18 15:22:11.273890: I tensorflow/core/grappler/optimizers/custom_graph_optimizer_registry.cc:114] Plugin optimizer for device_type GPU is enabled.\n",
      "2022-12-18 15:22:11.428463: I tensorflow/core/grappler/optimizers/custom_graph_optimizer_registry.cc:114] Plugin optimizer for device_type GPU is enabled.\n",
      "2022-12-18 15:22:11.649909: I tensorflow/core/grappler/optimizers/custom_graph_optimizer_registry.cc:114] Plugin optimizer for device_type GPU is enabled.\n",
      "2022-12-18 15:22:12.098977: I tensorflow/core/grappler/optimizers/custom_graph_optimizer_registry.cc:114] Plugin optimizer for device_type GPU is enabled.\n",
      "2022-12-18 15:22:12.450352: I tensorflow/core/grappler/optimizers/custom_graph_optimizer_registry.cc:114] Plugin optimizer for device_type GPU is enabled.\n",
      "2022-12-18 15:22:12.615936: I tensorflow/core/grappler/optimizers/custom_graph_optimizer_registry.cc:114] Plugin optimizer for device_type GPU is enabled.\n"
     ]
    },
    {
     "name": "stdout",
     "output_type": "stream",
     "text": [
      "194/194 [==============================] - ETA: 0s - loss: 1.9378 - accuracy: 0.3670"
     ]
    },
    {
     "name": "stderr",
     "output_type": "stream",
     "text": [
      "2022-12-18 15:22:26.356010: I tensorflow/core/grappler/optimizers/custom_graph_optimizer_registry.cc:114] Plugin optimizer for device_type GPU is enabled.\n",
      "2022-12-18 15:22:26.487482: I tensorflow/core/grappler/optimizers/custom_graph_optimizer_registry.cc:114] Plugin optimizer for device_type GPU is enabled.\n",
      "2022-12-18 15:22:26.578834: I tensorflow/core/grappler/optimizers/custom_graph_optimizer_registry.cc:114] Plugin optimizer for device_type GPU is enabled.\n",
      "2022-12-18 15:22:26.666553: I tensorflow/core/grappler/optimizers/custom_graph_optimizer_registry.cc:114] Plugin optimizer for device_type GPU is enabled.\n"
     ]
    },
    {
     "name": "stdout",
     "output_type": "stream",
     "text": [
      "194/194 [==============================] - 19s 74ms/step - loss: 1.9378 - accuracy: 0.3670 - val_loss: 2.1407 - val_accuracy: 0.3179 - lr: 0.0010\n",
      "Epoch 2/200\n",
      "194/194 [==============================] - 13s 65ms/step - loss: 1.7144 - accuracy: 0.4428 - val_loss: 2.2508 - val_accuracy: 0.1590 - lr: 0.0010\n",
      "Epoch 3/200\n",
      "194/194 [==============================] - 13s 66ms/step - loss: 1.5746 - accuracy: 0.4866 - val_loss: 1.9885 - val_accuracy: 0.3846 - lr: 0.0010\n",
      "Epoch 4/200\n",
      "194/194 [==============================] - 13s 65ms/step - loss: 1.4411 - accuracy: 0.5197 - val_loss: 1.7743 - val_accuracy: 0.3692 - lr: 0.0010\n",
      "Epoch 5/200\n",
      "194/194 [==============================] - 13s 66ms/step - loss: 1.3192 - accuracy: 0.5558 - val_loss: 2.3693 - val_accuracy: 0.4513 - lr: 0.0010\n",
      "Epoch 6/200\n",
      "194/194 [==============================] - 13s 66ms/step - loss: 1.1953 - accuracy: 0.6007 - val_loss: 2.0135 - val_accuracy: 0.4154 - lr: 0.0010\n",
      "Epoch 7/200\n",
      "194/194 [==============================] - 13s 67ms/step - loss: 1.1234 - accuracy: 0.6217 - val_loss: 1.6692 - val_accuracy: 0.4718 - lr: 0.0010\n",
      "Epoch 8/200\n",
      "194/194 [==============================] - 13s 68ms/step - loss: 1.0737 - accuracy: 0.6360 - val_loss: 1.3401 - val_accuracy: 0.5590 - lr: 0.0010\n",
      "Epoch 9/200\n",
      "194/194 [==============================] - 13s 68ms/step - loss: 1.0334 - accuracy: 0.6487 - val_loss: 1.5168 - val_accuracy: 0.5487 - lr: 0.0010\n",
      "Epoch 10/200\n",
      "194/194 [==============================] - 15s 76ms/step - loss: 1.0060 - accuracy: 0.6608 - val_loss: 1.2274 - val_accuracy: 0.6410 - lr: 0.0010\n",
      "Epoch 11/200\n",
      "194/194 [==============================] - 13s 66ms/step - loss: 0.9806 - accuracy: 0.6697 - val_loss: 1.4168 - val_accuracy: 0.4872 - lr: 0.0010\n",
      "Epoch 12/200\n",
      "194/194 [==============================] - 13s 68ms/step - loss: 0.9540 - accuracy: 0.6771 - val_loss: 1.3040 - val_accuracy: 0.6308 - lr: 0.0010\n",
      "Epoch 13/200\n",
      "194/194 [==============================] - 14s 70ms/step - loss: 0.9317 - accuracy: 0.6843 - val_loss: 1.2736 - val_accuracy: 0.5231 - lr: 0.0010\n",
      "Epoch 14/200\n",
      "194/194 [==============================] - 13s 69ms/step - loss: 0.9163 - accuracy: 0.6858 - val_loss: 1.2233 - val_accuracy: 0.6103 - lr: 0.0010\n",
      "Epoch 15/200\n",
      "194/194 [==============================] - 13s 66ms/step - loss: 0.8961 - accuracy: 0.6959 - val_loss: 1.1506 - val_accuracy: 0.6205 - lr: 0.0010\n",
      "Epoch 16/200\n",
      "194/194 [==============================] - 13s 69ms/step - loss: 0.8691 - accuracy: 0.7040 - val_loss: 1.0724 - val_accuracy: 0.6513 - lr: 5.0000e-04\n",
      "Epoch 17/200\n",
      "194/194 [==============================] - 13s 67ms/step - loss: 0.8594 - accuracy: 0.7080 - val_loss: 1.2167 - val_accuracy: 0.6308 - lr: 5.0000e-04\n",
      "Epoch 18/200\n",
      "194/194 [==============================] - 13s 66ms/step - loss: 0.8519 - accuracy: 0.7075 - val_loss: 1.0757 - val_accuracy: 0.6872 - lr: 5.0000e-04\n",
      "Epoch 19/200\n",
      "194/194 [==============================] - 13s 68ms/step - loss: 0.8436 - accuracy: 0.7122 - val_loss: 1.0295 - val_accuracy: 0.6615 - lr: 5.0000e-04\n",
      "Epoch 20/200\n",
      "194/194 [==============================] - 13s 66ms/step - loss: 0.8313 - accuracy: 0.7146 - val_loss: 1.1874 - val_accuracy: 0.6308 - lr: 5.0000e-04\n",
      "Epoch 21/200\n",
      "194/194 [==============================] - 13s 66ms/step - loss: 0.8251 - accuracy: 0.7177 - val_loss: 1.0813 - val_accuracy: 0.6256 - lr: 5.0000e-04\n",
      "Epoch 22/200\n",
      "194/194 [==============================] - 13s 67ms/step - loss: 0.8185 - accuracy: 0.7231 - val_loss: 1.2205 - val_accuracy: 0.6410 - lr: 5.0000e-04\n",
      "Epoch 23/200\n",
      "194/194 [==============================] - 13s 67ms/step - loss: 0.8046 - accuracy: 0.7245 - val_loss: 1.0578 - val_accuracy: 0.6615 - lr: 5.0000e-04\n",
      "Epoch 24/200\n",
      "194/194 [==============================] - 13s 66ms/step - loss: 0.7966 - accuracy: 0.7280 - val_loss: 1.0709 - val_accuracy: 0.6564 - lr: 2.5000e-04\n",
      "Epoch 25/200\n",
      "194/194 [==============================] - 13s 66ms/step - loss: 0.7919 - accuracy: 0.7318 - val_loss: 1.2805 - val_accuracy: 0.6103 - lr: 2.5000e-04\n",
      "Epoch 26/200\n",
      "194/194 [==============================] - 13s 66ms/step - loss: 0.7837 - accuracy: 0.7331 - val_loss: 0.9845 - val_accuracy: 0.7026 - lr: 2.5000e-04\n",
      "Epoch 27/200\n",
      "194/194 [==============================] - 13s 68ms/step - loss: 0.7818 - accuracy: 0.7350 - val_loss: 0.9950 - val_accuracy: 0.6769 - lr: 2.5000e-04\n",
      "Epoch 28/200\n",
      "194/194 [==============================] - 13s 66ms/step - loss: 0.7738 - accuracy: 0.7381 - val_loss: 1.0428 - val_accuracy: 0.6410 - lr: 2.5000e-04\n",
      "Epoch 29/200\n",
      "194/194 [==============================] - 13s 65ms/step - loss: 0.7701 - accuracy: 0.7395 - val_loss: 0.9887 - val_accuracy: 0.6821 - lr: 2.5000e-04\n",
      "Epoch 30/200\n",
      "194/194 [==============================] - 13s 66ms/step - loss: 0.7690 - accuracy: 0.7382 - val_loss: 1.0110 - val_accuracy: 0.6769 - lr: 2.5000e-04\n",
      "Epoch 31/200\n",
      "194/194 [==============================] - 13s 67ms/step - loss: 0.7657 - accuracy: 0.7433 - val_loss: 1.2922 - val_accuracy: 0.6256 - lr: 2.5000e-04\n",
      "Epoch 32/200\n",
      "194/194 [==============================] - 13s 68ms/step - loss: 0.7555 - accuracy: 0.7477 - val_loss: 0.9704 - val_accuracy: 0.7128 - lr: 1.2500e-04\n",
      "Epoch 33/200\n",
      "194/194 [==============================] - 13s 67ms/step - loss: 0.7517 - accuracy: 0.7454 - val_loss: 0.9800 - val_accuracy: 0.6923 - lr: 1.2500e-04\n",
      "Epoch 34/200\n",
      "194/194 [==============================] - 13s 66ms/step - loss: 0.7512 - accuracy: 0.7456 - val_loss: 1.0441 - val_accuracy: 0.6821 - lr: 1.2500e-04\n",
      "Epoch 35/200\n",
      "194/194 [==============================] - 13s 66ms/step - loss: 0.7476 - accuracy: 0.7480 - val_loss: 1.1328 - val_accuracy: 0.6308 - lr: 1.2500e-04\n",
      "Epoch 36/200\n",
      "194/194 [==============================] - 13s 66ms/step - loss: 0.7475 - accuracy: 0.7473 - val_loss: 0.9766 - val_accuracy: 0.7077 - lr: 1.2500e-04\n",
      "Epoch 37/200\n",
      "194/194 [==============================] - 14s 70ms/step - loss: 0.7423 - accuracy: 0.7504 - val_loss: 0.9810 - val_accuracy: 0.6872 - lr: 1.2500e-04\n",
      "Epoch 38/200\n",
      "194/194 [==============================] - 13s 66ms/step - loss: 0.7393 - accuracy: 0.7513 - val_loss: 0.9610 - val_accuracy: 0.6821 - lr: 6.2500e-05\n",
      "Epoch 39/200\n",
      "194/194 [==============================] - 13s 66ms/step - loss: 0.7375 - accuracy: 0.7520 - val_loss: 1.0036 - val_accuracy: 0.6564 - lr: 6.2500e-05\n",
      "Epoch 40/200\n",
      "194/194 [==============================] - 13s 67ms/step - loss: 0.7386 - accuracy: 0.7523 - val_loss: 0.9694 - val_accuracy: 0.6974 - lr: 6.2500e-05\n",
      "Epoch 41/200\n",
      "194/194 [==============================] - 13s 67ms/step - loss: 0.7368 - accuracy: 0.7502 - val_loss: 0.9957 - val_accuracy: 0.6923 - lr: 6.2500e-05\n",
      "Epoch 42/200\n",
      "194/194 [==============================] - 13s 67ms/step - loss: 0.7351 - accuracy: 0.7513 - val_loss: 0.9579 - val_accuracy: 0.7026 - lr: 6.2500e-05\n",
      "Epoch 43/200\n",
      "194/194 [==============================] - 13s 67ms/step - loss: 0.7337 - accuracy: 0.7541 - val_loss: 1.0399 - val_accuracy: 0.6564 - lr: 3.1250e-05\n",
      "Epoch 44/200\n",
      "194/194 [==============================] - 13s 65ms/step - loss: 0.7329 - accuracy: 0.7549 - val_loss: 0.9510 - val_accuracy: 0.7128 - lr: 3.1250e-05\n",
      "Epoch 45/200\n",
      "194/194 [==============================] - 13s 65ms/step - loss: 0.7334 - accuracy: 0.7546 - val_loss: 0.9469 - val_accuracy: 0.7128 - lr: 3.1250e-05\n",
      "Epoch 46/200\n",
      "194/194 [==============================] - 13s 65ms/step - loss: 0.7309 - accuracy: 0.7537 - val_loss: 0.9545 - val_accuracy: 0.7128 - lr: 3.1250e-05\n",
      "Epoch 47/200\n",
      "194/194 [==============================] - 13s 65ms/step - loss: 0.7313 - accuracy: 0.7532 - val_loss: 0.9562 - val_accuracy: 0.7231 - lr: 3.1250e-05\n",
      "Epoch 48/200\n",
      "194/194 [==============================] - 12s 64ms/step - loss: 0.7329 - accuracy: 0.7538 - val_loss: 0.9529 - val_accuracy: 0.7128 - lr: 3.1250e-05\n",
      "Epoch 49/200\n",
      "194/194 [==============================] - 12s 64ms/step - loss: 0.7316 - accuracy: 0.7531 - val_loss: 0.9639 - val_accuracy: 0.7077 - lr: 3.1250e-05\n",
      "Epoch 50/200\n",
      "194/194 [==============================] - 12s 64ms/step - loss: 0.7309 - accuracy: 0.7553 - val_loss: 0.9815 - val_accuracy: 0.7128 - lr: 3.1250e-05\n",
      "Epoch 51/200\n",
      "194/194 [==============================] - 13s 65ms/step - loss: 0.7304 - accuracy: 0.7557 - val_loss: 0.9679 - val_accuracy: 0.7128 - lr: 3.1250e-05\n",
      "Epoch 52/200\n",
      "194/194 [==============================] - 13s 65ms/step - loss: 0.7297 - accuracy: 0.7555 - val_loss: 0.9548 - val_accuracy: 0.7026 - lr: 3.1250e-05\n",
      "Epoch 53/200\n",
      "194/194 [==============================] - 13s 65ms/step - loss: 0.7241 - accuracy: 0.7568 - val_loss: 0.9634 - val_accuracy: 0.7128 - lr: 1.5625e-05\n",
      "Epoch 54/200\n",
      "194/194 [==============================] - 13s 67ms/step - loss: 0.7253 - accuracy: 0.7552 - val_loss: 0.9544 - val_accuracy: 0.7128 - lr: 1.5625e-05\n",
      "Epoch 55/200\n",
      "194/194 [==============================] - 13s 69ms/step - loss: 0.7283 - accuracy: 0.7583 - val_loss: 0.9568 - val_accuracy: 0.7077 - lr: 1.5625e-05\n",
      "Epoch 56/200\n",
      "194/194 [==============================] - 13s 66ms/step - loss: 0.7251 - accuracy: 0.7576 - val_loss: 0.9502 - val_accuracy: 0.7128 - lr: 1.5625e-05\n",
      "Epoch 57/200\n",
      "194/194 [==============================] - 13s 67ms/step - loss: 0.7249 - accuracy: 0.7562 - val_loss: 0.9564 - val_accuracy: 0.7128 - lr: 1.5625e-05\n",
      "Epoch 58/200\n",
      "194/194 [==============================] - 13s 66ms/step - loss: 0.7257 - accuracy: 0.7563 - val_loss: 0.9534 - val_accuracy: 0.7077 - lr: 1.0000e-05\n",
      "Epoch 59/200\n",
      "194/194 [==============================] - 13s 65ms/step - loss: 0.7274 - accuracy: 0.7576 - val_loss: 0.9575 - val_accuracy: 0.7128 - lr: 1.0000e-05\n",
      "Epoch 60/200\n",
      "194/194 [==============================] - 12s 64ms/step - loss: 0.7240 - accuracy: 0.7583 - val_loss: 0.9622 - val_accuracy: 0.7077 - lr: 1.0000e-05\n",
      "Epoch 61/200\n",
      "194/194 [==============================] - 13s 65ms/step - loss: 0.7258 - accuracy: 0.7558 - val_loss: 0.9525 - val_accuracy: 0.7077 - lr: 1.0000e-05\n",
      "Epoch 62/200\n",
      "194/194 [==============================] - 13s 65ms/step - loss: 0.7266 - accuracy: 0.7557 - val_loss: 0.9603 - val_accuracy: 0.7077 - lr: 1.0000e-05\n",
      "Epoch 63/200\n",
      "194/194 [==============================] - 13s 65ms/step - loss: 0.7248 - accuracy: 0.7589 - val_loss: 0.9543 - val_accuracy: 0.7128 - lr: 1.0000e-05\n",
      "Epoch 64/200\n",
      "194/194 [==============================] - 13s 65ms/step - loss: 0.7246 - accuracy: 0.7566 - val_loss: 0.9471 - val_accuracy: 0.7128 - lr: 1.0000e-05\n",
      "Epoch 65/200\n",
      "194/194 [==============================] - 13s 66ms/step - loss: 0.7258 - accuracy: 0.7576 - val_loss: 0.9506 - val_accuracy: 0.7179 - lr: 1.0000e-05\n",
      "Epoch 66/200\n",
      "194/194 [==============================] - 14s 70ms/step - loss: 0.7250 - accuracy: 0.7555 - val_loss: 0.9531 - val_accuracy: 0.7077 - lr: 1.0000e-05\n",
      "Epoch 67/200\n",
      "194/194 [==============================] - 13s 68ms/step - loss: 0.7255 - accuracy: 0.7583 - val_loss: 0.9539 - val_accuracy: 0.7077 - lr: 1.0000e-05\n",
      "Epoch 68/200\n",
      "194/194 [==============================] - 13s 65ms/step - loss: 0.7238 - accuracy: 0.7582 - val_loss: 0.9592 - val_accuracy: 0.7077 - lr: 1.0000e-05\n",
      "Epoch 69/200\n",
      "194/194 [==============================] - 13s 65ms/step - loss: 0.7213 - accuracy: 0.7564 - val_loss: 0.9533 - val_accuracy: 0.7179 - lr: 1.0000e-05\n",
      "Epoch 70/200\n",
      "194/194 [==============================] - 13s 66ms/step - loss: 0.7228 - accuracy: 0.7563 - val_loss: 0.9534 - val_accuracy: 0.7179 - lr: 1.0000e-05\n",
      "Epoch 71/200\n",
      "194/194 [==============================] - 13s 65ms/step - loss: 0.7222 - accuracy: 0.7569 - val_loss: 0.9608 - val_accuracy: 0.7128 - lr: 1.0000e-05\n",
      "Epoch 72/200\n",
      "194/194 [==============================] - 13s 65ms/step - loss: 0.7208 - accuracy: 0.7586 - val_loss: 0.9559 - val_accuracy: 0.7077 - lr: 1.0000e-05\n",
      "Epoch 73/200\n",
      "194/194 [==============================] - 13s 64ms/step - loss: 0.7235 - accuracy: 0.7571 - val_loss: 0.9535 - val_accuracy: 0.7077 - lr: 1.0000e-05\n",
      "Epoch 74/200\n",
      "194/194 [==============================] - 13s 68ms/step - loss: 0.7241 - accuracy: 0.7569 - val_loss: 0.9533 - val_accuracy: 0.7179 - lr: 1.0000e-05\n",
      "Epoch 75/200\n",
      "194/194 [==============================] - 13s 68ms/step - loss: 0.7227 - accuracy: 0.7595 - val_loss: 0.9505 - val_accuracy: 0.7128 - lr: 1.0000e-05\n",
      "Epoch 76/200\n",
      "194/194 [==============================] - 14s 71ms/step - loss: 0.7239 - accuracy: 0.7563 - val_loss: 0.9495 - val_accuracy: 0.7179 - lr: 1.0000e-05\n",
      "Epoch 77/200\n",
      "194/194 [==============================] - 13s 69ms/step - loss: 0.7207 - accuracy: 0.7595 - val_loss: 0.9546 - val_accuracy: 0.7077 - lr: 1.0000e-05\n"
     ]
    }
   ],
   "source": [
    "# model = tf.keras.models.load_model(\"modello_a_caso\")\n",
    "# Train the model\n",
    "history = model.fit(\n",
    "    x=x_train,\n",
    "    y=y_train,\n",
    "    batch_size=batch_size,\n",
    "    epochs=epochs,\n",
    "    validation_data=(x_val, y_val),\n",
    "    callbacks=[\n",
    "        tfk.callbacks.EarlyStopping(monitor='val_accuracy', mode='max', patience=30, restore_best_weights=True),\n",
    "        tfk.callbacks.ReduceLROnPlateau(monitor='val_accuracy', mode='max', patience=5, factor=0.5, min_lr=1e-5)\n",
    "    ]\n",
    ").history"
   ],
   "metadata": {
    "collapsed": false
   }
  },
  {
   "cell_type": "code",
   "execution_count": 21,
   "outputs": [
    {
     "name": "stderr",
     "output_type": "stream",
     "text": [
      "WARNING:absl:Found untraced functions such as _jit_compiled_convolution_op, _jit_compiled_convolution_op, _jit_compiled_convolution_op, _jit_compiled_convolution_op, lstm_cell_2_layer_call_fn while saving (showing 5 of 10). These functions will not be directly callable after loading.\n"
     ]
    },
    {
     "name": "stdout",
     "output_type": "stream",
     "text": [
      "INFO:tensorflow:Assets written to: modello_a_caso_LSTM3/assets\n"
     ]
    },
    {
     "name": "stderr",
     "output_type": "stream",
     "text": [
      "INFO:tensorflow:Assets written to: modello_a_caso_LSTM3/assets\n"
     ]
    }
   ],
   "source": [
    "model.save(\"modello_a_caso_LSTM3\")"
   ],
   "metadata": {
    "collapsed": false
   }
  },
  {
   "cell_type": "code",
   "execution_count": 18,
   "outputs": [
    {
     "ename": "NameError",
     "evalue": "name 'model' is not defined",
     "output_type": "error",
     "traceback": [
      "\u001B[0;31m---------------------------------------------------------------------------\u001B[0m",
      "\u001B[0;31mNameError\u001B[0m                                 Traceback (most recent call last)",
      "Cell \u001B[0;32mIn [18], line 2\u001B[0m\n\u001B[1;32m      1\u001B[0m \u001B[38;5;66;03m# Predict the test set with the model\u001B[39;00m\n\u001B[0;32m----> 2\u001B[0m predictions \u001B[38;5;241m=\u001B[39m \u001B[43mmodel\u001B[49m\u001B[38;5;241m.\u001B[39mpredict(x_test)\n\u001B[1;32m      3\u001B[0m predictions\u001B[38;5;241m.\u001B[39mshape\n\u001B[1;32m      4\u001B[0m \u001B[38;5;66;03m# Compute the confusion matrix\u001B[39;00m\n",
      "\u001B[0;31mNameError\u001B[0m: name 'model' is not defined"
     ]
    }
   ],
   "source": [
    "\n",
    "# Predict the test set with the model\n",
    "predictions = model.predict(x_test)\n",
    "predictions.shape\n",
    "# Compute the confusion matrix\n",
    "cm = confusion_matrix(np.argmax(y_test, axis=-1), np.argmax(predictions, axis=-1))\n",
    "\n",
    "# Compute the classification metrics\n",
    "accuracy = accuracy_score(np.argmax(y_test, axis=-1), np.argmax(predictions, axis=-1))\n",
    "precision = precision_score(np.argmax(y_test, axis=-1), np.argmax(predictions, axis=-1), average='macro')\n",
    "recall = recall_score(np.argmax(y_test, axis=-1), np.argmax(predictions, axis=-1), average='macro')\n",
    "f1 = f1_score(np.argmax(y_test, axis=-1), np.argmax(predictions, axis=-1), average='macro')\n",
    "print('Accuracy:', accuracy.round(4))\n",
    "print('Precision:', precision.round(4))\n",
    "print('Recall:', recall.round(4))\n",
    "print('F1:', f1.round(4))\n",
    "\n",
    "# Plot the confusion matrix\n",
    "plt.figure(figsize=(10, 8))\n",
    "sns.heatmap(cm.T, cmap='Blues', xticklabels=list(training_labels.keys()), yticklabels=list(training_labels.keys()))\n",
    "plt.xlabel('True labels')\n",
    "plt.ylabel('Predicted labels')\n",
    "plt.show()"
   ],
   "metadata": {
    "collapsed": false
   }
  },
  {
   "cell_type": "markdown",
   "source": [
    "### Vanilla LSTM"
   ],
   "metadata": {
    "id": "-b7eh6oTLlDb"
   }
  },
  {
   "cell_type": "code",
   "execution_count": 75,
   "outputs": [],
   "source": [
    "from keras.layers import LSTM, Dense, Dropout, Conv1D, MaxPooling1D, Flatten\n",
    "from keras.models import Sequential\n",
    "from sklearn.ensemble import VotingClassifier\n",
    "\n",
    "# Define the LSTM model\n",
    "lstm_model = Sequential()\n",
    "lstm_model.add(LSTM(64, input_shape=input_shape, return_sequences=True))\n",
    "lstm_model.add(Dropout(0.2))\n",
    "lstm_model.add(LSTM(64))\n",
    "lstm_model.add(Dropout(0.2))\n",
    "lstm_model.add(Dense(classes, activation='softmax'))\n",
    "lstm_model.compile(loss='categorical_crossentropy', optimizer='adam', metrics=['accuracy'])\n",
    "\n",
    "# Define the convolutional model\n",
    "conv_model = Sequential()\n",
    "conv_model.add(Conv1D(32, kernel_size=3, activation='relu', input_shape=input_shape))\n",
    "conv_model.add(MaxPooling1D(pool_size=2))\n",
    "conv_model.add(Conv1D(64, kernel_size=3, activation='relu'))\n",
    "conv_model.add(MaxPooling1D(pool_size=2))\n",
    "conv_model.add(Flatten())\n",
    "conv_model.add(Dense(classes, activation='softmax'))\n",
    "conv_model.compile(loss='categorical_crossentropy', optimizer='adam', metrics=['accuracy'])\n",
    "\n",
    "# Create the ensemble\n",
    "model = VotingClassifier(estimators=[('lstm', lstm_model), ('conv', conv_model)])"
   ],
   "metadata": {
    "collapsed": false
   }
  },
  {
   "cell_type": "code",
   "source": [
    "# Train the model\n",
    "history = model.fit(\n",
    "    x_train,\n",
    "    y_train,\n",
    ").history"
   ],
   "metadata": {
    "colab": {
     "base_uri": "https://localhost:8080/"
    },
    "id": "U2BXNDyXLt5v",
    "outputId": "6a3b3096-e8f3-404b-957f-38e93a2f6b52"
   },
   "execution_count": 78,
   "outputs": [
    {
     "ename": "NotImplementedError",
     "evalue": "Multilabel and multi-output classification is not supported.",
     "output_type": "error",
     "traceback": [
      "\u001B[0;31m---------------------------------------------------------------------------\u001B[0m",
      "\u001B[0;31mNotImplementedError\u001B[0m                       Traceback (most recent call last)",
      "Cell \u001B[0;32mIn [78], line 2\u001B[0m\n\u001B[1;32m      1\u001B[0m \u001B[38;5;66;03m# Train the model\u001B[39;00m\n\u001B[0;32m----> 2\u001B[0m history \u001B[38;5;241m=\u001B[39m \u001B[43mmodel\u001B[49m\u001B[38;5;241;43m.\u001B[39;49m\u001B[43mfit\u001B[49m\u001B[43m(\u001B[49m\n\u001B[1;32m      3\u001B[0m \u001B[43m    \u001B[49m\u001B[43mx_train\u001B[49m\u001B[43m,\u001B[49m\n\u001B[1;32m      4\u001B[0m \u001B[43m    \u001B[49m\u001B[43my_train\u001B[49m\u001B[43m,\u001B[49m\n\u001B[1;32m      5\u001B[0m \u001B[43m)\u001B[49m\u001B[38;5;241m.\u001B[39mhistory\n",
      "File \u001B[0;32m~/Documents/1.Politecnico/AN2DL/challenges/AN2DL-Challenges/venv/lib/python3.8/site-packages/sklearn/ensemble/_voting.py:332\u001B[0m, in \u001B[0;36mVotingClassifier.fit\u001B[0;34m(self, X, y, sample_weight)\u001B[0m\n\u001B[1;32m    330\u001B[0m check_classification_targets(y)\n\u001B[1;32m    331\u001B[0m \u001B[38;5;28;01mif\u001B[39;00m \u001B[38;5;28misinstance\u001B[39m(y, np\u001B[38;5;241m.\u001B[39mndarray) \u001B[38;5;129;01mand\u001B[39;00m \u001B[38;5;28mlen\u001B[39m(y\u001B[38;5;241m.\u001B[39mshape) \u001B[38;5;241m>\u001B[39m \u001B[38;5;241m1\u001B[39m \u001B[38;5;129;01mand\u001B[39;00m y\u001B[38;5;241m.\u001B[39mshape[\u001B[38;5;241m1\u001B[39m] \u001B[38;5;241m>\u001B[39m \u001B[38;5;241m1\u001B[39m:\n\u001B[0;32m--> 332\u001B[0m     \u001B[38;5;28;01mraise\u001B[39;00m \u001B[38;5;167;01mNotImplementedError\u001B[39;00m(\n\u001B[1;32m    333\u001B[0m         \u001B[38;5;124m\"\u001B[39m\u001B[38;5;124mMultilabel and multi-output classification is not supported.\u001B[39m\u001B[38;5;124m\"\u001B[39m\n\u001B[1;32m    334\u001B[0m     )\n\u001B[1;32m    336\u001B[0m check_scalar(\n\u001B[1;32m    337\u001B[0m     \u001B[38;5;28mself\u001B[39m\u001B[38;5;241m.\u001B[39mflatten_transform,\n\u001B[1;32m    338\u001B[0m     name\u001B[38;5;241m=\u001B[39m\u001B[38;5;124m\"\u001B[39m\u001B[38;5;124mflatten_transform\u001B[39m\u001B[38;5;124m\"\u001B[39m,\n\u001B[1;32m    339\u001B[0m     target_type\u001B[38;5;241m=\u001B[39m(numbers\u001B[38;5;241m.\u001B[39mIntegral, np\u001B[38;5;241m.\u001B[39mbool_),\n\u001B[1;32m    340\u001B[0m )\n\u001B[1;32m    342\u001B[0m \u001B[38;5;28;01mif\u001B[39;00m \u001B[38;5;28mself\u001B[39m\u001B[38;5;241m.\u001B[39mvoting \u001B[38;5;129;01mnot\u001B[39;00m \u001B[38;5;129;01min\u001B[39;00m (\u001B[38;5;124m\"\u001B[39m\u001B[38;5;124msoft\u001B[39m\u001B[38;5;124m\"\u001B[39m, \u001B[38;5;124m\"\u001B[39m\u001B[38;5;124mhard\u001B[39m\u001B[38;5;124m\"\u001B[39m):\n",
      "\u001B[0;31mNotImplementedError\u001B[0m: Multilabel and multi-output classification is not supported."
     ]
    }
   ]
  },
  {
   "cell_type": "code",
   "source": [
    "# Predict the test set with the model\n",
    "predictions = model.predict(x_test)\n",
    "predictions.shape\n",
    "# Compute the confusion matrix\n",
    "cm = confusion_matrix(np.argmax(y_test, axis=-1), np.argmax(predictions, axis=-1))\n",
    "\n",
    "# Compute the classification metrics\n",
    "accuracy = accuracy_score(np.argmax(y_test, axis=-1), np.argmax(predictions, axis=-1))\n",
    "precision = precision_score(np.argmax(y_test, axis=-1), np.argmax(predictions, axis=-1), average='macro')\n",
    "recall = recall_score(np.argmax(y_test, axis=-1), np.argmax(predictions, axis=-1), average='macro')\n",
    "f1 = f1_score(np.argmax(y_test, axis=-1), np.argmax(predictions, axis=-1), average='macro')\n",
    "print('Accuracy:', accuracy.round(4))\n",
    "print('Precision:', precision.round(4))\n",
    "print('Recall:', recall.round(4))\n",
    "print('F1:', f1.round(4))\n",
    "\n",
    "# Plot the confusion matrix\n",
    "plt.figure(figsize=(10, 8))\n",
    "sns.heatmap(cm.T, cmap='Blues', xticklabels=list(training_labels.keys()), yticklabels=list(training_labels.keys()))\n",
    "plt.xlabel('True labels')\n",
    "plt.ylabel('Predicted labels')\n",
    "plt.show()"
   ],
   "metadata": {
    "colab": {
     "base_uri": "https://localhost:8080/",
     "height": 732
    },
    "id": "jmxFr8p4L4_T",
    "outputId": "d27d3a05-c868-4aff-8725-defeab80d159"
   },
   "execution_count": 6,
   "outputs": [
    {
     "ename": "NameError",
     "evalue": "name 'model' is not defined",
     "output_type": "error",
     "traceback": [
      "\u001B[0;31m---------------------------------------------------------------------------\u001B[0m",
      "\u001B[0;31mNameError\u001B[0m                                 Traceback (most recent call last)",
      "Cell \u001B[0;32mIn [6], line 2\u001B[0m\n\u001B[1;32m      1\u001B[0m \u001B[38;5;66;03m# Predict the test set with the model\u001B[39;00m\n\u001B[0;32m----> 2\u001B[0m predictions \u001B[38;5;241m=\u001B[39m \u001B[43mmodel\u001B[49m\u001B[38;5;241m.\u001B[39mpredict(x_test)\n\u001B[1;32m      3\u001B[0m predictions\u001B[38;5;241m.\u001B[39mshape\n\u001B[1;32m      4\u001B[0m \u001B[38;5;66;03m# Compute the confusion matrix\u001B[39;00m\n",
      "\u001B[0;31mNameError\u001B[0m: name 'model' is not defined"
     ]
    }
   ]
  },
  {
   "cell_type": "code",
   "source": [],
   "metadata": {
    "id": "ZtJvgMrrM0vT"
   },
   "execution_count": null,
   "outputs": []
  },
  {
   "cell_type": "markdown",
   "source": [
    "### Bidirectional-LSTM"
   ],
   "metadata": {
    "id": "3-XQJ13UMwgY"
   }
  },
  {
   "cell_type": "code",
   "source": [
    "def build_BiLSTM_classifier(input_shape, classes):\n",
    "    # Build the neural network layer by layer\n",
    "    input_layer = tfkl.Input(shape=input_shape, name='Input')\n",
    "\n",
    "    # Feature extractor\n",
    "    bilstm = tfkl.Bidirectional(tfkl.LSTM(128, return_sequences=True))(input_layer)\n",
    "    bilstm = tfkl.Bidirectional(tfkl.LSTM(128, return_sequences=True))(bilstm)\n",
    "    bilstm = tfkl.Bidirectional(tfkl.LSTM(64))(bilstm)\n",
    "    dropout = tfkl.Dropout(.2, seed=seed)(bilstm)\n",
    "\n",
    "    # Classifier\n",
    "    classifier = tfkl.Dense(256, activation='relu')(dropout)\n",
    "    classifier = tfkl.Dropout(.2, seed=seed)(classifier)\n",
    "    output_layer = tfkl.Dense(classes, activation='softmax')(classifier)\n",
    "\n",
    "    # Connect input and output through the Model class\n",
    "    model = tfk.Model(inputs=input_layer, outputs=output_layer, name='model')\n",
    "\n",
    "    # Compile the model\n",
    "    model.compile(loss=tfk.losses.CategoricalCrossentropy(), optimizer=tfk.optimizers.Adam(), metrics='accuracy')\n",
    "\n",
    "    # Return the model\n",
    "    return model"
   ],
   "metadata": {
    "id": "7PU0-ekRM2qL"
   },
   "execution_count": 300,
   "outputs": []
  },
  {
   "cell_type": "code",
   "source": [
    "model = build_BiLSTM_classifier(input_shape, classes)\n",
    "model.summary()"
   ],
   "metadata": {
    "colab": {
     "base_uri": "https://localhost:8080/"
    },
    "id": "auQ5uKFnM7TX",
    "outputId": "3adc734b-cebd-48d2-df3d-432798799dda"
   },
   "execution_count": 301,
   "outputs": [
    {
     "name": "stdout",
     "output_type": "stream",
     "text": [
      "Model: \"model\"\n",
      "_________________________________________________________________\n",
      " Layer (type)                Output Shape              Param #   \n",
      "=================================================================\n",
      " Input (InputLayer)          [(None, 36, 6)]           0         \n",
      "                                                                 \n",
      " bidirectional_3 (Bidirectio  (None, 36, 256)          138240    \n",
      " nal)                                                            \n",
      "                                                                 \n",
      " bidirectional_4 (Bidirectio  (None, 36, 256)          394240    \n",
      " nal)                                                            \n",
      "                                                                 \n",
      " bidirectional_5 (Bidirectio  (None, 128)              164352    \n",
      " nal)                                                            \n",
      "                                                                 \n",
      " dropout_20 (Dropout)        (None, 128)               0         \n",
      "                                                                 \n",
      " dense_24 (Dense)            (None, 256)               33024     \n",
      "                                                                 \n",
      " dropout_21 (Dropout)        (None, 256)               0         \n",
      "                                                                 \n",
      " dense_25 (Dense)            (None, 12)                3084      \n",
      "                                                                 \n",
      "=================================================================\n",
      "Total params: 732,940\n",
      "Trainable params: 732,940\n",
      "Non-trainable params: 0\n",
      "_________________________________________________________________\n"
     ]
    }
   ]
  },
  {
   "cell_type": "code",
   "source": [
    "# Train the model\n",
    "history = model.fit(\n",
    "    x=x_train,\n",
    "    y=y_train,\n",
    "    batch_size=batch_size,\n",
    "    epochs=epochs,\n",
    "    validation_split=.1,\n",
    "    callbacks=[\n",
    "        tfk.callbacks.EarlyStopping(monitor='val_accuracy', mode='max', patience=30, restore_best_weights=True),\n",
    "        tfk.callbacks.ReduceLROnPlateau(monitor='val_accuracy', mode='max', patience=5, factor=0.5, min_lr=1e-5)\n",
    "    ]\n",
    ").history"
   ],
   "metadata": {
    "colab": {
     "base_uri": "https://localhost:8080/"
    },
    "id": "hbHxS6uPM9Le",
    "outputId": "9c0b5ee0-135a-4b6f-f5b3-def056e9cb00"
   },
   "execution_count": 302,
   "outputs": [
    {
     "name": "stdout",
     "output_type": "stream",
     "text": [
      "Epoch 1/200\n"
     ]
    },
    {
     "name": "stderr",
     "output_type": "stream",
     "text": [
      "2022-12-12 19:38:52.800049: I tensorflow/core/grappler/optimizers/custom_graph_optimizer_registry.cc:114] Plugin optimizer for device_type GPU is enabled.\n",
      "2022-12-12 19:38:53.134598: I tensorflow/core/grappler/optimizers/custom_graph_optimizer_registry.cc:114] Plugin optimizer for device_type GPU is enabled.\n",
      "2022-12-12 19:38:53.134638: I tensorflow/core/grappler/optimizers/custom_graph_optimizer_registry.cc:114] Plugin optimizer for device_type GPU is enabled.\n",
      "2022-12-12 19:38:53.302474: I tensorflow/core/grappler/optimizers/custom_graph_optimizer_registry.cc:114] Plugin optimizer for device_type GPU is enabled.\n",
      "2022-12-12 19:38:53.423981: I tensorflow/core/grappler/optimizers/custom_graph_optimizer_registry.cc:114] Plugin optimizer for device_type GPU is enabled.\n",
      "2022-12-12 19:38:53.615116: I tensorflow/core/grappler/optimizers/custom_graph_optimizer_registry.cc:114] Plugin optimizer for device_type GPU is enabled.\n",
      "2022-12-12 19:38:53.631122: I tensorflow/core/grappler/optimizers/custom_graph_optimizer_registry.cc:114] Plugin optimizer for device_type GPU is enabled.\n",
      "2022-12-12 19:38:53.891684: I tensorflow/core/grappler/optimizers/custom_graph_optimizer_registry.cc:114] Plugin optimizer for device_type GPU is enabled.\n",
      "2022-12-12 19:38:53.907514: I tensorflow/core/grappler/optimizers/custom_graph_optimizer_registry.cc:114] Plugin optimizer for device_type GPU is enabled.\n",
      "2022-12-12 19:38:54.316255: I tensorflow/core/grappler/optimizers/custom_graph_optimizer_registry.cc:114] Plugin optimizer for device_type GPU is enabled.\n",
      "2022-12-12 19:38:54.339416: I tensorflow/core/grappler/optimizers/custom_graph_optimizer_registry.cc:114] Plugin optimizer for device_type GPU is enabled.\n",
      "2022-12-12 19:38:54.707845: I tensorflow/core/grappler/optimizers/custom_graph_optimizer_registry.cc:114] Plugin optimizer for device_type GPU is enabled.\n",
      "2022-12-12 19:38:54.727686: I tensorflow/core/grappler/optimizers/custom_graph_optimizer_registry.cc:114] Plugin optimizer for device_type GPU is enabled.\n"
     ]
    },
    {
     "name": "stdout",
     "output_type": "stream",
     "text": [
      "41/41 [==============================] - ETA: 0s - loss: 2.0191 - accuracy: 0.3544"
     ]
    },
    {
     "name": "stderr",
     "output_type": "stream",
     "text": [
      "2022-12-12 19:39:00.703929: I tensorflow/core/grappler/optimizers/custom_graph_optimizer_registry.cc:114] Plugin optimizer for device_type GPU is enabled.\n",
      "2022-12-12 19:39:00.834830: I tensorflow/core/grappler/optimizers/custom_graph_optimizer_registry.cc:114] Plugin optimizer for device_type GPU is enabled.\n",
      "2022-12-12 19:39:00.843495: I tensorflow/core/grappler/optimizers/custom_graph_optimizer_registry.cc:114] Plugin optimizer for device_type GPU is enabled.\n",
      "2022-12-12 19:39:01.004557: I tensorflow/core/grappler/optimizers/custom_graph_optimizer_registry.cc:114] Plugin optimizer for device_type GPU is enabled.\n",
      "2022-12-12 19:39:01.013282: I tensorflow/core/grappler/optimizers/custom_graph_optimizer_registry.cc:114] Plugin optimizer for device_type GPU is enabled.\n",
      "2022-12-12 19:39:01.181292: I tensorflow/core/grappler/optimizers/custom_graph_optimizer_registry.cc:114] Plugin optimizer for device_type GPU is enabled.\n",
      "2022-12-12 19:39:01.191254: I tensorflow/core/grappler/optimizers/custom_graph_optimizer_registry.cc:114] Plugin optimizer for device_type GPU is enabled.\n"
     ]
    },
    {
     "name": "stdout",
     "output_type": "stream",
     "text": [
      "41/41 [==============================] - 12s 172ms/step - loss: 2.0191 - accuracy: 0.3544 - val_loss: 1.6861 - val_accuracy: 0.4521 - lr: 0.0010\n",
      "Epoch 2/200\n",
      "41/41 [==============================] - 4s 89ms/step - loss: 1.6565 - accuracy: 0.4285 - val_loss: 1.5348 - val_accuracy: 0.5051 - lr: 0.0010\n",
      "Epoch 3/200\n",
      "41/41 [==============================] - 4s 87ms/step - loss: 1.5245 - accuracy: 0.4705 - val_loss: 1.4584 - val_accuracy: 0.5360 - lr: 0.0010\n",
      "Epoch 4/200\n",
      "41/41 [==============================] - 4s 99ms/step - loss: 1.4548 - accuracy: 0.4882 - val_loss: 1.4107 - val_accuracy: 0.5462 - lr: 0.0010\n",
      "Epoch 5/200\n",
      "41/41 [==============================] - 4s 88ms/step - loss: 1.3972 - accuracy: 0.4987 - val_loss: 1.4095 - val_accuracy: 0.5308 - lr: 0.0010\n",
      "Epoch 6/200\n",
      "41/41 [==============================] - 3s 85ms/step - loss: 1.3546 - accuracy: 0.5158 - val_loss: 1.3105 - val_accuracy: 0.5599 - lr: 0.0010\n",
      "Epoch 7/200\n",
      "41/41 [==============================] - 3s 85ms/step - loss: 1.3160 - accuracy: 0.5206 - val_loss: 1.2927 - val_accuracy: 0.5565 - lr: 0.0010\n",
      "Epoch 8/200\n",
      "41/41 [==============================] - 3s 85ms/step - loss: 1.2654 - accuracy: 0.5467 - val_loss: 1.2413 - val_accuracy: 0.5719 - lr: 0.0010\n",
      "Epoch 9/200\n",
      "41/41 [==============================] - 4s 87ms/step - loss: 1.2313 - accuracy: 0.5593 - val_loss: 1.2733 - val_accuracy: 0.5668 - lr: 0.0010\n",
      "Epoch 10/200\n",
      "41/41 [==============================] - 4s 87ms/step - loss: 1.2166 - accuracy: 0.5631 - val_loss: 1.2184 - val_accuracy: 0.5753 - lr: 0.0010\n",
      "Epoch 11/200\n",
      "41/41 [==============================] - 4s 88ms/step - loss: 1.1752 - accuracy: 0.5783 - val_loss: 1.2343 - val_accuracy: 0.5873 - lr: 0.0010\n",
      "Epoch 12/200\n",
      "41/41 [==============================] - 4s 87ms/step - loss: 1.1212 - accuracy: 0.5985 - val_loss: 1.1349 - val_accuracy: 0.6062 - lr: 0.0010\n",
      "Epoch 13/200\n",
      "41/41 [==============================] - 4s 86ms/step - loss: 1.1039 - accuracy: 0.6029 - val_loss: 1.1247 - val_accuracy: 0.6062 - lr: 0.0010\n",
      "Epoch 14/200\n",
      "41/41 [==============================] - 4s 88ms/step - loss: 1.0535 - accuracy: 0.6248 - val_loss: 1.0895 - val_accuracy: 0.6404 - lr: 0.0010\n",
      "Epoch 15/200\n",
      "41/41 [==============================] - 4s 86ms/step - loss: 1.0260 - accuracy: 0.6315 - val_loss: 1.1202 - val_accuracy: 0.6147 - lr: 0.0010\n",
      "Epoch 16/200\n",
      "41/41 [==============================] - 4s 88ms/step - loss: 0.9826 - accuracy: 0.6477 - val_loss: 1.1317 - val_accuracy: 0.6045 - lr: 0.0010\n",
      "Epoch 17/200\n",
      "41/41 [==============================] - 4s 88ms/step - loss: 0.9656 - accuracy: 0.6555 - val_loss: 1.1253 - val_accuracy: 0.6199 - lr: 0.0010\n",
      "Epoch 18/200\n",
      "41/41 [==============================] - 3s 85ms/step - loss: 0.9053 - accuracy: 0.6688 - val_loss: 1.0254 - val_accuracy: 0.6353 - lr: 0.0010\n",
      "Epoch 19/200\n",
      "41/41 [==============================] - 4s 87ms/step - loss: 0.8781 - accuracy: 0.6869 - val_loss: 0.9973 - val_accuracy: 0.6541 - lr: 0.0010\n",
      "Epoch 20/200\n",
      "41/41 [==============================] - 4s 86ms/step - loss: 0.8524 - accuracy: 0.6961 - val_loss: 1.0125 - val_accuracy: 0.6421 - lr: 0.0010\n",
      "Epoch 21/200\n",
      "41/41 [==============================] - 4s 86ms/step - loss: 0.8101 - accuracy: 0.7117 - val_loss: 0.9785 - val_accuracy: 0.6695 - lr: 0.0010\n",
      "Epoch 22/200\n",
      "41/41 [==============================] - 4s 89ms/step - loss: 0.7686 - accuracy: 0.7229 - val_loss: 0.9251 - val_accuracy: 0.7089 - lr: 0.0010\n",
      "Epoch 23/200\n",
      "41/41 [==============================] - 4s 87ms/step - loss: 0.7480 - accuracy: 0.7348 - val_loss: 0.9919 - val_accuracy: 0.6661 - lr: 0.0010\n",
      "Epoch 24/200\n",
      "41/41 [==============================] - 4s 87ms/step - loss: 0.7322 - accuracy: 0.7464 - val_loss: 0.9436 - val_accuracy: 0.6781 - lr: 0.0010\n",
      "Epoch 25/200\n",
      "41/41 [==============================] - 4s 90ms/step - loss: 0.7108 - accuracy: 0.7462 - val_loss: 0.9032 - val_accuracy: 0.7140 - lr: 0.0010\n",
      "Epoch 26/200\n",
      "41/41 [==============================] - 4s 90ms/step - loss: 0.6568 - accuracy: 0.7654 - val_loss: 0.9052 - val_accuracy: 0.7140 - lr: 0.0010\n",
      "Epoch 27/200\n",
      "41/41 [==============================] - 4s 88ms/step - loss: 0.6080 - accuracy: 0.7854 - val_loss: 0.8744 - val_accuracy: 0.7312 - lr: 0.0010\n",
      "Epoch 28/200\n",
      "41/41 [==============================] - 4s 93ms/step - loss: 0.6031 - accuracy: 0.7833 - val_loss: 0.8602 - val_accuracy: 0.7295 - lr: 0.0010\n",
      "Epoch 29/200\n",
      "41/41 [==============================] - 4s 88ms/step - loss: 0.5561 - accuracy: 0.8054 - val_loss: 0.9197 - val_accuracy: 0.7295 - lr: 0.0010\n",
      "Epoch 30/200\n",
      "41/41 [==============================] - 4s 89ms/step - loss: 0.5217 - accuracy: 0.8203 - val_loss: 0.9199 - val_accuracy: 0.7158 - lr: 0.0010\n",
      "Epoch 31/200\n",
      "41/41 [==============================] - 4s 92ms/step - loss: 0.5054 - accuracy: 0.8239 - val_loss: 0.8453 - val_accuracy: 0.7397 - lr: 0.0010\n",
      "Epoch 32/200\n",
      "41/41 [==============================] - 4s 92ms/step - loss: 0.4602 - accuracy: 0.8413 - val_loss: 0.7950 - val_accuracy: 0.7688 - lr: 0.0010\n",
      "Epoch 33/200\n",
      "41/41 [==============================] - 4s 92ms/step - loss: 0.4371 - accuracy: 0.8457 - val_loss: 0.8977 - val_accuracy: 0.7483 - lr: 0.0010\n",
      "Epoch 34/200\n",
      "41/41 [==============================] - 4s 85ms/step - loss: 0.4432 - accuracy: 0.8426 - val_loss: 0.7989 - val_accuracy: 0.7671 - lr: 0.0010\n",
      "Epoch 35/200\n",
      "41/41 [==============================] - 4s 86ms/step - loss: 0.3908 - accuracy: 0.8657 - val_loss: 0.8464 - val_accuracy: 0.7568 - lr: 0.0010\n",
      "Epoch 36/200\n",
      "41/41 [==============================] - 4s 95ms/step - loss: 0.3745 - accuracy: 0.8657 - val_loss: 0.7718 - val_accuracy: 0.7911 - lr: 0.0010\n",
      "Epoch 37/200\n",
      "41/41 [==============================] - 4s 88ms/step - loss: 0.3523 - accuracy: 0.8821 - val_loss: 0.8356 - val_accuracy: 0.7774 - lr: 0.0010\n",
      "Epoch 38/200\n",
      "41/41 [==============================] - 4s 90ms/step - loss: 0.3404 - accuracy: 0.8819 - val_loss: 0.8116 - val_accuracy: 0.7705 - lr: 0.0010\n",
      "Epoch 39/200\n",
      "41/41 [==============================] - 4s 88ms/step - loss: 0.3641 - accuracy: 0.8754 - val_loss: 0.8433 - val_accuracy: 0.7671 - lr: 0.0010\n",
      "Epoch 40/200\n",
      "41/41 [==============================] - 4s 90ms/step - loss: 0.3641 - accuracy: 0.8706 - val_loss: 0.8104 - val_accuracy: 0.7705 - lr: 0.0010\n",
      "Epoch 41/200\n",
      "41/41 [==============================] - 4s 87ms/step - loss: 0.3211 - accuracy: 0.8849 - val_loss: 0.8024 - val_accuracy: 0.7911 - lr: 0.0010\n",
      "Epoch 42/200\n",
      "41/41 [==============================] - 3s 85ms/step - loss: 0.2410 - accuracy: 0.9224 - val_loss: 0.7527 - val_accuracy: 0.8168 - lr: 5.0000e-04\n",
      "Epoch 43/200\n",
      "41/41 [==============================] - 4s 88ms/step - loss: 0.1805 - accuracy: 0.9426 - val_loss: 0.7704 - val_accuracy: 0.8219 - lr: 5.0000e-04\n",
      "Epoch 44/200\n",
      "41/41 [==============================] - 4s 93ms/step - loss: 0.1423 - accuracy: 0.9566 - val_loss: 0.7676 - val_accuracy: 0.8271 - lr: 5.0000e-04\n",
      "Epoch 45/200\n",
      "41/41 [==============================] - 4s 99ms/step - loss: 0.1361 - accuracy: 0.9562 - val_loss: 0.7924 - val_accuracy: 0.8305 - lr: 5.0000e-04\n",
      "Epoch 46/200\n",
      "41/41 [==============================] - 4s 95ms/step - loss: 0.1210 - accuracy: 0.9649 - val_loss: 0.7819 - val_accuracy: 0.8305 - lr: 5.0000e-04\n",
      "Epoch 47/200\n",
      "41/41 [==============================] - 4s 95ms/step - loss: 0.1088 - accuracy: 0.9663 - val_loss: 0.8520 - val_accuracy: 0.8236 - lr: 5.0000e-04\n",
      "Epoch 48/200\n",
      "41/41 [==============================] - 4s 93ms/step - loss: 0.1093 - accuracy: 0.9649 - val_loss: 0.8396 - val_accuracy: 0.8219 - lr: 5.0000e-04\n",
      "Epoch 49/200\n",
      "41/41 [==============================] - 4s 96ms/step - loss: 0.1001 - accuracy: 0.9680 - val_loss: 0.8296 - val_accuracy: 0.8305 - lr: 5.0000e-04\n",
      "Epoch 50/200\n",
      "41/41 [==============================] - 4s 99ms/step - loss: 0.0969 - accuracy: 0.9676 - val_loss: 0.8539 - val_accuracy: 0.8442 - lr: 5.0000e-04\n",
      "Epoch 51/200\n",
      "41/41 [==============================] - 4s 99ms/step - loss: 0.0904 - accuracy: 0.9739 - val_loss: 0.8891 - val_accuracy: 0.8288 - lr: 5.0000e-04\n",
      "Epoch 52/200\n",
      "41/41 [==============================] - 4s 93ms/step - loss: 0.1059 - accuracy: 0.9667 - val_loss: 0.9873 - val_accuracy: 0.8151 - lr: 5.0000e-04\n",
      "Epoch 53/200\n",
      "41/41 [==============================] - 4s 94ms/step - loss: 0.1263 - accuracy: 0.9623 - val_loss: 0.9511 - val_accuracy: 0.8356 - lr: 5.0000e-04\n",
      "Epoch 54/200\n",
      "41/41 [==============================] - 4s 97ms/step - loss: 0.0878 - accuracy: 0.9733 - val_loss: 0.9247 - val_accuracy: 0.8373 - lr: 5.0000e-04\n",
      "Epoch 55/200\n",
      "41/41 [==============================] - 4s 93ms/step - loss: 0.0727 - accuracy: 0.9790 - val_loss: 0.9273 - val_accuracy: 0.8356 - lr: 5.0000e-04\n",
      "Epoch 56/200\n",
      "41/41 [==============================] - 4s 94ms/step - loss: 0.0586 - accuracy: 0.9830 - val_loss: 0.9702 - val_accuracy: 0.8390 - lr: 2.5000e-04\n",
      "Epoch 57/200\n",
      "41/41 [==============================] - 4s 93ms/step - loss: 0.0500 - accuracy: 0.9849 - val_loss: 1.0051 - val_accuracy: 0.8356 - lr: 2.5000e-04\n",
      "Epoch 58/200\n",
      "41/41 [==============================] - 4s 95ms/step - loss: 0.0446 - accuracy: 0.9882 - val_loss: 1.0036 - val_accuracy: 0.8322 - lr: 2.5000e-04\n",
      "Epoch 59/200\n",
      "41/41 [==============================] - 4s 95ms/step - loss: 0.0455 - accuracy: 0.9876 - val_loss: 1.0048 - val_accuracy: 0.8390 - lr: 2.5000e-04\n",
      "Epoch 60/200\n",
      "41/41 [==============================] - 4s 93ms/step - loss: 0.0371 - accuracy: 0.9907 - val_loss: 1.0285 - val_accuracy: 0.8271 - lr: 2.5000e-04\n",
      "Epoch 61/200\n",
      "41/41 [==============================] - 4s 94ms/step - loss: 0.0347 - accuracy: 0.9920 - val_loss: 1.0250 - val_accuracy: 0.8288 - lr: 1.2500e-04\n",
      "Epoch 62/200\n",
      "41/41 [==============================] - 4s 93ms/step - loss: 0.0311 - accuracy: 0.9929 - val_loss: 1.0326 - val_accuracy: 0.8305 - lr: 1.2500e-04\n",
      "Epoch 63/200\n",
      "41/41 [==============================] - 4s 92ms/step - loss: 0.0296 - accuracy: 0.9924 - val_loss: 1.0467 - val_accuracy: 0.8322 - lr: 1.2500e-04\n",
      "Epoch 64/200\n",
      "41/41 [==============================] - 4s 94ms/step - loss: 0.0272 - accuracy: 0.9937 - val_loss: 1.0515 - val_accuracy: 0.8356 - lr: 1.2500e-04\n",
      "Epoch 65/200\n",
      "41/41 [==============================] - 4s 94ms/step - loss: 0.0272 - accuracy: 0.9943 - val_loss: 1.0601 - val_accuracy: 0.8339 - lr: 1.2500e-04\n",
      "Epoch 66/200\n",
      "41/41 [==============================] - 4s 96ms/step - loss: 0.0249 - accuracy: 0.9949 - val_loss: 1.0743 - val_accuracy: 0.8356 - lr: 6.2500e-05\n",
      "Epoch 67/200\n",
      "41/41 [==============================] - 4s 94ms/step - loss: 0.0262 - accuracy: 0.9950 - val_loss: 1.0805 - val_accuracy: 0.8322 - lr: 6.2500e-05\n",
      "Epoch 68/200\n",
      "41/41 [==============================] - 4s 95ms/step - loss: 0.0241 - accuracy: 0.9949 - val_loss: 1.0836 - val_accuracy: 0.8322 - lr: 6.2500e-05\n",
      "Epoch 69/200\n",
      "41/41 [==============================] - 4s 93ms/step - loss: 0.0266 - accuracy: 0.9937 - val_loss: 1.0793 - val_accuracy: 0.8356 - lr: 6.2500e-05\n",
      "Epoch 70/200\n",
      "41/41 [==============================] - 4s 95ms/step - loss: 0.0250 - accuracy: 0.9941 - val_loss: 1.0790 - val_accuracy: 0.8373 - lr: 6.2500e-05\n",
      "Epoch 71/200\n",
      "41/41 [==============================] - 4s 101ms/step - loss: 0.0243 - accuracy: 0.9933 - val_loss: 1.0769 - val_accuracy: 0.8373 - lr: 3.1250e-05\n",
      "Epoch 72/200\n",
      "41/41 [==============================] - 4s 99ms/step - loss: 0.0231 - accuracy: 0.9947 - val_loss: 1.0823 - val_accuracy: 0.8390 - lr: 3.1250e-05\n",
      "Epoch 73/200\n",
      "41/41 [==============================] - 4s 97ms/step - loss: 0.0217 - accuracy: 0.9945 - val_loss: 1.0892 - val_accuracy: 0.8322 - lr: 3.1250e-05\n",
      "Epoch 74/200\n",
      "41/41 [==============================] - 4s 105ms/step - loss: 0.0220 - accuracy: 0.9947 - val_loss: 1.0937 - val_accuracy: 0.8373 - lr: 3.1250e-05\n",
      "Epoch 75/200\n",
      "41/41 [==============================] - 4s 95ms/step - loss: 0.0226 - accuracy: 0.9954 - val_loss: 1.0946 - val_accuracy: 0.8339 - lr: 3.1250e-05\n",
      "Epoch 76/200\n",
      "41/41 [==============================] - 4s 96ms/step - loss: 0.0208 - accuracy: 0.9950 - val_loss: 1.0945 - val_accuracy: 0.8339 - lr: 1.5625e-05\n",
      "Epoch 77/200\n",
      "41/41 [==============================] - 4s 101ms/step - loss: 0.0209 - accuracy: 0.9960 - val_loss: 1.0964 - val_accuracy: 0.8373 - lr: 1.5625e-05\n",
      "Epoch 78/200\n",
      "41/41 [==============================] - 4s 101ms/step - loss: 0.0206 - accuracy: 0.9950 - val_loss: 1.1002 - val_accuracy: 0.8356 - lr: 1.5625e-05\n",
      "Epoch 79/200\n",
      "41/41 [==============================] - 4s 94ms/step - loss: 0.0214 - accuracy: 0.9950 - val_loss: 1.1017 - val_accuracy: 0.8339 - lr: 1.5625e-05\n",
      "Epoch 80/200\n",
      "41/41 [==============================] - 4s 95ms/step - loss: 0.0211 - accuracy: 0.9954 - val_loss: 1.1039 - val_accuracy: 0.8322 - lr: 1.5625e-05\n"
     ]
    }
   ]
  },
  {
   "cell_type": "code",
   "source": [
    "#model.save('Preprocessing-BiLSTM')"
   ],
   "metadata": {
    "colab": {
     "base_uri": "https://localhost:8080/"
    },
    "id": "j4pCl-UoNGEz",
    "outputId": "bfdf9e99-5f12-450f-d552-58bef436d56e"
   },
   "execution_count": 303,
   "outputs": []
  },
  {
   "cell_type": "code",
   "source": [
    "# Predict the test set with the model\n",
    "predictions = model.predict(x_test)\n",
    "predictions.shape\n",
    "# Compute the confusion matrix\n",
    "cm = confusion_matrix(np.argmax(y_test, axis=-1), np.argmax(predictions, axis=-1))\n",
    "\n",
    "# Compute the classification metrics\n",
    "accuracy = accuracy_score(np.argmax(y_test, axis=-1), np.argmax(predictions, axis=-1))\n",
    "precision = precision_score(np.argmax(y_test, axis=-1), np.argmax(predictions, axis=-1), average='macro')\n",
    "recall = recall_score(np.argmax(y_test, axis=-1), np.argmax(predictions, axis=-1), average='macro')\n",
    "f1 = f1_score(np.argmax(y_test, axis=-1), np.argmax(predictions, axis=-1), average='macro')\n",
    "print('Accuracy:', accuracy.round(4))\n",
    "print('Precision:', precision.round(4))\n",
    "print('Recall:', recall.round(4))\n",
    "print('F1:', f1.round(4))\n",
    "\n",
    "# Plot the confusion matrix\n",
    "plt.figure(figsize=(10, 8))\n",
    "sns.heatmap(cm.T, cmap='Blues', xticklabels=list(training_labels.keys()), yticklabels=list(training_labels.keys()))\n",
    "plt.xlabel('True labels')\n",
    "plt.ylabel('Predicted labels')\n",
    "plt.show()"
   ],
   "metadata": {
    "colab": {
     "base_uri": "https://localhost:8080/",
     "height": 732
    },
    "id": "XsWJflRNNO_H",
    "outputId": "23661c8f-bf19-441d-85d5-4ca826f233a1"
   },
   "execution_count": 305,
   "outputs": [
    {
     "name": "stdout",
     "output_type": "stream",
     "text": [
      "16/16 [==============================] - 1s 47ms/step\n",
      "Accuracy: 0.5134\n",
      "Precision: 0.5267\n",
      "Recall: 0.4317\n",
      "F1: 0.4572\n"
     ]
    },
    {
     "data": {
      "text/plain": "<Figure size 1000x800 with 2 Axes>",
      "image/png": "[encoded data removed]"
     },
     "metadata": {},
     "output_type": "display_data"
    }
   ]
  },
  {
   "cell_type": "markdown",
   "source": [
    "### HYBRID CNN-LSTM\n"
   ],
   "metadata": {
    "id": "6E3xArrAKkFk"
   }
  },
  {
   "cell_type": "code",
   "source": [
    "def build_Hybrid(input_shape, classes):\n",
    "    # Build the neural network layer by layer\n",
    "    input_layer = tfkl.Input(shape=input_shape, name='Input')\n",
    "\n",
    "    # Feature extractor\n",
    "    cnn = tfkl.Conv1D(256, 7, padding='same', activation='relu')(input_layer)\n",
    "    gap = tfkl.GlobalAveragePooling1D()(cnn)\n",
    "    dropout = tfkl.Dropout(.2, seed=seed)(gap)\n",
    "\n",
    "    lstm = tfkl.LSTM(128, return_sequences=True)(dropout)  #PRESERVE THE TEMPORAL DIMENSION (200, size of window)\n",
    "    lstm = tfkl.LSTM(128)(lstm)  #NOT PRESERVE TIME SINCE WE KEEP ONLY LAST ONE\n",
    "    dropout = tfkl.Dropout(.2, seed=seed)(lstm)\n",
    "\n",
    "    # IN OUTPUT OF LSTM: we have a tensor that represent the output of the memory cells (only of the last one!!!)\n",
    "    #LSTM CHAIN is like a feature extractor\n",
    "\n",
    "    # Classifier\n",
    "    classifier = tfkl.Dense(256, activation='relu')(dropout)\n",
    "    classifier = tfkl.Dropout(.2, seed=seed)(classifier)\n",
    "    output_layer = tfkl.Dense(classes, activation='softmax')(classifier)\n",
    "\n",
    "    # Connect input and output through the Model class\n",
    "    model = tfk.Model(inputs=input_layer, outputs=output_layer, name='model')\n",
    "\n",
    "    # Compile the model\n",
    "    model.compile(loss=tfk.losses.CategoricalCrossentropy(), optimizer=tfk.optimizers.Adam(), metrics='accuracy')\n",
    "\n",
    "    # Return the model\n",
    "    return model"
   ],
   "metadata": {
    "id": "TommGeo5Kpzk"
   },
   "execution_count": 66,
   "outputs": []
  },
  {
   "cell_type": "code",
   "execution_count": null,
   "outputs": [],
   "source": [],
   "metadata": {
    "collapsed": false
   }
  }
 ]
}
