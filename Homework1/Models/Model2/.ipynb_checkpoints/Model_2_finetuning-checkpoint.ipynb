{
 "cells": [
  {
   "cell_type": "code",
   "execution_count": 1,
   "metadata": {
    "colab": {
     "base_uri": "https://localhost:8080/"
    },
    "executionInfo": {
     "elapsed": 22336,
     "status": "ok",
     "timestamp": 1668281896669,
     "user": {
      "displayName": "nicola dean",
      "userId": "11994493267711046153"
     },
     "user_tz": -60
    },
    "id": "N2a5Nl9XnJbF",
    "outputId": "f6f7bce2-16c2-4a60-f2f2-20d20f597efe"
   },
   "outputs": [
    {
     "ename": "ModuleNotFoundError",
     "evalue": "No module named 'google.colab'",
     "output_type": "error",
     "traceback": [
      "\u001b[0;31m---------------------------------------------------------------------------\u001b[0m",
      "\u001b[0;31mModuleNotFoundError\u001b[0m                       Traceback (most recent call last)",
      "Cell \u001b[0;32mIn [1], line 1\u001b[0m\n\u001b[0;32m----> 1\u001b[0m \u001b[38;5;28;01mfrom\u001b[39;00m \u001b[38;5;21;01mgoogle\u001b[39;00m\u001b[38;5;21;01m.\u001b[39;00m\u001b[38;5;21;01mcolab\u001b[39;00m \u001b[38;5;28;01mimport\u001b[39;00m drive\n\u001b[1;32m      2\u001b[0m drive\u001b[38;5;241m.\u001b[39mmount(\u001b[38;5;124m'\u001b[39m\u001b[38;5;124m/gdrive\u001b[39m\u001b[38;5;124m'\u001b[39m)\n\u001b[1;32m      3\u001b[0m get_ipython()\u001b[38;5;241m.\u001b[39mrun_line_magic(\u001b[38;5;124m'\u001b[39m\u001b[38;5;124mcd\u001b[39m\u001b[38;5;124m'\u001b[39m, \u001b[38;5;124m'\u001b[39m\u001b[38;5;124m/gdrive/My Drive/ANNDL-H1/\u001b[39m\u001b[38;5;124m'\u001b[39m)\n",
      "\u001b[0;31mModuleNotFoundError\u001b[0m: No module named 'google.colab'"
     ]
    }
   ],
   "source": [
    "from google.colab import drive\n",
    "drive.mount('/gdrive')\n",
    "%cd /gdrive/My Drive/ANNDL-H1/"
   ]
  },
  {
   "cell_type": "markdown",
   "metadata": {},
   "source": [
    "### EfficientNetv2\n",
    "TOO slow to train\n",
    "\n",
    "### Xception\n",
    "Not good result, 60 max 70% (not tried to much)\n",
    "\n",
    "### Resnet50 v2\n"
   ]
  },
  {
   "cell_type": "code",
   "execution_count": 2,
   "metadata": {
    "colab": {
     "base_uri": "https://localhost:8080/"
    },
    "executionInfo": {
     "elapsed": 6778,
     "status": "ok",
     "timestamp": 1668281911808,
     "user": {
      "displayName": "nicola dean",
      "userId": "11994493267711046153"
     },
     "user_tz": -60
    },
    "id": "V_c1CVCEnRgk",
    "outputId": "8704caaa-3fed-422c-c875-49ef170ec265"
   },
   "outputs": [
    {
     "name": "stderr",
     "output_type": "stream",
     "text": [
      "2022-11-17 21:26:25.299069: I tensorflow/core/platform/cpu_feature_guard.cc:193] This TensorFlow binary is optimized with oneAPI Deep Neural Network Library (oneDNN) to use the following CPU instructions in performance-critical operations:  AVX2 FMA\n",
      "To enable them in other operations, rebuild TensorFlow with the appropriate compiler flags.\n",
      "2022-11-17 21:26:25.492326: E tensorflow/stream_executor/cuda/cuda_blas.cc:2981] Unable to register cuBLAS factory: Attempting to register factory for plugin cuBLAS when one has already been registered\n"
     ]
    },
    {
     "name": "stdout",
     "output_type": "stream",
     "text": [
      "2.10.1\n"
     ]
    }
   ],
   "source": [
    "import tensorflow as tf\n",
    "import numpy as np\n",
    "import os\n",
    "import random\n",
    "import pandas as pd\n",
    "import seaborn as sns\n",
    "import matplotlib as mpl\n",
    "import matplotlib.pyplot as plt\n",
    "from sklearn.model_selection import train_test_split\n",
    "from sklearn.metrics import accuracy_score, f1_score, precision_score, recall_score\n",
    "from sklearn.metrics import confusion_matrix\n",
    "from PIL import Image\n",
    "from tensorflow import keras\n",
    "from tensorflow.keras.layers import BatchNormalization\n",
    "#!pip install visualkeras\n",
    "import visualkeras\n",
    "tfk = tf.keras\n",
    "tfkl = tf.keras.layers\n",
    "print(tf.__version__)\n",
    "%load_ext autoreload\n",
    "%autoreload 2"
   ]
  },
  {
   "cell_type": "code",
   "execution_count": null,
   "metadata": {
    "id": "rLIqN898nLTz"
   },
   "outputs": [],
   "source": []
  },
  {
   "cell_type": "code",
   "execution_count": 3,
   "metadata": {
    "executionInfo": {
     "elapsed": 553,
     "status": "ok",
     "timestamp": 1668281944829,
     "user": {
      "displayName": "nicola dean",
      "userId": "11994493267711046153"
     },
     "user_tz": -60
    },
    "id": "--wLy_-wnJbJ"
   },
   "outputs": [],
   "source": [
    "import sys\n",
    "sys.path.append('../../../Utils/')\n",
    "from DatasetHelper import DatasetHelper\n",
    "from ModelHelper import ModelHelper"
   ]
  },
  {
   "cell_type": "markdown",
   "metadata": {
    "id": "YZaGIXUFnJbK"
   },
   "source": [
    "## Helper Configuration:\n",
    "Configure\n",
    " the helper classes by setting a seed and the root folder path"
   ]
  },
  {
   "cell_type": "code",
   "execution_count": 4,
   "metadata": {
    "executionInfo": {
     "elapsed": 223,
     "status": "ok",
     "timestamp": 1668281946401,
     "user": {
      "displayName": "nicola dean",
      "userId": "11994493267711046153"
     },
     "user_tz": -60
    },
    "id": "cFqSWNrtnJbL"
   },
   "outputs": [],
   "source": [
    "#Create Instances Of Utils Helper\n",
    "seed = 42\n",
    "labels = {0:'Species1', 1:'Species2', 2:'Species3', 3:'Species4',4:'Species5', 5:'Species6', 6:'Species7', 7:'Species8'}\n",
    "\n",
    "#Dataset Helper\n",
    "dataset_helper = DatasetHelper(\"../../\",42) #Take in input dataset folder and random seed\n",
    "\n",
    "#Model Helper\n",
    "#SAVE MODEL IN LOCAL, IF MODEL IS GOOD; COPY IT BY HAND TO good_model Folder\n",
    "model_helper   = ModelHelper(\"../../\",labels) #take in input local models folder and lables\n",
    "model_helper.create_seed(tf,seed);"
   ]
  },
  {
   "cell_type": "markdown",
   "metadata": {
    "id": "MoTqDd4FnJbM"
   },
   "source": [
    "# Dataset Loading and Preprocessing\n",
    "\n",
    "Load dataset and apply all the preprocessing operations\n",
    "- Splitting\n",
    "- Normalization\n",
    "- Augmentation"
   ]
  },
  {
   "cell_type": "code",
   "execution_count": 5,
   "metadata": {
    "colab": {
     "base_uri": "https://localhost:8080/"
    },
    "executionInfo": {
     "elapsed": 24597,
     "status": "ok",
     "timestamp": 1668283394890,
     "user": {
      "displayName": "nicola dean",
      "userId": "11994493267711046153"
     },
     "user_tz": -60
    },
    "id": "z8OUUq8rnJbM",
    "outputId": "dfa0c87f-0e93-4889-d3e5-c4fb10c0e2c9"
   },
   "outputs": [
    {
     "name": "stdout",
     "output_type": "stream",
     "text": [
      "Dataset Size3542\n",
      "Data Augmentation with data distribution\n",
      "Data distribution = [0.1354375 0.1213875 0.1220375 0.1222375 0.1214375 0.1339375 0.1211875\n",
      " 0.1223375]\n",
      "Class Size :  151, generating: 2708\n",
      "2544 images generated\n",
      "Class Size :  432, generating: 2427\n",
      "2320 images generated\n",
      "Class Size :  419, generating: 2440\n",
      "2287 images generated\n",
      "Class Size :  415, generating: 2444\n",
      "2427 images generated\n",
      "Class Size :  431, generating: 2428\n",
      "2315 images generated\n",
      "Class Size :  181, generating: 2678\n",
      "2513 images generated\n",
      "Class Size :  436, generating: 2423\n",
      "2340 images generated\n",
      "Class Size :  413, generating: 2446\n",
      "2417 images generated\n"
     ]
    }
   ],
   "source": [
    "#Load Dataset\n",
    "X,Y = dataset_helper.load_dataset_from_numpy()\n",
    "#X,Y = dataset_helper.load_Dataset(22)\n",
    "\n",
    "dataset_size = X.shape[0]\n",
    "print(\"Dataset Size\" + str(dataset_size))\n",
    "\n",
    "#SPLIT and NORMALIZE OUR DATASET\n",
    "X_train,X_test,X_val,Y_train,Y_test,Y_val = dataset_helper.split_and_normalize(X,Y,split_test=0.1,split_val=0.1,normalization_mode = 1)\n",
    "\n",
    "X_t_original = X_train\n",
    "Y_t_original = Y_train\n",
    "\n",
    "#GENERATE 3000 new images\n",
    "#X_train,Y_train = dataset_helper.apply_data_augmentation_with_classes_distribution(X_train,Y_train,1000,[0.3,0.05,0.05,0.05,0.05,0.3,0.05,0.05])\n",
    "X_train,Y_train = dataset_helper.apply_data_augmentation_normalized(X_train,Y_train,20000, disable_tqdm=True,\n",
    "                                rotation_range=360,\n",
    "                                width_shift_range=0.3,\n",
    "                                height_shift_range=0.3,\n",
    "                                zoom_range=0.9,\n",
    "                                fill_mode=\"reflect\",\n",
    "                                horizontal_flip=True,\n",
    "                                vertical_flip=True,\n",
    "                                brightness_range=(0.5, 1.1))\n"
   ]
  },
  {
   "cell_type": "code",
   "execution_count": null,
   "metadata": {
    "colab": {
     "base_uri": "https://localhost:8080/",
     "height": 1000,
     "output_embedded_package_id": "15SldF3ks_HT3UNOwiQ5Pc9v0cAe1OyXF"
    },
    "executionInfo": {
     "elapsed": 10112,
     "status": "ok",
     "timestamp": 1668282021810,
     "user": {
      "displayName": "nicola dean",
      "userId": "11994493267711046153"
     },
     "user_tz": -60
    },
    "id": "czdh8OGwx02v",
    "outputId": "8a01e378-25a1-43d7-cea2-dce28fc44f61"
   },
   "outputs": [],
   "source": [
    "start = 3000\n",
    "fig = plt.figure(figsize=(20, 20))\n",
    "columns = 10\n",
    "rows = 10\n",
    "classe = 2\n",
    "filter_classes = False\n",
    "for i in range(1, columns*rows +1):\n",
    "    if not (filter_classes) or np.argmax(Y_train[start+i]) == classe:\n",
    "        subplot = fig.add_subplot(rows, columns, i)\n",
    "        subplot.title.set_text('Label: '+ labels[np.argmax(Y_train[start+i])])\n",
    "        plt.imshow((X_train[start+i]*255).astype(np.uint8))\n",
    "    else:\n",
    "        i=i-1\n",
    "fig.tight_layout()\n",
    "plt.show()"
   ]
  },
  {
   "cell_type": "code",
   "execution_count": null,
   "metadata": {},
   "outputs": [],
   "source": [
    "dataset_helper.plot_samples_distribution(Y)\n",
    "dataset_helper.plot_samples_distribution(Y_train)"
   ]
  },
  {
   "cell_type": "markdown",
   "metadata": {
    "id": "ng5TRirrnJbN"
   },
   "source": [
    "# Define the model Structure\n",
    "Create a function that declare all the model components"
   ]
  },
  {
   "cell_type": "code",
   "execution_count": 6,
   "metadata": {},
   "outputs": [],
   "source": [
    "def stackDenseLayer(layer_name,last_layer,size=256, activation='relu', drop_out = False,drop_rate=0.5,GlorthUniform=False,batch_normalization=False):\n",
    "    initializer = tfk.initializers.HeUniform(seed)\n",
    "    if GlorthUniform:\n",
    "        initializer = tfk.initializers.GlorotUniform(seed)\n",
    "\n",
    "    dense_layer = tfkl.Dense(\n",
    "        units=size, \n",
    "        name=layer_name, \n",
    "        activation=activation,\n",
    "        kernel_initializer = initializer #Can Be HeUniform(seed) or GlorotUniform(seed)\n",
    "    )(last_layer)\n",
    "\n",
    "    #If desired, apply batch normalization\n",
    "    if batch_normalization:\n",
    "        dense_layer = tfkl.BatchNormalization(\n",
    "            axis=-1,\n",
    "            momentum=0.99,\n",
    "            epsilon=0.001,\n",
    "            center=True,\n",
    "            scale=True,\n",
    "            beta_initializer=\"zeros\",\n",
    "            gamma_initializer=\"ones\",\n",
    "            moving_mean_initializer=\"zeros\",\n",
    "            moving_variance_initializer=\"ones\"\n",
    "        )(dense_layer)\n",
    "    #If desired add droppout\n",
    "    if drop_out:\n",
    "        dense_layer = tfkl.Dropout(drop_rate, seed=seed)(dense_layer)\n",
    "    \n",
    "    return dense_layer\n",
    "\n"
   ]
  },
  {
   "cell_type": "code",
   "execution_count": 7,
   "metadata": {},
   "outputs": [],
   "source": [
    "def stackConvolutionLayer(layer_name,last_layer,kernel_size = (3,3), num_of_filter = 32,strides= (1,1),activation = 'relu',padding = 'same',pooling_size=(2,2),batch_normalization=False,num_of_stacked_conv=1):\n",
    "    layer_activation = activation\n",
    "\n",
    "    for i in range(0,num_of_stacked_conv):\n",
    "        curr_name = layer_name + \"_conv\" + str(i)\n",
    "        \n",
    "        if batch_normalization and i == num_of_stacked_conv - 1:\n",
    "            activation = None\n",
    "\n",
    "        curr_conv =tfkl.Conv2D(\n",
    "            filters=num_of_filter,\n",
    "            kernel_size=kernel_size,\n",
    "            strides = strides,\n",
    "            padding = padding,\n",
    "            activation = layer_activation,\n",
    "            name=curr_name,\n",
    "            kernel_initializer = tfk.initializers.HeUniform(seed)\n",
    "        )(last_layer)\n",
    "\n",
    "        if batch_normalization and i == num_of_stacked_conv-1: #Batch  true and last conv in layer\n",
    "            batch = BatchNormalization()(curr_conv)\n",
    "            activation = tfkl.Activation(layer_activation)(batch)\n",
    "            curr_conv = activation\n",
    "\n",
    "        last_layer = curr_conv\n",
    "    \n",
    "        pool = tfkl.MaxPooling2D(pool_size = pooling_size)(last_layer)\n",
    "\n",
    "    return pool"
   ]
  },
  {
   "cell_type": "code",
   "execution_count": 8,
   "metadata": {},
   "outputs": [],
   "source": [
    "def fineTuning(keras_model,input_shape,input_layer,num_of_freezed_layers = 0):\n",
    "\n",
    "    base_model = keras_model(include_top=False,weights=\"imagenet\",input_shape=input_shape)\n",
    "    base_model.trainable = True\n",
    "    \n",
    "    for i, layer in enumerate(base_model.layers[:num_of_freezed_layers]):\n",
    "        layer.trainable=False\n",
    "\n",
    "    base_model = base_model(input_layer)\n",
    "    \n",
    "    return base_model"
   ]
  },
  {
   "cell_type": "code",
   "execution_count": 9,
   "metadata": {},
   "outputs": [],
   "source": [
    "import keras.backend as K\n",
    "def F1(y_true, y_pred): #taken from old keras source code\n",
    "    true_positives = K.sum(K.round(K.clip(y_true * y_pred, 0, 1)))\n",
    "    possible_positives = K.sum(K.round(K.clip(y_true, 0, 1)))\n",
    "    predicted_positives = K.sum(K.round(K.clip(y_pred, 0, 1)))\n",
    "    precision = true_positives / (predicted_positives + K.epsilon())\n",
    "    recall = true_positives / (possible_positives + K.epsilon())\n",
    "    f1_val = 2*(precision*recall)/(precision+recall+K.epsilon())\n",
    "    return f1_val"
   ]
  },
  {
   "cell_type": "code",
   "execution_count": 10,
   "metadata": {},
   "outputs": [
    {
     "name": "stderr",
     "output_type": "stream",
     "text": [
      "2022-11-17 21:28:29.573475: I tensorflow/stream_executor/cuda/cuda_gpu_executor.cc:980] successful NUMA node read from SysFS had negative value (-1), but there must be at least one NUMA node, so returning NUMA node zero\n",
      "2022-11-17 21:28:29.577829: I tensorflow/stream_executor/cuda/cuda_gpu_executor.cc:980] successful NUMA node read from SysFS had negative value (-1), but there must be at least one NUMA node, so returning NUMA node zero\n",
      "2022-11-17 21:28:29.578686: I tensorflow/stream_executor/cuda/cuda_gpu_executor.cc:980] successful NUMA node read from SysFS had negative value (-1), but there must be at least one NUMA node, so returning NUMA node zero\n",
      "2022-11-17 21:28:29.579914: I tensorflow/core/platform/cpu_feature_guard.cc:193] This TensorFlow binary is optimized with oneAPI Deep Neural Network Library (oneDNN) to use the following CPU instructions in performance-critical operations:  AVX2 FMA\n",
      "To enable them in other operations, rebuild TensorFlow with the appropriate compiler flags.\n",
      "2022-11-17 21:28:29.580321: I tensorflow/stream_executor/cuda/cuda_gpu_executor.cc:980] successful NUMA node read from SysFS had negative value (-1), but there must be at least one NUMA node, so returning NUMA node zero\n",
      "2022-11-17 21:28:29.581198: I tensorflow/stream_executor/cuda/cuda_gpu_executor.cc:980] successful NUMA node read from SysFS had negative value (-1), but there must be at least one NUMA node, so returning NUMA node zero\n",
      "2022-11-17 21:28:29.581993: I tensorflow/stream_executor/cuda/cuda_gpu_executor.cc:980] successful NUMA node read from SysFS had negative value (-1), but there must be at least one NUMA node, so returning NUMA node zero\n",
      "2022-11-17 21:28:30.299367: I tensorflow/stream_executor/cuda/cuda_gpu_executor.cc:980] successful NUMA node read from SysFS had negative value (-1), but there must be at least one NUMA node, so returning NUMA node zero\n",
      "2022-11-17 21:28:30.300251: I tensorflow/stream_executor/cuda/cuda_gpu_executor.cc:980] successful NUMA node read from SysFS had negative value (-1), but there must be at least one NUMA node, so returning NUMA node zero\n",
      "2022-11-17 21:28:30.301099: I tensorflow/stream_executor/cuda/cuda_gpu_executor.cc:980] successful NUMA node read from SysFS had negative value (-1), but there must be at least one NUMA node, so returning NUMA node zero\n",
      "2022-11-17 21:28:30.301849: I tensorflow/core/common_runtime/gpu/gpu_device.cc:1616] Created device /job:localhost/replica:0/task:0/device:GPU:0 with 10786 MB memory:  -> device: 0, name: Tesla K80, pci bus id: 0000:00:1e.0, compute capability: 3.7\n"
     ]
    },
    {
     "name": "stdout",
     "output_type": "stream",
     "text": [
      "Model: \"resnet50v2\"\n",
      "__________________________________________________________________________________________________\n",
      " Layer (type)                   Output Shape         Param #     Connected to                     \n",
      "==================================================================================================\n",
      " input_1 (InputLayer)           [(None, 96, 96, 3)]  0           []                               \n",
      "                                                                                                  \n",
      " conv1_pad (ZeroPadding2D)      (None, 102, 102, 3)  0           ['input_1[0][0]']                \n",
      "                                                                                                  \n",
      " conv1_conv (Conv2D)            (None, 48, 48, 64)   9472        ['conv1_pad[0][0]']              \n",
      "                                                                                                  \n",
      " pool1_pad (ZeroPadding2D)      (None, 50, 50, 64)   0           ['conv1_conv[0][0]']             \n",
      "                                                                                                  \n",
      " pool1_pool (MaxPooling2D)      (None, 24, 24, 64)   0           ['pool1_pad[0][0]']              \n",
      "                                                                                                  \n",
      " conv2_block1_preact_bn (BatchN  (None, 24, 24, 64)  256         ['pool1_pool[0][0]']             \n",
      " ormalization)                                                                                    \n",
      "                                                                                                  \n",
      " conv2_block1_preact_relu (Acti  (None, 24, 24, 64)  0           ['conv2_block1_preact_bn[0][0]'] \n",
      " vation)                                                                                          \n",
      "                                                                                                  \n",
      " conv2_block1_1_conv (Conv2D)   (None, 24, 24, 64)   4096        ['conv2_block1_preact_relu[0][0]'\n",
      "                                                                 ]                                \n",
      "                                                                                                  \n",
      " conv2_block1_1_bn (BatchNormal  (None, 24, 24, 64)  256         ['conv2_block1_1_conv[0][0]']    \n",
      " ization)                                                                                         \n",
      "                                                                                                  \n",
      " conv2_block1_1_relu (Activatio  (None, 24, 24, 64)  0           ['conv2_block1_1_bn[0][0]']      \n",
      " n)                                                                                               \n",
      "                                                                                                  \n",
      " conv2_block1_2_pad (ZeroPaddin  (None, 26, 26, 64)  0           ['conv2_block1_1_relu[0][0]']    \n",
      " g2D)                                                                                             \n",
      "                                                                                                  \n",
      " conv2_block1_2_conv (Conv2D)   (None, 24, 24, 64)   36864       ['conv2_block1_2_pad[0][0]']     \n",
      "                                                                                                  \n",
      " conv2_block1_2_bn (BatchNormal  (None, 24, 24, 64)  256         ['conv2_block1_2_conv[0][0]']    \n",
      " ization)                                                                                         \n",
      "                                                                                                  \n",
      " conv2_block1_2_relu (Activatio  (None, 24, 24, 64)  0           ['conv2_block1_2_bn[0][0]']      \n",
      " n)                                                                                               \n",
      "                                                                                                  \n",
      " conv2_block1_0_conv (Conv2D)   (None, 24, 24, 256)  16640       ['conv2_block1_preact_relu[0][0]'\n",
      "                                                                 ]                                \n",
      "                                                                                                  \n",
      " conv2_block1_3_conv (Conv2D)   (None, 24, 24, 256)  16640       ['conv2_block1_2_relu[0][0]']    \n",
      "                                                                                                  \n",
      " conv2_block1_out (Add)         (None, 24, 24, 256)  0           ['conv2_block1_0_conv[0][0]',    \n",
      "                                                                  'conv2_block1_3_conv[0][0]']    \n",
      "                                                                                                  \n",
      " conv2_block2_preact_bn (BatchN  (None, 24, 24, 256)  1024       ['conv2_block1_out[0][0]']       \n",
      " ormalization)                                                                                    \n",
      "                                                                                                  \n",
      " conv2_block2_preact_relu (Acti  (None, 24, 24, 256)  0          ['conv2_block2_preact_bn[0][0]'] \n",
      " vation)                                                                                          \n",
      "                                                                                                  \n",
      " conv2_block2_1_conv (Conv2D)   (None, 24, 24, 64)   16384       ['conv2_block2_preact_relu[0][0]'\n",
      "                                                                 ]                                \n",
      "                                                                                                  \n",
      " conv2_block2_1_bn (BatchNormal  (None, 24, 24, 64)  256         ['conv2_block2_1_conv[0][0]']    \n",
      " ization)                                                                                         \n",
      "                                                                                                  \n",
      " conv2_block2_1_relu (Activatio  (None, 24, 24, 64)  0           ['conv2_block2_1_bn[0][0]']      \n",
      " n)                                                                                               \n",
      "                                                                                                  \n",
      " conv2_block2_2_pad (ZeroPaddin  (None, 26, 26, 64)  0           ['conv2_block2_1_relu[0][0]']    \n",
      " g2D)                                                                                             \n",
      "                                                                                                  \n",
      " conv2_block2_2_conv (Conv2D)   (None, 24, 24, 64)   36864       ['conv2_block2_2_pad[0][0]']     \n",
      "                                                                                                  \n",
      " conv2_block2_2_bn (BatchNormal  (None, 24, 24, 64)  256         ['conv2_block2_2_conv[0][0]']    \n",
      " ization)                                                                                         \n",
      "                                                                                                  \n",
      " conv2_block2_2_relu (Activatio  (None, 24, 24, 64)  0           ['conv2_block2_2_bn[0][0]']      \n",
      " n)                                                                                               \n",
      "                                                                                                  \n",
      " conv2_block2_3_conv (Conv2D)   (None, 24, 24, 256)  16640       ['conv2_block2_2_relu[0][0]']    \n",
      "                                                                                                  \n",
      " conv2_block2_out (Add)         (None, 24, 24, 256)  0           ['conv2_block1_out[0][0]',       \n",
      "                                                                  'conv2_block2_3_conv[0][0]']    \n",
      "                                                                                                  \n",
      " conv2_block3_preact_bn (BatchN  (None, 24, 24, 256)  1024       ['conv2_block2_out[0][0]']       \n",
      " ormalization)                                                                                    \n",
      "                                                                                                  \n",
      " conv2_block3_preact_relu (Acti  (None, 24, 24, 256)  0          ['conv2_block3_preact_bn[0][0]'] \n",
      " vation)                                                                                          \n"
     ]
    },
    {
     "name": "stdout",
     "output_type": "stream",
     "text": [
      "                                                                                                  \n",
      " conv2_block3_1_conv (Conv2D)   (None, 24, 24, 64)   16384       ['conv2_block3_preact_relu[0][0]'\n",
      "                                                                 ]                                \n",
      "                                                                                                  \n",
      " conv2_block3_1_bn (BatchNormal  (None, 24, 24, 64)  256         ['conv2_block3_1_conv[0][0]']    \n",
      " ization)                                                                                         \n",
      "                                                                                                  \n",
      " conv2_block3_1_relu (Activatio  (None, 24, 24, 64)  0           ['conv2_block3_1_bn[0][0]']      \n",
      " n)                                                                                               \n",
      "                                                                                                  \n",
      " conv2_block3_2_pad (ZeroPaddin  (None, 26, 26, 64)  0           ['conv2_block3_1_relu[0][0]']    \n",
      " g2D)                                                                                             \n",
      "                                                                                                  \n",
      " conv2_block3_2_conv (Conv2D)   (None, 12, 12, 64)   36864       ['conv2_block3_2_pad[0][0]']     \n",
      "                                                                                                  \n",
      " conv2_block3_2_bn (BatchNormal  (None, 12, 12, 64)  256         ['conv2_block3_2_conv[0][0]']    \n",
      " ization)                                                                                         \n",
      "                                                                                                  \n",
      " conv2_block3_2_relu (Activatio  (None, 12, 12, 64)  0           ['conv2_block3_2_bn[0][0]']      \n",
      " n)                                                                                               \n",
      "                                                                                                  \n",
      " max_pooling2d (MaxPooling2D)   (None, 12, 12, 256)  0           ['conv2_block2_out[0][0]']       \n",
      "                                                                                                  \n",
      " conv2_block3_3_conv (Conv2D)   (None, 12, 12, 256)  16640       ['conv2_block3_2_relu[0][0]']    \n",
      "                                                                                                  \n",
      " conv2_block3_out (Add)         (None, 12, 12, 256)  0           ['max_pooling2d[0][0]',          \n",
      "                                                                  'conv2_block3_3_conv[0][0]']    \n",
      "                                                                                                  \n",
      " conv3_block1_preact_bn (BatchN  (None, 12, 12, 256)  1024       ['conv2_block3_out[0][0]']       \n",
      " ormalization)                                                                                    \n",
      "                                                                                                  \n",
      " conv3_block1_preact_relu (Acti  (None, 12, 12, 256)  0          ['conv3_block1_preact_bn[0][0]'] \n",
      " vation)                                                                                          \n",
      "                                                                                                  \n",
      " conv3_block1_1_conv (Conv2D)   (None, 12, 12, 128)  32768       ['conv3_block1_preact_relu[0][0]'\n",
      "                                                                 ]                                \n",
      "                                                                                                  \n",
      " conv3_block1_1_bn (BatchNormal  (None, 12, 12, 128)  512        ['conv3_block1_1_conv[0][0]']    \n",
      " ization)                                                                                         \n",
      "                                                                                                  \n",
      " conv3_block1_1_relu (Activatio  (None, 12, 12, 128)  0          ['conv3_block1_1_bn[0][0]']      \n",
      " n)                                                                                               \n",
      "                                                                                                  \n",
      " conv3_block1_2_pad (ZeroPaddin  (None, 14, 14, 128)  0          ['conv3_block1_1_relu[0][0]']    \n",
      " g2D)                                                                                             \n",
      "                                                                                                  \n",
      " conv3_block1_2_conv (Conv2D)   (None, 12, 12, 128)  147456      ['conv3_block1_2_pad[0][0]']     \n",
      "                                                                                                  \n",
      " conv3_block1_2_bn (BatchNormal  (None, 12, 12, 128)  512        ['conv3_block1_2_conv[0][0]']    \n",
      " ization)                                                                                         \n",
      "                                                                                                  \n",
      " conv3_block1_2_relu (Activatio  (None, 12, 12, 128)  0          ['conv3_block1_2_bn[0][0]']      \n",
      " n)                                                                                               \n",
      "                                                                                                  \n",
      " conv3_block1_0_conv (Conv2D)   (None, 12, 12, 512)  131584      ['conv3_block1_preact_relu[0][0]'\n",
      "                                                                 ]                                \n",
      "                                                                                                  \n",
      " conv3_block1_3_conv (Conv2D)   (None, 12, 12, 512)  66048       ['conv3_block1_2_relu[0][0]']    \n",
      "                                                                                                  \n",
      " conv3_block1_out (Add)         (None, 12, 12, 512)  0           ['conv3_block1_0_conv[0][0]',    \n",
      "                                                                  'conv3_block1_3_conv[0][0]']    \n",
      "                                                                                                  \n",
      " conv3_block2_preact_bn (BatchN  (None, 12, 12, 512)  2048       ['conv3_block1_out[0][0]']       \n",
      " ormalization)                                                                                    \n",
      "                                                                                                  \n",
      " conv3_block2_preact_relu (Acti  (None, 12, 12, 512)  0          ['conv3_block2_preact_bn[0][0]'] \n",
      " vation)                                                                                          \n",
      "                                                                                                  \n",
      " conv3_block2_1_conv (Conv2D)   (None, 12, 12, 128)  65536       ['conv3_block2_preact_relu[0][0]'\n",
      "                                                                 ]                                \n",
      "                                                                                                  \n",
      " conv3_block2_1_bn (BatchNormal  (None, 12, 12, 128)  512        ['conv3_block2_1_conv[0][0]']    \n",
      " ization)                                                                                         \n",
      "                                                                                                  \n",
      " conv3_block2_1_relu (Activatio  (None, 12, 12, 128)  0          ['conv3_block2_1_bn[0][0]']      \n",
      " n)                                                                                               \n",
      "                                                                                                  \n",
      " conv3_block2_2_pad (ZeroPaddin  (None, 14, 14, 128)  0          ['conv3_block2_1_relu[0][0]']    \n",
      " g2D)                                                                                             \n",
      "                                                                                                  \n",
      " conv3_block2_2_conv (Conv2D)   (None, 12, 12, 128)  147456      ['conv3_block2_2_pad[0][0]']     \n",
      "                                                                                                  \n",
      " conv3_block2_2_bn (BatchNormal  (None, 12, 12, 128)  512        ['conv3_block2_2_conv[0][0]']    \n"
     ]
    },
    {
     "name": "stdout",
     "output_type": "stream",
     "text": [
      " ization)                                                                                         \n",
      "                                                                                                  \n",
      " conv3_block2_2_relu (Activatio  (None, 12, 12, 128)  0          ['conv3_block2_2_bn[0][0]']      \n",
      " n)                                                                                               \n",
      "                                                                                                  \n",
      " conv3_block2_3_conv (Conv2D)   (None, 12, 12, 512)  66048       ['conv3_block2_2_relu[0][0]']    \n",
      "                                                                                                  \n",
      " conv3_block2_out (Add)         (None, 12, 12, 512)  0           ['conv3_block1_out[0][0]',       \n",
      "                                                                  'conv3_block2_3_conv[0][0]']    \n",
      "                                                                                                  \n",
      " conv3_block3_preact_bn (BatchN  (None, 12, 12, 512)  2048       ['conv3_block2_out[0][0]']       \n",
      " ormalization)                                                                                    \n",
      "                                                                                                  \n",
      " conv3_block3_preact_relu (Acti  (None, 12, 12, 512)  0          ['conv3_block3_preact_bn[0][0]'] \n",
      " vation)                                                                                          \n",
      "                                                                                                  \n",
      " conv3_block3_1_conv (Conv2D)   (None, 12, 12, 128)  65536       ['conv3_block3_preact_relu[0][0]'\n",
      "                                                                 ]                                \n",
      "                                                                                                  \n",
      " conv3_block3_1_bn (BatchNormal  (None, 12, 12, 128)  512        ['conv3_block3_1_conv[0][0]']    \n",
      " ization)                                                                                         \n",
      "                                                                                                  \n",
      " conv3_block3_1_relu (Activatio  (None, 12, 12, 128)  0          ['conv3_block3_1_bn[0][0]']      \n",
      " n)                                                                                               \n",
      "                                                                                                  \n",
      " conv3_block3_2_pad (ZeroPaddin  (None, 14, 14, 128)  0          ['conv3_block3_1_relu[0][0]']    \n",
      " g2D)                                                                                             \n",
      "                                                                                                  \n",
      " conv3_block3_2_conv (Conv2D)   (None, 12, 12, 128)  147456      ['conv3_block3_2_pad[0][0]']     \n",
      "                                                                                                  \n",
      " conv3_block3_2_bn (BatchNormal  (None, 12, 12, 128)  512        ['conv3_block3_2_conv[0][0]']    \n",
      " ization)                                                                                         \n",
      "                                                                                                  \n",
      " conv3_block3_2_relu (Activatio  (None, 12, 12, 128)  0          ['conv3_block3_2_bn[0][0]']      \n",
      " n)                                                                                               \n",
      "                                                                                                  \n",
      " conv3_block3_3_conv (Conv2D)   (None, 12, 12, 512)  66048       ['conv3_block3_2_relu[0][0]']    \n",
      "                                                                                                  \n",
      " conv3_block3_out (Add)         (None, 12, 12, 512)  0           ['conv3_block2_out[0][0]',       \n",
      "                                                                  'conv3_block3_3_conv[0][0]']    \n",
      "                                                                                                  \n",
      " conv3_block4_preact_bn (BatchN  (None, 12, 12, 512)  2048       ['conv3_block3_out[0][0]']       \n",
      " ormalization)                                                                                    \n",
      "                                                                                                  \n",
      " conv3_block4_preact_relu (Acti  (None, 12, 12, 512)  0          ['conv3_block4_preact_bn[0][0]'] \n",
      " vation)                                                                                          \n",
      "                                                                                                  \n",
      " conv3_block4_1_conv (Conv2D)   (None, 12, 12, 128)  65536       ['conv3_block4_preact_relu[0][0]'\n",
      "                                                                 ]                                \n",
      "                                                                                                  \n",
      " conv3_block4_1_bn (BatchNormal  (None, 12, 12, 128)  512        ['conv3_block4_1_conv[0][0]']    \n",
      " ization)                                                                                         \n",
      "                                                                                                  \n",
      " conv3_block4_1_relu (Activatio  (None, 12, 12, 128)  0          ['conv3_block4_1_bn[0][0]']      \n",
      " n)                                                                                               \n",
      "                                                                                                  \n",
      " conv3_block4_2_pad (ZeroPaddin  (None, 14, 14, 128)  0          ['conv3_block4_1_relu[0][0]']    \n",
      " g2D)                                                                                             \n",
      "                                                                                                  \n",
      " conv3_block4_2_conv (Conv2D)   (None, 6, 6, 128)    147456      ['conv3_block4_2_pad[0][0]']     \n",
      "                                                                                                  \n",
      " conv3_block4_2_bn (BatchNormal  (None, 6, 6, 128)   512         ['conv3_block4_2_conv[0][0]']    \n",
      " ization)                                                                                         \n",
      "                                                                                                  \n",
      " conv3_block4_2_relu (Activatio  (None, 6, 6, 128)   0           ['conv3_block4_2_bn[0][0]']      \n",
      " n)                                                                                               \n",
      "                                                                                                  \n",
      " max_pooling2d_1 (MaxPooling2D)  (None, 6, 6, 512)   0           ['conv3_block3_out[0][0]']       \n",
      "                                                                                                  \n",
      " conv3_block4_3_conv (Conv2D)   (None, 6, 6, 512)    66048       ['conv3_block4_2_relu[0][0]']    \n",
      "                                                                                                  \n",
      " conv3_block4_out (Add)         (None, 6, 6, 512)    0           ['max_pooling2d_1[0][0]',        \n",
      "                                                                  'conv3_block4_3_conv[0][0]']    \n",
      "                                                                                                  \n",
      " conv4_block1_preact_bn (BatchN  (None, 6, 6, 512)   2048        ['conv3_block4_out[0][0]']       \n",
      " ormalization)                                                                                    \n",
      "                                                                                                  \n",
      " conv4_block1_preact_relu (Acti  (None, 6, 6, 512)   0           ['conv4_block1_preact_bn[0][0]'] \n",
      " vation)                                                                                          \n",
      "                                                                                                  \n",
      " conv4_block1_1_conv (Conv2D)   (None, 6, 6, 256)    131072      ['conv4_block1_preact_relu[0][0]'\n",
      "                                                                 ]                                \n",
      "                                                                                                  \n"
     ]
    },
    {
     "name": "stdout",
     "output_type": "stream",
     "text": [
      " conv4_block1_1_bn (BatchNormal  (None, 6, 6, 256)   1024        ['conv4_block1_1_conv[0][0]']    \n",
      " ization)                                                                                         \n",
      "                                                                                                  \n",
      " conv4_block1_1_relu (Activatio  (None, 6, 6, 256)   0           ['conv4_block1_1_bn[0][0]']      \n",
      " n)                                                                                               \n",
      "                                                                                                  \n",
      " conv4_block1_2_pad (ZeroPaddin  (None, 8, 8, 256)   0           ['conv4_block1_1_relu[0][0]']    \n",
      " g2D)                                                                                             \n",
      "                                                                                                  \n",
      " conv4_block1_2_conv (Conv2D)   (None, 6, 6, 256)    589824      ['conv4_block1_2_pad[0][0]']     \n",
      "                                                                                                  \n",
      " conv4_block1_2_bn (BatchNormal  (None, 6, 6, 256)   1024        ['conv4_block1_2_conv[0][0]']    \n",
      " ization)                                                                                         \n",
      "                                                                                                  \n",
      " conv4_block1_2_relu (Activatio  (None, 6, 6, 256)   0           ['conv4_block1_2_bn[0][0]']      \n",
      " n)                                                                                               \n",
      "                                                                                                  \n",
      " conv4_block1_0_conv (Conv2D)   (None, 6, 6, 1024)   525312      ['conv4_block1_preact_relu[0][0]'\n",
      "                                                                 ]                                \n",
      "                                                                                                  \n",
      " conv4_block1_3_conv (Conv2D)   (None, 6, 6, 1024)   263168      ['conv4_block1_2_relu[0][0]']    \n",
      "                                                                                                  \n",
      " conv4_block1_out (Add)         (None, 6, 6, 1024)   0           ['conv4_block1_0_conv[0][0]',    \n",
      "                                                                  'conv4_block1_3_conv[0][0]']    \n",
      "                                                                                                  \n",
      " conv4_block2_preact_bn (BatchN  (None, 6, 6, 1024)  4096        ['conv4_block1_out[0][0]']       \n",
      " ormalization)                                                                                    \n",
      "                                                                                                  \n",
      " conv4_block2_preact_relu (Acti  (None, 6, 6, 1024)  0           ['conv4_block2_preact_bn[0][0]'] \n",
      " vation)                                                                                          \n",
      "                                                                                                  \n",
      " conv4_block2_1_conv (Conv2D)   (None, 6, 6, 256)    262144      ['conv4_block2_preact_relu[0][0]'\n",
      "                                                                 ]                                \n",
      "                                                                                                  \n",
      " conv4_block2_1_bn (BatchNormal  (None, 6, 6, 256)   1024        ['conv4_block2_1_conv[0][0]']    \n",
      " ization)                                                                                         \n",
      "                                                                                                  \n",
      " conv4_block2_1_relu (Activatio  (None, 6, 6, 256)   0           ['conv4_block2_1_bn[0][0]']      \n",
      " n)                                                                                               \n",
      "                                                                                                  \n",
      " conv4_block2_2_pad (ZeroPaddin  (None, 8, 8, 256)   0           ['conv4_block2_1_relu[0][0]']    \n",
      " g2D)                                                                                             \n",
      "                                                                                                  \n",
      " conv4_block2_2_conv (Conv2D)   (None, 6, 6, 256)    589824      ['conv4_block2_2_pad[0][0]']     \n",
      "                                                                                                  \n",
      " conv4_block2_2_bn (BatchNormal  (None, 6, 6, 256)   1024        ['conv4_block2_2_conv[0][0]']    \n",
      " ization)                                                                                         \n",
      "                                                                                                  \n",
      " conv4_block2_2_relu (Activatio  (None, 6, 6, 256)   0           ['conv4_block2_2_bn[0][0]']      \n",
      " n)                                                                                               \n",
      "                                                                                                  \n",
      " conv4_block2_3_conv (Conv2D)   (None, 6, 6, 1024)   263168      ['conv4_block2_2_relu[0][0]']    \n",
      "                                                                                                  \n",
      " conv4_block2_out (Add)         (None, 6, 6, 1024)   0           ['conv4_block1_out[0][0]',       \n",
      "                                                                  'conv4_block2_3_conv[0][0]']    \n",
      "                                                                                                  \n",
      " conv4_block3_preact_bn (BatchN  (None, 6, 6, 1024)  4096        ['conv4_block2_out[0][0]']       \n",
      " ormalization)                                                                                    \n",
      "                                                                                                  \n",
      " conv4_block3_preact_relu (Acti  (None, 6, 6, 1024)  0           ['conv4_block3_preact_bn[0][0]'] \n",
      " vation)                                                                                          \n",
      "                                                                                                  \n",
      " conv4_block3_1_conv (Conv2D)   (None, 6, 6, 256)    262144      ['conv4_block3_preact_relu[0][0]'\n",
      "                                                                 ]                                \n",
      "                                                                                                  \n",
      " conv4_block3_1_bn (BatchNormal  (None, 6, 6, 256)   1024        ['conv4_block3_1_conv[0][0]']    \n",
      " ization)                                                                                         \n",
      "                                                                                                  \n",
      " conv4_block3_1_relu (Activatio  (None, 6, 6, 256)   0           ['conv4_block3_1_bn[0][0]']      \n",
      " n)                                                                                               \n",
      "                                                                                                  \n",
      " conv4_block3_2_pad (ZeroPaddin  (None, 8, 8, 256)   0           ['conv4_block3_1_relu[0][0]']    \n",
      " g2D)                                                                                             \n",
      "                                                                                                  \n",
      " conv4_block3_2_conv (Conv2D)   (None, 6, 6, 256)    589824      ['conv4_block3_2_pad[0][0]']     \n",
      "                                                                                                  \n",
      " conv4_block3_2_bn (BatchNormal  (None, 6, 6, 256)   1024        ['conv4_block3_2_conv[0][0]']    \n",
      " ization)                                                                                         \n",
      "                                                                                                  \n",
      " conv4_block3_2_relu (Activatio  (None, 6, 6, 256)   0           ['conv4_block3_2_bn[0][0]']      \n",
      " n)                                                                                               \n",
      "                                                                                                  \n",
      " conv4_block3_3_conv (Conv2D)   (None, 6, 6, 1024)   263168      ['conv4_block3_2_relu[0][0]']    \n"
     ]
    },
    {
     "name": "stdout",
     "output_type": "stream",
     "text": [
      "                                                                                                  \n",
      " conv4_block3_out (Add)         (None, 6, 6, 1024)   0           ['conv4_block2_out[0][0]',       \n",
      "                                                                  'conv4_block3_3_conv[0][0]']    \n",
      "                                                                                                  \n",
      " conv4_block4_preact_bn (BatchN  (None, 6, 6, 1024)  4096        ['conv4_block3_out[0][0]']       \n",
      " ormalization)                                                                                    \n",
      "                                                                                                  \n",
      " conv4_block4_preact_relu (Acti  (None, 6, 6, 1024)  0           ['conv4_block4_preact_bn[0][0]'] \n",
      " vation)                                                                                          \n",
      "                                                                                                  \n",
      " conv4_block4_1_conv (Conv2D)   (None, 6, 6, 256)    262144      ['conv4_block4_preact_relu[0][0]'\n",
      "                                                                 ]                                \n",
      "                                                                                                  \n",
      " conv4_block4_1_bn (BatchNormal  (None, 6, 6, 256)   1024        ['conv4_block4_1_conv[0][0]']    \n",
      " ization)                                                                                         \n",
      "                                                                                                  \n",
      " conv4_block4_1_relu (Activatio  (None, 6, 6, 256)   0           ['conv4_block4_1_bn[0][0]']      \n",
      " n)                                                                                               \n",
      "                                                                                                  \n",
      " conv4_block4_2_pad (ZeroPaddin  (None, 8, 8, 256)   0           ['conv4_block4_1_relu[0][0]']    \n",
      " g2D)                                                                                             \n",
      "                                                                                                  \n",
      " conv4_block4_2_conv (Conv2D)   (None, 6, 6, 256)    589824      ['conv4_block4_2_pad[0][0]']     \n",
      "                                                                                                  \n",
      " conv4_block4_2_bn (BatchNormal  (None, 6, 6, 256)   1024        ['conv4_block4_2_conv[0][0]']    \n",
      " ization)                                                                                         \n",
      "                                                                                                  \n",
      " conv4_block4_2_relu (Activatio  (None, 6, 6, 256)   0           ['conv4_block4_2_bn[0][0]']      \n",
      " n)                                                                                               \n",
      "                                                                                                  \n",
      " conv4_block4_3_conv (Conv2D)   (None, 6, 6, 1024)   263168      ['conv4_block4_2_relu[0][0]']    \n",
      "                                                                                                  \n",
      " conv4_block4_out (Add)         (None, 6, 6, 1024)   0           ['conv4_block3_out[0][0]',       \n",
      "                                                                  'conv4_block4_3_conv[0][0]']    \n",
      "                                                                                                  \n",
      " conv4_block5_preact_bn (BatchN  (None, 6, 6, 1024)  4096        ['conv4_block4_out[0][0]']       \n",
      " ormalization)                                                                                    \n",
      "                                                                                                  \n",
      " conv4_block5_preact_relu (Acti  (None, 6, 6, 1024)  0           ['conv4_block5_preact_bn[0][0]'] \n",
      " vation)                                                                                          \n",
      "                                                                                                  \n",
      " conv4_block5_1_conv (Conv2D)   (None, 6, 6, 256)    262144      ['conv4_block5_preact_relu[0][0]'\n",
      "                                                                 ]                                \n",
      "                                                                                                  \n",
      " conv4_block5_1_bn (BatchNormal  (None, 6, 6, 256)   1024        ['conv4_block5_1_conv[0][0]']    \n",
      " ization)                                                                                         \n",
      "                                                                                                  \n",
      " conv4_block5_1_relu (Activatio  (None, 6, 6, 256)   0           ['conv4_block5_1_bn[0][0]']      \n",
      " n)                                                                                               \n",
      "                                                                                                  \n",
      " conv4_block5_2_pad (ZeroPaddin  (None, 8, 8, 256)   0           ['conv4_block5_1_relu[0][0]']    \n",
      " g2D)                                                                                             \n",
      "                                                                                                  \n",
      " conv4_block5_2_conv (Conv2D)   (None, 6, 6, 256)    589824      ['conv4_block5_2_pad[0][0]']     \n",
      "                                                                                                  \n",
      " conv4_block5_2_bn (BatchNormal  (None, 6, 6, 256)   1024        ['conv4_block5_2_conv[0][0]']    \n",
      " ization)                                                                                         \n",
      "                                                                                                  \n",
      " conv4_block5_2_relu (Activatio  (None, 6, 6, 256)   0           ['conv4_block5_2_bn[0][0]']      \n",
      " n)                                                                                               \n",
      "                                                                                                  \n",
      " conv4_block5_3_conv (Conv2D)   (None, 6, 6, 1024)   263168      ['conv4_block5_2_relu[0][0]']    \n",
      "                                                                                                  \n",
      " conv4_block5_out (Add)         (None, 6, 6, 1024)   0           ['conv4_block4_out[0][0]',       \n",
      "                                                                  'conv4_block5_3_conv[0][0]']    \n",
      "                                                                                                  \n",
      " conv4_block6_preact_bn (BatchN  (None, 6, 6, 1024)  4096        ['conv4_block5_out[0][0]']       \n",
      " ormalization)                                                                                    \n",
      "                                                                                                  \n",
      " conv4_block6_preact_relu (Acti  (None, 6, 6, 1024)  0           ['conv4_block6_preact_bn[0][0]'] \n",
      " vation)                                                                                          \n",
      "                                                                                                  \n",
      " conv4_block6_1_conv (Conv2D)   (None, 6, 6, 256)    262144      ['conv4_block6_preact_relu[0][0]'\n",
      "                                                                 ]                                \n",
      "                                                                                                  \n",
      " conv4_block6_1_bn (BatchNormal  (None, 6, 6, 256)   1024        ['conv4_block6_1_conv[0][0]']    \n",
      " ization)                                                                                         \n",
      "                                                                                                  \n",
      " conv4_block6_1_relu (Activatio  (None, 6, 6, 256)   0           ['conv4_block6_1_bn[0][0]']      \n",
      " n)                                                                                               \n",
      "                                                                                                  \n",
      " conv4_block6_2_pad (ZeroPaddin  (None, 8, 8, 256)   0           ['conv4_block6_1_relu[0][0]']    \n",
      " g2D)                                                                                             \n"
     ]
    },
    {
     "name": "stdout",
     "output_type": "stream",
     "text": [
      "                                                                                                  \n",
      " conv4_block6_2_conv (Conv2D)   (None, 3, 3, 256)    589824      ['conv4_block6_2_pad[0][0]']     \n",
      "                                                                                                  \n",
      " conv4_block6_2_bn (BatchNormal  (None, 3, 3, 256)   1024        ['conv4_block6_2_conv[0][0]']    \n",
      " ization)                                                                                         \n",
      "                                                                                                  \n",
      " conv4_block6_2_relu (Activatio  (None, 3, 3, 256)   0           ['conv4_block6_2_bn[0][0]']      \n",
      " n)                                                                                               \n",
      "                                                                                                  \n",
      " max_pooling2d_2 (MaxPooling2D)  (None, 3, 3, 1024)  0           ['conv4_block5_out[0][0]']       \n",
      "                                                                                                  \n",
      " conv4_block6_3_conv (Conv2D)   (None, 3, 3, 1024)   263168      ['conv4_block6_2_relu[0][0]']    \n",
      "                                                                                                  \n",
      " conv4_block6_out (Add)         (None, 3, 3, 1024)   0           ['max_pooling2d_2[0][0]',        \n",
      "                                                                  'conv4_block6_3_conv[0][0]']    \n",
      "                                                                                                  \n",
      " conv5_block1_preact_bn (BatchN  (None, 3, 3, 1024)  4096        ['conv4_block6_out[0][0]']       \n",
      " ormalization)                                                                                    \n",
      "                                                                                                  \n",
      " conv5_block1_preact_relu (Acti  (None, 3, 3, 1024)  0           ['conv5_block1_preact_bn[0][0]'] \n",
      " vation)                                                                                          \n",
      "                                                                                                  \n",
      " conv5_block1_1_conv (Conv2D)   (None, 3, 3, 512)    524288      ['conv5_block1_preact_relu[0][0]'\n",
      "                                                                 ]                                \n",
      "                                                                                                  \n",
      " conv5_block1_1_bn (BatchNormal  (None, 3, 3, 512)   2048        ['conv5_block1_1_conv[0][0]']    \n",
      " ization)                                                                                         \n",
      "                                                                                                  \n",
      " conv5_block1_1_relu (Activatio  (None, 3, 3, 512)   0           ['conv5_block1_1_bn[0][0]']      \n",
      " n)                                                                                               \n",
      "                                                                                                  \n",
      " conv5_block1_2_pad (ZeroPaddin  (None, 5, 5, 512)   0           ['conv5_block1_1_relu[0][0]']    \n",
      " g2D)                                                                                             \n",
      "                                                                                                  \n",
      " conv5_block1_2_conv (Conv2D)   (None, 3, 3, 512)    2359296     ['conv5_block1_2_pad[0][0]']     \n",
      "                                                                                                  \n",
      " conv5_block1_2_bn (BatchNormal  (None, 3, 3, 512)   2048        ['conv5_block1_2_conv[0][0]']    \n",
      " ization)                                                                                         \n",
      "                                                                                                  \n",
      " conv5_block1_2_relu (Activatio  (None, 3, 3, 512)   0           ['conv5_block1_2_bn[0][0]']      \n",
      " n)                                                                                               \n",
      "                                                                                                  \n",
      " conv5_block1_0_conv (Conv2D)   (None, 3, 3, 2048)   2099200     ['conv5_block1_preact_relu[0][0]'\n",
      "                                                                 ]                                \n",
      "                                                                                                  \n",
      " conv5_block1_3_conv (Conv2D)   (None, 3, 3, 2048)   1050624     ['conv5_block1_2_relu[0][0]']    \n",
      "                                                                                                  \n",
      " conv5_block1_out (Add)         (None, 3, 3, 2048)   0           ['conv5_block1_0_conv[0][0]',    \n",
      "                                                                  'conv5_block1_3_conv[0][0]']    \n",
      "                                                                                                  \n",
      " conv5_block2_preact_bn (BatchN  (None, 3, 3, 2048)  8192        ['conv5_block1_out[0][0]']       \n",
      " ormalization)                                                                                    \n",
      "                                                                                                  \n",
      " conv5_block2_preact_relu (Acti  (None, 3, 3, 2048)  0           ['conv5_block2_preact_bn[0][0]'] \n",
      " vation)                                                                                          \n",
      "                                                                                                  \n",
      " conv5_block2_1_conv (Conv2D)   (None, 3, 3, 512)    1048576     ['conv5_block2_preact_relu[0][0]'\n",
      "                                                                 ]                                \n",
      "                                                                                                  \n",
      " conv5_block2_1_bn (BatchNormal  (None, 3, 3, 512)   2048        ['conv5_block2_1_conv[0][0]']    \n",
      " ization)                                                                                         \n",
      "                                                                                                  \n",
      " conv5_block2_1_relu (Activatio  (None, 3, 3, 512)   0           ['conv5_block2_1_bn[0][0]']      \n",
      " n)                                                                                               \n",
      "                                                                                                  \n",
      " conv5_block2_2_pad (ZeroPaddin  (None, 5, 5, 512)   0           ['conv5_block2_1_relu[0][0]']    \n",
      " g2D)                                                                                             \n",
      "                                                                                                  \n",
      " conv5_block2_2_conv (Conv2D)   (None, 3, 3, 512)    2359296     ['conv5_block2_2_pad[0][0]']     \n",
      "                                                                                                  \n",
      " conv5_block2_2_bn (BatchNormal  (None, 3, 3, 512)   2048        ['conv5_block2_2_conv[0][0]']    \n",
      " ization)                                                                                         \n",
      "                                                                                                  \n",
      " conv5_block2_2_relu (Activatio  (None, 3, 3, 512)   0           ['conv5_block2_2_bn[0][0]']      \n",
      " n)                                                                                               \n",
      "                                                                                                  \n",
      " conv5_block2_3_conv (Conv2D)   (None, 3, 3, 2048)   1050624     ['conv5_block2_2_relu[0][0]']    \n",
      "                                                                                                  \n",
      " conv5_block2_out (Add)         (None, 3, 3, 2048)   0           ['conv5_block1_out[0][0]',       \n",
      "                                                                  'conv5_block2_3_conv[0][0]']    \n",
      "                                                                                                  \n",
      " conv5_block3_preact_bn (BatchN  (None, 3, 3, 2048)  8192        ['conv5_block2_out[0][0]']       \n",
      " ormalization)                                                                                    \n"
     ]
    },
    {
     "name": "stdout",
     "output_type": "stream",
     "text": [
      "                                                                                                  \n",
      " conv5_block3_preact_relu (Acti  (None, 3, 3, 2048)  0           ['conv5_block3_preact_bn[0][0]'] \n",
      " vation)                                                                                          \n",
      "                                                                                                  \n",
      " conv5_block3_1_conv (Conv2D)   (None, 3, 3, 512)    1048576     ['conv5_block3_preact_relu[0][0]'\n",
      "                                                                 ]                                \n",
      "                                                                                                  \n",
      " conv5_block3_1_bn (BatchNormal  (None, 3, 3, 512)   2048        ['conv5_block3_1_conv[0][0]']    \n",
      " ization)                                                                                         \n",
      "                                                                                                  \n",
      " conv5_block3_1_relu (Activatio  (None, 3, 3, 512)   0           ['conv5_block3_1_bn[0][0]']      \n",
      " n)                                                                                               \n",
      "                                                                                                  \n",
      " conv5_block3_2_pad (ZeroPaddin  (None, 5, 5, 512)   0           ['conv5_block3_1_relu[0][0]']    \n",
      " g2D)                                                                                             \n",
      "                                                                                                  \n",
      " conv5_block3_2_conv (Conv2D)   (None, 3, 3, 512)    2359296     ['conv5_block3_2_pad[0][0]']     \n",
      "                                                                                                  \n",
      " conv5_block3_2_bn (BatchNormal  (None, 3, 3, 512)   2048        ['conv5_block3_2_conv[0][0]']    \n",
      " ization)                                                                                         \n",
      "                                                                                                  \n",
      " conv5_block3_2_relu (Activatio  (None, 3, 3, 512)   0           ['conv5_block3_2_bn[0][0]']      \n",
      " n)                                                                                               \n",
      "                                                                                                  \n",
      " conv5_block3_3_conv (Conv2D)   (None, 3, 3, 2048)   1050624     ['conv5_block3_2_relu[0][0]']    \n",
      "                                                                                                  \n",
      " conv5_block3_out (Add)         (None, 3, 3, 2048)   0           ['conv5_block2_out[0][0]',       \n",
      "                                                                  'conv5_block3_3_conv[0][0]']    \n",
      "                                                                                                  \n",
      " post_bn (BatchNormalization)   (None, 3, 3, 2048)   8192        ['conv5_block3_out[0][0]']       \n",
      "                                                                                                  \n",
      " post_relu (Activation)         (None, 3, 3, 2048)   0           ['post_bn[0][0]']                \n",
      "                                                                                                  \n",
      "==================================================================================================\n",
      "Total params: 23,564,800\n",
      "Trainable params: 23,519,360\n",
      "Non-trainable params: 45,440\n",
      "__________________________________________________________________________________________________\n",
      "You must install pydot (`pip install pydot`) and install graphviz (see instructions at https://graphviz.gitlab.io/download/) for plot_model to work.\n"
     ]
    }
   ],
   "source": [
    "# Download and plot the VGG16 model\n",
    "from tensorflow.keras.applications.resnet_v2 import preprocess_input\n",
    "\n",
    "X_train_ft = preprocess_input(X_train*255)\n",
    "X_val_ft = preprocess_input(X_val*255)\n",
    "X_test_ft = preprocess_input(X_test*255)\n",
    "\n",
    "supernet = tfk.applications.ResNet50V2(\n",
    "    include_top=False,\n",
    "    weights=\"imagenet\",\n",
    "    input_shape=(96,96,3)\n",
    ")\n",
    "\n",
    "supernet.summary()\n",
    "tfk.utils.plot_model(supernet)"
   ]
  },
  {
   "cell_type": "code",
   "execution_count": 11,
   "metadata": {
    "executionInfo": {
     "elapsed": 223,
     "status": "ok",
     "timestamp": 1668283516669,
     "user": {
      "displayName": "nicola dean",
      "userId": "11994493267711046153"
     },
     "user_tz": -60
    },
    "id": "H5e6v8jLcSrX"
   },
   "outputs": [],
   "source": [
    "#Create the Model\n",
    "def build_model(input_shape):\n",
    "    tf.random.set_seed(seed)\n",
    "\n",
    "    # Use the supernet as feature extractor\n",
    "    supernet.trainable = False\n",
    "\n",
    "    inputs = tfk.Input(shape=input_shape)\n",
    "    #x = tfkl.Resizing(64, 64, interpolation=\"bicubic\")(inputs)\n",
    "    supernet_layer = supernet(inputs)\n",
    "\n",
    "    #flattening = tfkl.Flatten(name='Flattening')(supernet_layer)\n",
    "    #flattening= tfkl.Dropout(0.2, seed=seed)(x)\n",
    "    flattening = tfkl.GlobalAveragePooling2D(name='GlobalAVGPool')(supernet_layer)\n",
    "\n",
    "    classifier_0 = stackDenseLayer(\"classifier_0\",flattening,size=1024,GlorthUniform=True,drop_out=True,drop_rate=0.2)\n",
    "    #classifier_1 = stackDenseLayer(\"classifier_1\",classifier_0,size=128,GlorthUniform=True,drop_out=True,drop_rate=0.2)\n",
    "    #classifier_2 = stackDenseLayer(\"classifier_2\",classifier_1,size=64,GlorthUniform=True,drop_out=True,drop_rate=0.2)\n",
    "\n",
    "    output_layer = tfkl.Dense(units=8, activation='softmax', kernel_initializer=tfk.initializers.GlorotUniform(seed), name='Output')(classifier_0)\n",
    "\n",
    "    # Connect input and output through the Model class\n",
    "    tl_model = tfk.Model(inputs=inputs, outputs=output_layer, name='Xception')\n",
    "\n",
    "    # Compile the model\n",
    "    tl_model.compile(loss=tfk.losses.CategoricalCrossentropy(), optimizer=tfk.optimizers.Adam(1e-3), metrics=['accuracy',F1])\n",
    "    return tl_model"
   ]
  },
  {
   "cell_type": "markdown",
   "metadata": {
    "id": "vKRRoa_YnJbP"
   },
   "source": [
    "# Training Phase\n",
    "Compile the model, configure all necessary infomation for training like epoch,batches, callbacks...\n",
    "Then start the training"
   ]
  },
  {
   "cell_type": "markdown",
   "metadata": {
    "id": "Y0sAzAd6nJbQ"
   },
   "source": [
    "### Compile the model"
   ]
  },
  {
   "cell_type": "code",
   "execution_count": 12,
   "metadata": {
    "colab": {
     "base_uri": "https://localhost:8080/",
     "height": 928
    },
    "executionInfo": {
     "elapsed": 2896,
     "status": "ok",
     "timestamp": 1668283419398,
     "user": {
      "displayName": "nicola dean",
      "userId": "11994493267711046153"
     },
     "user_tz": -60
    },
    "id": "pkXhi499nJbQ",
    "outputId": "538a251e-b08e-4e0a-d3c8-e9f182d8d5fb"
   },
   "outputs": [
    {
     "name": "stdout",
     "output_type": "stream",
     "text": [
      "Model: \"Xception\"\n",
      "_________________________________________________________________\n",
      " Layer (type)                Output Shape              Param #   \n",
      "=================================================================\n",
      " input_2 (InputLayer)        [(None, 96, 96, 3)]       0         \n",
      "                                                                 \n",
      " resnet50v2 (Functional)     (None, 3, 3, 2048)        23564800  \n",
      "                                                                 \n",
      " GlobalAVGPool (GlobalAverag  (None, 2048)             0         \n",
      " ePooling2D)                                                     \n",
      "                                                                 \n",
      " classifier_0 (Dense)        (None, 1024)              2098176   \n",
      "                                                                 \n",
      " dropout (Dropout)           (None, 1024)              0         \n",
      "                                                                 \n",
      " classifier_1 (Dense)        (None, 128)               131200    \n",
      "                                                                 \n",
      " dropout_1 (Dropout)         (None, 128)               0         \n",
      "                                                                 \n",
      " Output (Dense)              (None, 8)                 1032      \n",
      "                                                                 \n",
      "=================================================================\n",
      "Total params: 25,795,208\n",
      "Trainable params: 2,230,408\n",
      "Non-trainable params: 23,564,800\n",
      "_________________________________________________________________\n"
     ]
    },
    {
     "data": {
      "image/png": "[encoded data removed]",
      "text/plain": [
       "<PIL.Image.Image image mode=RGBA size=874x164>"
      ]
     },
     "execution_count": 12,
     "metadata": {},
     "output_type": "execute_result"
    }
   ],
   "source": [
    "#Build the model\n",
    "input_shape = X_train.shape[1:]#(None,96,96,3)\n",
    "batch_size = 128\n",
    "epochs = 200\n",
    "\n",
    "model = build_model(input_shape)\n",
    "model.summary()\n",
    "visualkeras.layered_view(model, legend=True, spacing=20, scale_xy=1)"
   ]
  },
  {
   "cell_type": "markdown",
   "metadata": {
    "id": "TiMenDi7nJbQ"
   },
   "source": [
    "### Train the model"
   ]
  },
  {
   "cell_type": "code",
   "execution_count": 13,
   "metadata": {
    "colab": {
     "base_uri": "https://localhost:8080/",
     "height": 606
    },
    "executionInfo": {
     "elapsed": 33459,
     "status": "error",
     "timestamp": 1668283361245,
     "user": {
      "displayName": "nicola dean",
      "userId": "11994493267711046153"
     },
     "user_tz": -60
    },
    "id": "qy2HC5-inJbR",
    "outputId": "95fb228e-6a12-4c26-e911-5082d6cc06d4"
   },
   "outputs": [
    {
     "name": "stdout",
     "output_type": "stream",
     "text": [
      "Epoch 1/200\n"
     ]
    },
    {
     "name": "stderr",
     "output_type": "stream",
     "text": [
      "2022-11-17 21:29:26.210860: I tensorflow/stream_executor/cuda/cuda_dnn.cc:384] Loaded cuDNN version 8100\n",
      "2022-11-17 21:29:26.506033: W tensorflow/stream_executor/gpu/asm_compiler.cc:111] *** WARNING *** You are using ptxas 11.0.221, which is older than 11.1. ptxas before 11.1 is known to miscompile XLA code, leading to incorrect results or invalid-address errors.\n",
      "\n",
      "You may not need to update to CUDA 11.1; cherry-picking the ptxas binary is often sufficient.\n"
     ]
    },
    {
     "name": "stdout",
     "output_type": "stream",
     "text": [
      "173/173 [==============================] - 36s 171ms/step - loss: 1.6292 - accuracy: 0.3844 - F1: 0.2142 - val_loss: 1.2637 - val_accuracy: 0.4969 - val_F1: 0.4204\n",
      "Epoch 2/200\n",
      "173/173 [==============================] - 27s 157ms/step - loss: 1.3661 - accuracy: 0.4844 - F1: 0.3788 - val_loss: 1.1908 - val_accuracy: 0.5660 - val_F1: 0.4584\n",
      "Epoch 3/200\n",
      "173/173 [==============================] - 27s 154ms/step - loss: 1.2209 - accuracy: 0.5384 - F1: 0.4616 - val_loss: 1.2151 - val_accuracy: 0.5377 - val_F1: 0.4691\n",
      "Epoch 4/200\n",
      "173/173 [==============================] - 27s 155ms/step - loss: 1.0887 - accuracy: 0.5919 - F1: 0.5381 - val_loss: 1.1823 - val_accuracy: 0.5692 - val_F1: 0.5135\n",
      "Epoch 5/200\n",
      "173/173 [==============================] - 27s 155ms/step - loss: 0.9638 - accuracy: 0.6412 - F1: 0.6036 - val_loss: 1.1630 - val_accuracy: 0.5849 - val_F1: 0.5465\n",
      "Epoch 6/200\n",
      "173/173 [==============================] - 26s 153ms/step - loss: 0.8440 - accuracy: 0.6869 - F1: 0.6627 - val_loss: 1.2560 - val_accuracy: 0.5566 - val_F1: 0.5339\n",
      "Epoch 7/200\n",
      "173/173 [==============================] - 27s 155ms/step - loss: 0.7158 - accuracy: 0.7325 - F1: 0.7199 - val_loss: 1.3607 - val_accuracy: 0.5597 - val_F1: 0.5430\n",
      "Epoch 8/200\n",
      "173/173 [==============================] - 27s 155ms/step - loss: 0.6048 - accuracy: 0.7794 - F1: 0.7705 - val_loss: 1.4858 - val_accuracy: 0.5597 - val_F1: 0.5557\n",
      "Epoch 9/200\n",
      "173/173 [==============================] - 28s 160ms/step - loss: 0.5109 - accuracy: 0.8147 - F1: 0.8114 - val_loss: 1.5889 - val_accuracy: 0.5566 - val_F1: 0.5259\n",
      "Epoch 10/200\n",
      "173/173 [==============================] - 26s 153ms/step - loss: 0.4310 - accuracy: 0.8469 - F1: 0.8458 - val_loss: 1.7332 - val_accuracy: 0.5755 - val_F1: 0.5418\n",
      "Epoch 11/200\n",
      "173/173 [==============================] - 27s 156ms/step - loss: 0.3569 - accuracy: 0.8747 - F1: 0.8744 - val_loss: 1.8533 - val_accuracy: 0.5629 - val_F1: 0.5319\n",
      "Epoch 12/200\n",
      "173/173 [==============================] - 27s 154ms/step - loss: 0.3116 - accuracy: 0.8897 - F1: 0.8915 - val_loss: 1.8827 - val_accuracy: 0.5472 - val_F1: 0.5389\n",
      "Epoch 13/200\n",
      "173/173 [==============================] - 27s 156ms/step - loss: 0.2744 - accuracy: 0.9039 - F1: 0.9051 - val_loss: 1.9392 - val_accuracy: 0.5283 - val_F1: 0.5153\n",
      "Epoch 14/200\n",
      "173/173 [==============================] - 27s 154ms/step - loss: 0.2470 - accuracy: 0.9149 - F1: 0.9166 - val_loss: 1.9624 - val_accuracy: 0.5597 - val_F1: 0.5420\n",
      "Epoch 15/200\n",
      "173/173 [==============================] - 27s 156ms/step - loss: 0.2261 - accuracy: 0.9223 - F1: 0.9218 - val_loss: 2.1399 - val_accuracy: 0.5755 - val_F1: 0.5718\n",
      "Epoch 16/200\n",
      "173/173 [==============================] - 27s 154ms/step - loss: 0.2012 - accuracy: 0.9302 - F1: 0.9315 - val_loss: 2.1992 - val_accuracy: 0.5535 - val_F1: 0.5369\n",
      "Epoch 17/200\n",
      "173/173 [==============================] - 26s 153ms/step - loss: 0.1893 - accuracy: 0.9373 - F1: 0.9379 - val_loss: 2.2337 - val_accuracy: 0.5849 - val_F1: 0.5707\n",
      "Epoch 18/200\n",
      "173/173 [==============================] - 27s 154ms/step - loss: 0.1661 - accuracy: 0.9431 - F1: 0.9434 - val_loss: 2.5723 - val_accuracy: 0.5723 - val_F1: 0.5537\n",
      "Epoch 19/200\n",
      "173/173 [==============================] - 26s 153ms/step - loss: 0.1657 - accuracy: 0.9450 - F1: 0.9457 - val_loss: 2.4923 - val_accuracy: 0.5755 - val_F1: 0.5783\n",
      "Epoch 20/200\n",
      "173/173 [==============================] - 27s 157ms/step - loss: 0.1577 - accuracy: 0.9463 - F1: 0.9474 - val_loss: 2.5515 - val_accuracy: 0.5535 - val_F1: 0.5411\n"
     ]
    }
   ],
   "source": [
    "# Train the model\n",
    "#Create ALL desired callbacks\n",
    "callbacks_selected = model_helper.createCallbacks(earlyStopping = True,checkPoints=True,patience=15)\n",
    "\n",
    "#Fit the model\n",
    "history = model.fit(\n",
    "    x = X_train_ft,\n",
    "    y = Y_train,\n",
    "    batch_size = batch_size,\n",
    "    epochs = epochs,\n",
    "    validation_data = (X_val_ft, Y_val),\n",
    "    callbacks = callbacks_selected\n",
    ").history"
   ]
  },
  {
   "cell_type": "code",
   "execution_count": 14,
   "metadata": {
    "colab": {
     "base_uri": "https://localhost:8080/"
    },
    "executionInfo": {
     "elapsed": 4729,
     "status": "ok",
     "timestamp": 1668282310569,
     "user": {
      "displayName": "nicola dean",
      "userId": "11994493267711046153"
     },
     "user_tz": -60
    },
    "id": "ooW56s-znJbR",
    "outputId": "0ad4e974-6aff-421c-f644-40ecd541ebbc"
   },
   "outputs": [
    {
     "name": "stderr",
     "output_type": "stream",
     "text": [
      "WARNING:absl:Found untraced functions such as _jit_compiled_convolution_op, _jit_compiled_convolution_op, _jit_compiled_convolution_op, _jit_compiled_convolution_op, _jit_compiled_convolution_op while saving (showing 5 of 53). These functions will not be directly callable after loading.\n"
     ]
    },
    {
     "name": "stdout",
     "output_type": "stream",
     "text": [
      "INFO:tensorflow:Assets written to: ../../local_saved_models/ResNet50-Base/assets\n"
     ]
    },
    {
     "name": "stderr",
     "output_type": "stream",
     "text": [
      "INFO:tensorflow:Assets written to: ../../local_saved_models/ResNet50-Base/assets\n"
     ]
    }
   ],
   "source": [
    "model_helper.save_model(model,\"ResNet50-Base\")"
   ]
  },
  {
   "cell_type": "code",
   "execution_count": 15,
   "metadata": {
    "colab": {
     "base_uri": "https://localhost:8080/",
     "height": 1000
    },
    "executionInfo": {
     "elapsed": 1663,
     "status": "ok",
     "timestamp": 1668282315719,
     "user": {
      "displayName": "nicola dean",
      "userId": "11994493267711046153"
     },
     "user_tz": -60
    },
    "id": "bi0zDtGSswYW",
    "outputId": "0764ff6b-7584-42a1-c621-a9391c7a5dcc"
   },
   "outputs": [
    {
     "name": "stdout",
     "output_type": "stream",
     "text": [
      "12/12 [==============================] - 3s 99ms/step\n",
      "Accuracy: 0.5763\n",
      "Precision: 0.5507\n",
      "Recall: 0.5481\n",
      "F1: 0.5435\n"
     ]
    },
    {
     "data": {
      "image/png": "[encoded data removed]",
      "text/plain": [
       "<Figure size 1000x800 with 2 Axes>"
      ]
     },
     "metadata": {},
     "output_type": "display_data"
    },
    {
     "name": "stdout",
     "output_type": "stream",
     "text": [
      "BABABA\n"
     ]
    },
    {
     "data": {
      "image/png": "[encoded data removed]",
      "text/plain": [
       "<Figure size 2000x500 with 1 Axes>"
      ]
     },
     "metadata": {},
     "output_type": "display_data"
    },
    {
     "data": {
      "image/png": "[encoded data removed]",
      "text/plain": [
       "<Figure size 2000x500 with 1 Axes>"
      ]
     },
     "metadata": {},
     "output_type": "display_data"
    }
   ],
   "source": [
    "model_helper.show_confusion_matrix(X_test_ft,Y_test)\n",
    "model_helper.plot_phase_train_vs_validation(history)"
   ]
  },
  {
   "cell_type": "markdown",
   "metadata": {},
   "source": [
    "# Step 2 -> Fine tuning 100 layer freezed"
   ]
  },
  {
   "cell_type": "code",
   "execution_count": 16,
   "metadata": {},
   "outputs": [
    {
     "name": "stdout",
     "output_type": "stream",
     "text": [
      "Model: \"Xception\"\n",
      "_________________________________________________________________\n",
      " Layer (type)                Output Shape              Param #   \n",
      "=================================================================\n",
      " input_2 (InputLayer)        [(None, 96, 96, 3)]       0         \n",
      "                                                                 \n",
      " resnet50v2 (Functional)     (None, 3, 3, 2048)        23564800  \n",
      "                                                                 \n",
      " GlobalAVGPool (GlobalAverag  (None, 2048)             0         \n",
      " ePooling2D)                                                     \n",
      "                                                                 \n",
      " classifier_0 (Dense)        (None, 1024)              2098176   \n",
      "                                                                 \n",
      " dropout (Dropout)           (None, 1024)              0         \n",
      "                                                                 \n",
      " classifier_1 (Dense)        (None, 128)               131200    \n",
      "                                                                 \n",
      " dropout_1 (Dropout)         (None, 128)               0         \n",
      "                                                                 \n",
      " Output (Dense)              (None, 8)                 1032      \n",
      "                                                                 \n",
      "=================================================================\n",
      "Total params: 25,795,208\n",
      "Trainable params: 2,230,408\n",
      "Non-trainable params: 23,564,800\n",
      "_________________________________________________________________\n"
     ]
    }
   ],
   "source": [
    "#ft_model = model_helper.load_model(\"Xception_Freezed_CNN_AvgPooling3Dense\",)\n",
    "ft_model = tf.keras.models.load_model(\"../../local_saved_models/ResNet50-Base\",custom_objects = {\"F1\":F1})\n",
    "ft_model.summary()"
   ]
  },
  {
   "cell_type": "code",
   "execution_count": 17,
   "metadata": {},
   "outputs": [
    {
     "name": "stdout",
     "output_type": "stream",
     "text": [
      "0 input_1 False\n",
      "1 conv1_pad False\n",
      "2 conv1_conv False\n",
      "3 pool1_pad False\n",
      "4 pool1_pool False\n",
      "5 conv2_block1_preact_bn False\n",
      "6 conv2_block1_preact_relu False\n",
      "7 conv2_block1_1_conv False\n",
      "8 conv2_block1_1_bn False\n",
      "9 conv2_block1_1_relu False\n",
      "10 conv2_block1_2_pad False\n",
      "11 conv2_block1_2_conv False\n",
      "12 conv2_block1_2_bn False\n",
      "13 conv2_block1_2_relu False\n",
      "14 conv2_block1_0_conv False\n",
      "15 conv2_block1_3_conv False\n",
      "16 conv2_block1_out False\n",
      "17 conv2_block2_preact_bn False\n",
      "18 conv2_block2_preact_relu False\n",
      "19 conv2_block2_1_conv False\n",
      "20 conv2_block2_1_bn False\n",
      "21 conv2_block2_1_relu False\n",
      "22 conv2_block2_2_pad False\n",
      "23 conv2_block2_2_conv False\n",
      "24 conv2_block2_2_bn False\n",
      "25 conv2_block2_2_relu False\n",
      "26 conv2_block2_3_conv False\n",
      "27 conv2_block2_out False\n",
      "28 conv2_block3_preact_bn False\n",
      "29 conv2_block3_preact_relu False\n",
      "30 conv2_block3_1_conv False\n",
      "31 conv2_block3_1_bn False\n",
      "32 conv2_block3_1_relu False\n",
      "33 conv2_block3_2_pad False\n",
      "34 conv2_block3_2_conv False\n",
      "35 conv2_block3_2_bn False\n",
      "36 conv2_block3_2_relu False\n",
      "37 max_pooling2d False\n",
      "38 conv2_block3_3_conv False\n",
      "39 conv2_block3_out False\n",
      "40 conv3_block1_preact_bn False\n",
      "41 conv3_block1_preact_relu False\n",
      "42 conv3_block1_1_conv False\n",
      "43 conv3_block1_1_bn False\n",
      "44 conv3_block1_1_relu False\n",
      "45 conv3_block1_2_pad False\n",
      "46 conv3_block1_2_conv False\n",
      "47 conv3_block1_2_bn False\n",
      "48 conv3_block1_2_relu False\n",
      "49 conv3_block1_0_conv False\n",
      "50 conv3_block1_3_conv False\n",
      "51 conv3_block1_out False\n",
      "52 conv3_block2_preact_bn False\n",
      "53 conv3_block2_preact_relu False\n",
      "54 conv3_block2_1_conv False\n",
      "55 conv3_block2_1_bn False\n",
      "56 conv3_block2_1_relu False\n",
      "57 conv3_block2_2_pad False\n",
      "58 conv3_block2_2_conv False\n",
      "59 conv3_block2_2_bn False\n",
      "60 conv3_block2_2_relu False\n",
      "61 conv3_block2_3_conv False\n",
      "62 conv3_block2_out False\n",
      "63 conv3_block3_preact_bn False\n",
      "64 conv3_block3_preact_relu False\n",
      "65 conv3_block3_1_conv False\n",
      "66 conv3_block3_1_bn False\n",
      "67 conv3_block3_1_relu False\n",
      "68 conv3_block3_2_pad False\n",
      "69 conv3_block3_2_conv False\n",
      "70 conv3_block3_2_bn False\n",
      "71 conv3_block3_2_relu False\n",
      "72 conv3_block3_3_conv False\n",
      "73 conv3_block3_out False\n",
      "74 conv3_block4_preact_bn False\n",
      "75 conv3_block4_preact_relu False\n",
      "76 conv3_block4_1_conv False\n",
      "77 conv3_block4_1_bn False\n",
      "78 conv3_block4_1_relu False\n",
      "79 conv3_block4_2_pad False\n",
      "80 conv3_block4_2_conv False\n",
      "81 conv3_block4_2_bn False\n",
      "82 conv3_block4_2_relu False\n",
      "83 max_pooling2d_1 False\n",
      "84 conv3_block4_3_conv False\n",
      "85 conv3_block4_out False\n",
      "86 conv4_block1_preact_bn False\n",
      "87 conv4_block1_preact_relu False\n",
      "88 conv4_block1_1_conv False\n",
      "89 conv4_block1_1_bn False\n",
      "90 conv4_block1_1_relu False\n",
      "91 conv4_block1_2_pad False\n",
      "92 conv4_block1_2_conv False\n",
      "93 conv4_block1_2_bn False\n",
      "94 conv4_block1_2_relu False\n",
      "95 conv4_block1_0_conv False\n",
      "96 conv4_block1_3_conv False\n",
      "97 conv4_block1_out False\n",
      "98 conv4_block2_preact_bn False\n",
      "99 conv4_block2_preact_relu False\n",
      "100 conv4_block2_1_conv True\n",
      "101 conv4_block2_1_bn True\n",
      "102 conv4_block2_1_relu True\n",
      "103 conv4_block2_2_pad True\n",
      "104 conv4_block2_2_conv True\n",
      "105 conv4_block2_2_bn True\n",
      "106 conv4_block2_2_relu True\n",
      "107 conv4_block2_3_conv True\n",
      "108 conv4_block2_out True\n",
      "109 conv4_block3_preact_bn True\n",
      "110 conv4_block3_preact_relu True\n",
      "111 conv4_block3_1_conv True\n",
      "112 conv4_block3_1_bn True\n",
      "113 conv4_block3_1_relu True\n",
      "114 conv4_block3_2_pad True\n",
      "115 conv4_block3_2_conv True\n",
      "116 conv4_block3_2_bn True\n",
      "117 conv4_block3_2_relu True\n",
      "118 conv4_block3_3_conv True\n",
      "119 conv4_block3_out True\n",
      "120 conv4_block4_preact_bn True\n",
      "121 conv4_block4_preact_relu True\n",
      "122 conv4_block4_1_conv True\n",
      "123 conv4_block4_1_bn True\n",
      "124 conv4_block4_1_relu True\n",
      "125 conv4_block4_2_pad True\n",
      "126 conv4_block4_2_conv True\n",
      "127 conv4_block4_2_bn True\n",
      "128 conv4_block4_2_relu True\n",
      "129 conv4_block4_3_conv True\n",
      "130 conv4_block4_out True\n",
      "131 conv4_block5_preact_bn True\n",
      "132 conv4_block5_preact_relu True\n",
      "133 conv4_block5_1_conv True\n",
      "134 conv4_block5_1_bn True\n",
      "135 conv4_block5_1_relu True\n",
      "136 conv4_block5_2_pad True\n",
      "137 conv4_block5_2_conv True\n",
      "138 conv4_block5_2_bn True\n",
      "139 conv4_block5_2_relu True\n",
      "140 conv4_block5_3_conv True\n",
      "141 conv4_block5_out True\n",
      "142 conv4_block6_preact_bn True\n",
      "143 conv4_block6_preact_relu True\n",
      "144 conv4_block6_1_conv True\n",
      "145 conv4_block6_1_bn True\n",
      "146 conv4_block6_1_relu True\n",
      "147 conv4_block6_2_pad True\n",
      "148 conv4_block6_2_conv True\n",
      "149 conv4_block6_2_bn True\n",
      "150 conv4_block6_2_relu True\n",
      "151 max_pooling2d_2 True\n",
      "152 conv4_block6_3_conv True\n",
      "153 conv4_block6_out True\n",
      "154 conv5_block1_preact_bn True\n",
      "155 conv5_block1_preact_relu True\n",
      "156 conv5_block1_1_conv True\n",
      "157 conv5_block1_1_bn True\n",
      "158 conv5_block1_1_relu True\n",
      "159 conv5_block1_2_pad True\n",
      "160 conv5_block1_2_conv True\n",
      "161 conv5_block1_2_bn True\n",
      "162 conv5_block1_2_relu True\n",
      "163 conv5_block1_0_conv True\n",
      "164 conv5_block1_3_conv True\n",
      "165 conv5_block1_out True\n",
      "166 conv5_block2_preact_bn True\n",
      "167 conv5_block2_preact_relu True\n",
      "168 conv5_block2_1_conv True\n",
      "169 conv5_block2_1_bn True\n",
      "170 conv5_block2_1_relu True\n",
      "171 conv5_block2_2_pad True\n",
      "172 conv5_block2_2_conv True\n",
      "173 conv5_block2_2_bn True\n",
      "174 conv5_block2_2_relu True\n",
      "175 conv5_block2_3_conv True\n",
      "176 conv5_block2_out True\n",
      "177 conv5_block3_preact_bn True\n",
      "178 conv5_block3_preact_relu True\n",
      "179 conv5_block3_1_conv True\n",
      "180 conv5_block3_1_bn True\n",
      "181 conv5_block3_1_relu True\n",
      "182 conv5_block3_2_pad True\n",
      "183 conv5_block3_2_conv True\n",
      "184 conv5_block3_2_bn True\n",
      "185 conv5_block3_2_relu True\n",
      "186 conv5_block3_3_conv True\n",
      "187 conv5_block3_out True\n",
      "188 post_bn True\n",
      "189 post_relu True\n"
     ]
    }
   ],
   "source": [
    "num_of_freezed_layer = 100\n",
    "# Freeze first N layers, e.g., until 14th\n",
    "ft_model.get_layer('resnet50v2').trainable = True\n",
    "for i, layer in enumerate(ft_model.get_layer('resnet50v2').layers[:num_of_freezed_layer]):\n",
    "    layer.trainable=False\n",
    "for i, layer in enumerate(ft_model.get_layer('resnet50v2').layers):\n",
    "    print(i, layer.name, layer.trainable)"
   ]
  },
  {
   "cell_type": "code",
   "execution_count": 18,
   "metadata": {},
   "outputs": [],
   "source": [
    "# Compile the model\n",
    "model_name = \"Resnet50-ft-\"+str(num_of_freezed_layer) + \"-layers\"\n",
    "ft_model.compile(loss=tfk.losses.CategoricalCrossentropy(), optimizer=tfk.optimizers.Adam(1e-3), metrics=['accuracy',F1])"
   ]
  },
  {
   "cell_type": "code",
   "execution_count": 19,
   "metadata": {},
   "outputs": [
    {
     "name": "stdout",
     "output_type": "stream",
     "text": [
      "Epoch 1/200\n",
      "173/173 [==============================] - 69s 361ms/step - loss: 1.2934 - accuracy: 0.5208 - F1: 0.4428 - val_loss: 1.4698 - val_accuracy: 0.5566 - val_F1: 0.5532\n",
      "Epoch 2/200\n",
      "173/173 [==============================] - 61s 350ms/step - loss: 0.9292 - accuracy: 0.6594 - F1: 0.6327 - val_loss: 0.8831 - val_accuracy: 0.7075 - val_F1: 0.6880\n",
      "Epoch 3/200\n",
      "173/173 [==============================] - 59s 341ms/step - loss: 0.7756 - accuracy: 0.7182 - F1: 0.7078 - val_loss: 1.1867 - val_accuracy: 0.5881 - val_F1: 0.6347\n",
      "Epoch 4/200\n",
      "173/173 [==============================] - 60s 349ms/step - loss: 0.6554 - accuracy: 0.7651 - F1: 0.7596 - val_loss: 1.1330 - val_accuracy: 0.6069 - val_F1: 0.6446\n",
      "Epoch 5/200\n",
      "173/173 [==============================] - 61s 354ms/step - loss: 0.5541 - accuracy: 0.8042 - F1: 0.8016 - val_loss: 0.9815 - val_accuracy: 0.7044 - val_F1: 0.7191\n",
      "Epoch 6/200\n",
      "173/173 [==============================] - 61s 353ms/step - loss: 0.3942 - accuracy: 0.8617 - F1: 0.8618 - val_loss: 0.9720 - val_accuracy: 0.7358 - val_F1: 0.7508\n",
      "Epoch 7/200\n",
      "173/173 [==============================] - 60s 347ms/step - loss: 0.3257 - accuracy: 0.8888 - F1: 0.8892 - val_loss: 1.0687 - val_accuracy: 0.7327 - val_F1: 0.7299\n",
      "Epoch 8/200\n",
      "173/173 [==============================] - 61s 354ms/step - loss: 0.2496 - accuracy: 0.9131 - F1: 0.9120 - val_loss: 1.1020 - val_accuracy: 0.7138 - val_F1: 0.7297\n",
      "Epoch 9/200\n",
      "173/173 [==============================] - 60s 349ms/step - loss: 0.1987 - accuracy: 0.9348 - F1: 0.9344 - val_loss: 1.1389 - val_accuracy: 0.7453 - val_F1: 0.7385\n",
      "Epoch 10/200\n",
      "173/173 [==============================] - 61s 351ms/step - loss: 0.1756 - accuracy: 0.9423 - F1: 0.9416 - val_loss: 1.0658 - val_accuracy: 0.7516 - val_F1: 0.7623\n",
      "Epoch 11/200\n",
      "173/173 [==============================] - 61s 351ms/step - loss: 0.1371 - accuracy: 0.9545 - F1: 0.9536 - val_loss: 1.3832 - val_accuracy: 0.7107 - val_F1: 0.7258\n",
      "Epoch 12/200\n",
      "173/173 [==============================] - 62s 359ms/step - loss: 0.1020 - accuracy: 0.9665 - F1: 0.9662 - val_loss: 1.4314 - val_accuracy: 0.7296 - val_F1: 0.7265\n",
      "Epoch 13/200\n",
      "173/173 [==============================] - 60s 348ms/step - loss: 0.1269 - accuracy: 0.9589 - F1: 0.9587 - val_loss: 1.6107 - val_accuracy: 0.6981 - val_F1: 0.6914\n",
      "Epoch 14/200\n",
      "173/173 [==============================] - 61s 353ms/step - loss: 0.0938 - accuracy: 0.9692 - F1: 0.9690 - val_loss: 1.3730 - val_accuracy: 0.7264 - val_F1: 0.7288\n",
      "Epoch 15/200\n",
      "173/173 [==============================] - 61s 354ms/step - loss: 0.0894 - accuracy: 0.9707 - F1: 0.9708 - val_loss: 1.6265 - val_accuracy: 0.7233 - val_F1: 0.7168\n",
      "Epoch 16/200\n",
      "173/173 [==============================] - 61s 354ms/step - loss: 0.0760 - accuracy: 0.9757 - F1: 0.9758 - val_loss: 1.5582 - val_accuracy: 0.7327 - val_F1: 0.7354\n",
      "Epoch 17/200\n",
      "173/173 [==============================] - 61s 351ms/step - loss: 0.0714 - accuracy: 0.9756 - F1: 0.9756 - val_loss: 1.5411 - val_accuracy: 0.7547 - val_F1: 0.7453\n",
      "Epoch 18/200\n",
      "173/173 [==============================] - 62s 357ms/step - loss: 0.0802 - accuracy: 0.9732 - F1: 0.9734 - val_loss: 1.3977 - val_accuracy: 0.7610 - val_F1: 0.7444\n",
      "Epoch 19/200\n",
      "173/173 [==============================] - 61s 350ms/step - loss: 0.0577 - accuracy: 0.9809 - F1: 0.9804 - val_loss: 1.5336 - val_accuracy: 0.7547 - val_F1: 0.7521\n",
      "Epoch 20/200\n",
      "173/173 [==============================] - 61s 352ms/step - loss: 0.0689 - accuracy: 0.9779 - F1: 0.9774 - val_loss: 1.3520 - val_accuracy: 0.7516 - val_F1: 0.7492\n",
      "Epoch 21/200\n",
      "173/173 [==============================] - 61s 353ms/step - loss: 0.0633 - accuracy: 0.9798 - F1: 0.9798 - val_loss: 1.6946 - val_accuracy: 0.7327 - val_F1: 0.7295\n",
      "Epoch 22/200\n",
      "173/173 [==============================] - 61s 355ms/step - loss: 0.0665 - accuracy: 0.9779 - F1: 0.9779 - val_loss: 1.7761 - val_accuracy: 0.7201 - val_F1: 0.7172\n",
      "Epoch 23/200\n",
      "173/173 [==============================] - 61s 350ms/step - loss: 0.0610 - accuracy: 0.9813 - F1: 0.9804 - val_loss: 1.6927 - val_accuracy: 0.7516 - val_F1: 0.7601\n",
      "Epoch 24/200\n",
      "173/173 [==============================] - 61s 352ms/step - loss: 0.0695 - accuracy: 0.9783 - F1: 0.9779 - val_loss: 1.7542 - val_accuracy: 0.7264 - val_F1: 0.7275\n",
      "Epoch 25/200\n",
      "173/173 [==============================] - 61s 352ms/step - loss: 0.0545 - accuracy: 0.9819 - F1: 0.9820 - val_loss: 1.5936 - val_accuracy: 0.7547 - val_F1: 0.7569\n",
      "Epoch 26/200\n",
      "173/173 [==============================] - 61s 352ms/step - loss: 0.0867 - accuracy: 0.9741 - F1: 0.9738 - val_loss: 1.4782 - val_accuracy: 0.7296 - val_F1: 0.7293\n",
      "Epoch 27/200\n",
      "173/173 [==============================] - 60s 349ms/step - loss: 0.0734 - accuracy: 0.9770 - F1: 0.9769 - val_loss: 1.3363 - val_accuracy: 0.7704 - val_F1: 0.7679\n",
      "Epoch 28/200\n",
      "173/173 [==============================] - 61s 351ms/step - loss: 0.0536 - accuracy: 0.9839 - F1: 0.9834 - val_loss: 1.4888 - val_accuracy: 0.7327 - val_F1: 0.7338\n",
      "Epoch 29/200\n",
      "173/173 [==============================] - 62s 357ms/step - loss: 0.0389 - accuracy: 0.9880 - F1: 0.9876 - val_loss: 1.5666 - val_accuracy: 0.7610 - val_F1: 0.7510\n",
      "Epoch 30/200\n",
      "173/173 [==============================] - 61s 351ms/step - loss: 0.0512 - accuracy: 0.9829 - F1: 0.9825 - val_loss: 1.6317 - val_accuracy: 0.7421 - val_F1: 0.7427\n",
      "Epoch 31/200\n",
      "173/173 [==============================] - 60s 349ms/step - loss: 0.0457 - accuracy: 0.9848 - F1: 0.9847 - val_loss: 2.1009 - val_accuracy: 0.7296 - val_F1: 0.7279\n",
      "Epoch 32/200\n",
      "173/173 [==============================] - 61s 351ms/step - loss: 0.0508 - accuracy: 0.9834 - F1: 0.9834 - val_loss: 1.8708 - val_accuracy: 0.7453 - val_F1: 0.7509\n",
      "Epoch 33/200\n",
      "173/173 [==============================] - 61s 351ms/step - loss: 0.0524 - accuracy: 0.9841 - F1: 0.9841 - val_loss: 1.8593 - val_accuracy: 0.7579 - val_F1: 0.7589\n",
      "Epoch 34/200\n",
      "173/173 [==============================] - 62s 356ms/step - loss: 0.0322 - accuracy: 0.9896 - F1: 0.9895 - val_loss: 2.0600 - val_accuracy: 0.7264 - val_F1: 0.7229\n",
      "Epoch 35/200\n",
      "173/173 [==============================] - 62s 356ms/step - loss: 0.0462 - accuracy: 0.9850 - F1: 0.9851 - val_loss: 1.6810 - val_accuracy: 0.7673 - val_F1: 0.7637\n",
      "Epoch 36/200\n",
      "173/173 [==============================] - 61s 350ms/step - loss: 0.0361 - accuracy: 0.9878 - F1: 0.9876 - val_loss: 1.8693 - val_accuracy: 0.7296 - val_F1: 0.7240\n",
      "Epoch 37/200\n",
      "173/173 [==============================] - 61s 350ms/step - loss: 0.0527 - accuracy: 0.9835 - F1: 0.9838 - val_loss: 1.8343 - val_accuracy: 0.7264 - val_F1: 0.7211\n",
      "Epoch 38/200\n",
      "173/173 [==============================] - 61s 353ms/step - loss: 0.0332 - accuracy: 0.9892 - F1: 0.9894 - val_loss: 1.6332 - val_accuracy: 0.7642 - val_F1: 0.7437\n",
      "Epoch 39/200\n",
      "173/173 [==============================] - 61s 355ms/step - loss: 0.0356 - accuracy: 0.9897 - F1: 0.9896 - val_loss: 1.7922 - val_accuracy: 0.7421 - val_F1: 0.7389\n",
      "Epoch 40/200\n",
      "173/173 [==============================] - 60s 345ms/step - loss: 0.0318 - accuracy: 0.9904 - F1: 0.9903 - val_loss: 1.7177 - val_accuracy: 0.7673 - val_F1: 0.7577\n",
      "Epoch 41/200\n",
      "173/173 [==============================] - 62s 357ms/step - loss: 0.0347 - accuracy: 0.9885 - F1: 0.9885 - val_loss: 1.8225 - val_accuracy: 0.7453 - val_F1: 0.7462\n",
      "Epoch 42/200\n",
      "173/173 [==============================] - 61s 350ms/step - loss: 0.0348 - accuracy: 0.9888 - F1: 0.9889 - val_loss: 1.3792 - val_accuracy: 0.7516 - val_F1: 0.7375\n"
     ]
    }
   ],
   "source": [
    "# Train the model\n",
    "#Create ALL desired callbacks\n",
    "callbacks_selected = model_helper.createCallbacks(earlyStopping = True,checkPoints=True,tensorboard=True,patience=15,model_name=model_name)\n",
    "\n",
    "#Build the model\n",
    "input_shape = X_train.shape[1:]#(None,96,96,3)\n",
    "batch_size = 128\n",
    "epochs = 200\n",
    "\n",
    "#Fit the model\n",
    "history = ft_model.fit(\n",
    "    x = X_train_ft,\n",
    "    y = Y_train,\n",
    "    batch_size = batch_size,\n",
    "    epochs = epochs,\n",
    "    validation_data = (X_val_ft, Y_val),\n",
    "    callbacks = callbacks_selected\n",
    ").history"
   ]
  },
  {
   "cell_type": "code",
   "execution_count": 21,
   "metadata": {},
   "outputs": [
    {
     "name": "stderr",
     "output_type": "stream",
     "text": [
      "WARNING:absl:Found untraced functions such as _jit_compiled_convolution_op, _jit_compiled_convolution_op, _jit_compiled_convolution_op, _jit_compiled_convolution_op, _jit_compiled_convolution_op while saving (showing 5 of 53). These functions will not be directly callable after loading.\n"
     ]
    },
    {
     "name": "stdout",
     "output_type": "stream",
     "text": [
      "INFO:tensorflow:Assets written to: ../../local_saved_models/Resnet50-ft-100-layers/assets\n"
     ]
    },
    {
     "name": "stderr",
     "output_type": "stream",
     "text": [
      "INFO:tensorflow:Assets written to: ../../local_saved_models/Resnet50-ft-100-layers/assets\n"
     ]
    }
   ],
   "source": [
    "model_helper.save_model(ft_model,model_name)"
   ]
  },
  {
   "cell_type": "code",
   "execution_count": 22,
   "metadata": {},
   "outputs": [
    {
     "name": "stdout",
     "output_type": "stream",
     "text": [
      "12/12 [==============================] - 2s 57ms/step\n",
      "Accuracy: 0.7797\n",
      "Precision: 0.7743\n",
      "Recall: 0.7599\n",
      "F1: 0.7655\n"
     ]
    },
    {
     "data": {
      "image/png": "[encoded data removed]",
      "text/plain": [
       "<Figure size 1000x800 with 2 Axes>"
      ]
     },
     "metadata": {},
     "output_type": "display_data"
    },
    {
     "name": "stdout",
     "output_type": "stream",
     "text": [
      "BABABA\n"
     ]
    },
    {
     "data": {
      "image/png": "[encoded data removed]",
      "text/plain": [
       "<Figure size 2000x500 with 1 Axes>"
      ]
     },
     "metadata": {},
     "output_type": "display_data"
    },
    {
     "data": {
      "image/png": "[encoded data removed]",
      "text/plain": [
       "<Figure size 2000x500 with 1 Axes>"
      ]
     },
     "metadata": {},
     "output_type": "display_data"
    }
   ],
   "source": [
    "model_helper.show_confusion_matrix(X_test_ft,Y_test)\n",
    "model_helper.plot_phase_train_vs_validation(history)"
   ]
  },
  {
   "cell_type": "markdown",
   "metadata": {},
   "source": [
    "# STEP 3 -> Change augmentation seed and train some other epoche with 150 freezed layer"
   ]
  },
  {
   "cell_type": "code",
   "execution_count": 26,
   "metadata": {},
   "outputs": [],
   "source": [
    "dataset_helper.seed = 4349"
   ]
  },
  {
   "cell_type": "code",
   "execution_count": 27,
   "metadata": {},
   "outputs": [
    {
     "name": "stdout",
     "output_type": "stream",
     "text": [
      "Data Augmentation with data distribution\n",
      "Data distribution = [0.13195833 0.12259167 0.123025   0.12315833 0.122625   0.13095833\n",
      " 0.12245833 0.123225  ]\n",
      "Class Size :  151, generating: 3958\n",
      "3720 images generated\n",
      "Class Size :  432, generating: 3677\n",
      "3520 images generated\n",
      "Class Size :  419, generating: 3690\n",
      "3448 images generated\n",
      "Class Size :  415, generating: 3694\n",
      "3672 images generated\n",
      "Class Size :  431, generating: 3678\n",
      "3512 images generated\n",
      "Class Size :  181, generating: 3928\n",
      "3684 images generated\n",
      "Class Size :  436, generating: 3673\n",
      "3552 images generated\n",
      "Class Size :  413, generating: 3696\n",
      "3656 images generated\n"
     ]
    }
   ],
   "source": [
    "#GENERATE 3000 new images\n",
    "#X_train,Y_train = dataset_helper.apply_data_augmentation_with_classes_distribution(X_train,Y_train,1000,[0.3,0.05,0.05,0.05,0.05,0.3,0.05,0.05])\n",
    "\n",
    "X_train,Y_train = dataset_helper.apply_data_augmentation_normalized(X_t_original,Y_t_original,30000, disable_tqdm=True,\n",
    "                                rotation_range=360,\n",
    "                                width_shift_range=0.3,\n",
    "                                height_shift_range=0.3,\n",
    "                                zoom_range=0.9,\n",
    "                                fill_mode=\"reflect\",\n",
    "                                horizontal_flip=True,\n",
    "                                vertical_flip=True,\n",
    "                                brightness_range=(0.5, 1.1))"
   ]
  },
  {
   "cell_type": "code",
   "execution_count": 28,
   "metadata": {},
   "outputs": [],
   "source": [
    "X_train_ft = preprocess_input(X_train*255)"
   ]
  },
  {
   "cell_type": "code",
   "execution_count": 29,
   "metadata": {},
   "outputs": [
    {
     "name": "stdout",
     "output_type": "stream",
     "text": [
      "0 input_1 False\n",
      "1 conv1_pad False\n",
      "2 conv1_conv False\n",
      "3 pool1_pad False\n",
      "4 pool1_pool False\n",
      "5 conv2_block1_preact_bn False\n",
      "6 conv2_block1_preact_relu False\n",
      "7 conv2_block1_1_conv False\n",
      "8 conv2_block1_1_bn False\n",
      "9 conv2_block1_1_relu False\n",
      "10 conv2_block1_2_pad False\n",
      "11 conv2_block1_2_conv False\n",
      "12 conv2_block1_2_bn False\n",
      "13 conv2_block1_2_relu False\n",
      "14 conv2_block1_0_conv False\n",
      "15 conv2_block1_3_conv False\n",
      "16 conv2_block1_out False\n",
      "17 conv2_block2_preact_bn False\n",
      "18 conv2_block2_preact_relu False\n",
      "19 conv2_block2_1_conv False\n",
      "20 conv2_block2_1_bn False\n",
      "21 conv2_block2_1_relu False\n",
      "22 conv2_block2_2_pad False\n",
      "23 conv2_block2_2_conv False\n",
      "24 conv2_block2_2_bn False\n",
      "25 conv2_block2_2_relu False\n",
      "26 conv2_block2_3_conv False\n",
      "27 conv2_block2_out False\n",
      "28 conv2_block3_preact_bn False\n",
      "29 conv2_block3_preact_relu False\n",
      "30 conv2_block3_1_conv False\n",
      "31 conv2_block3_1_bn False\n",
      "32 conv2_block3_1_relu False\n",
      "33 conv2_block3_2_pad False\n",
      "34 conv2_block3_2_conv False\n",
      "35 conv2_block3_2_bn False\n",
      "36 conv2_block3_2_relu False\n",
      "37 max_pooling2d False\n",
      "38 conv2_block3_3_conv False\n",
      "39 conv2_block3_out False\n",
      "40 conv3_block1_preact_bn False\n",
      "41 conv3_block1_preact_relu False\n",
      "42 conv3_block1_1_conv False\n",
      "43 conv3_block1_1_bn False\n",
      "44 conv3_block1_1_relu False\n",
      "45 conv3_block1_2_pad False\n",
      "46 conv3_block1_2_conv False\n",
      "47 conv3_block1_2_bn False\n",
      "48 conv3_block1_2_relu False\n",
      "49 conv3_block1_0_conv False\n",
      "50 conv3_block1_3_conv False\n",
      "51 conv3_block1_out False\n",
      "52 conv3_block2_preact_bn False\n",
      "53 conv3_block2_preact_relu False\n",
      "54 conv3_block2_1_conv False\n",
      "55 conv3_block2_1_bn False\n",
      "56 conv3_block2_1_relu False\n",
      "57 conv3_block2_2_pad False\n",
      "58 conv3_block2_2_conv False\n",
      "59 conv3_block2_2_bn False\n",
      "60 conv3_block2_2_relu False\n",
      "61 conv3_block2_3_conv False\n",
      "62 conv3_block2_out False\n",
      "63 conv3_block3_preact_bn False\n",
      "64 conv3_block3_preact_relu False\n",
      "65 conv3_block3_1_conv False\n",
      "66 conv3_block3_1_bn False\n",
      "67 conv3_block3_1_relu False\n",
      "68 conv3_block3_2_pad False\n",
      "69 conv3_block3_2_conv False\n",
      "70 conv3_block3_2_bn False\n",
      "71 conv3_block3_2_relu False\n",
      "72 conv3_block3_3_conv False\n",
      "73 conv3_block3_out False\n",
      "74 conv3_block4_preact_bn False\n",
      "75 conv3_block4_preact_relu False\n",
      "76 conv3_block4_1_conv False\n",
      "77 conv3_block4_1_bn False\n",
      "78 conv3_block4_1_relu False\n",
      "79 conv3_block4_2_pad False\n",
      "80 conv3_block4_2_conv False\n",
      "81 conv3_block4_2_bn False\n",
      "82 conv3_block4_2_relu False\n",
      "83 max_pooling2d_1 False\n",
      "84 conv3_block4_3_conv False\n",
      "85 conv3_block4_out False\n",
      "86 conv4_block1_preact_bn False\n",
      "87 conv4_block1_preact_relu False\n",
      "88 conv4_block1_1_conv False\n",
      "89 conv4_block1_1_bn False\n",
      "90 conv4_block1_1_relu False\n",
      "91 conv4_block1_2_pad False\n",
      "92 conv4_block1_2_conv False\n",
      "93 conv4_block1_2_bn False\n",
      "94 conv4_block1_2_relu False\n",
      "95 conv4_block1_0_conv False\n",
      "96 conv4_block1_3_conv False\n",
      "97 conv4_block1_out False\n",
      "98 conv4_block2_preact_bn False\n",
      "99 conv4_block2_preact_relu False\n",
      "100 conv4_block2_1_conv False\n",
      "101 conv4_block2_1_bn False\n",
      "102 conv4_block2_1_relu False\n",
      "103 conv4_block2_2_pad False\n",
      "104 conv4_block2_2_conv False\n",
      "105 conv4_block2_2_bn False\n",
      "106 conv4_block2_2_relu False\n",
      "107 conv4_block2_3_conv False\n",
      "108 conv4_block2_out False\n",
      "109 conv4_block3_preact_bn False\n",
      "110 conv4_block3_preact_relu False\n",
      "111 conv4_block3_1_conv False\n",
      "112 conv4_block3_1_bn False\n",
      "113 conv4_block3_1_relu False\n",
      "114 conv4_block3_2_pad False\n",
      "115 conv4_block3_2_conv False\n",
      "116 conv4_block3_2_bn False\n",
      "117 conv4_block3_2_relu False\n",
      "118 conv4_block3_3_conv False\n",
      "119 conv4_block3_out False\n",
      "120 conv4_block4_preact_bn False\n",
      "121 conv4_block4_preact_relu False\n",
      "122 conv4_block4_1_conv False\n",
      "123 conv4_block4_1_bn False\n",
      "124 conv4_block4_1_relu False\n",
      "125 conv4_block4_2_pad False\n",
      "126 conv4_block4_2_conv False\n",
      "127 conv4_block4_2_bn False\n",
      "128 conv4_block4_2_relu False\n",
      "129 conv4_block4_3_conv False\n",
      "130 conv4_block4_out False\n",
      "131 conv4_block5_preact_bn False\n",
      "132 conv4_block5_preact_relu False\n",
      "133 conv4_block5_1_conv False\n",
      "134 conv4_block5_1_bn False\n",
      "135 conv4_block5_1_relu False\n",
      "136 conv4_block5_2_pad False\n",
      "137 conv4_block5_2_conv False\n",
      "138 conv4_block5_2_bn False\n",
      "139 conv4_block5_2_relu False\n",
      "140 conv4_block5_3_conv False\n",
      "141 conv4_block5_out False\n",
      "142 conv4_block6_preact_bn False\n",
      "143 conv4_block6_preact_relu False\n",
      "144 conv4_block6_1_conv False\n",
      "145 conv4_block6_1_bn False\n",
      "146 conv4_block6_1_relu False\n",
      "147 conv4_block6_2_pad False\n",
      "148 conv4_block6_2_conv False\n",
      "149 conv4_block6_2_bn False\n",
      "150 conv4_block6_2_relu True\n",
      "151 max_pooling2d_2 True\n",
      "152 conv4_block6_3_conv True\n",
      "153 conv4_block6_out True\n",
      "154 conv5_block1_preact_bn True\n",
      "155 conv5_block1_preact_relu True\n",
      "156 conv5_block1_1_conv True\n",
      "157 conv5_block1_1_bn True\n",
      "158 conv5_block1_1_relu True\n",
      "159 conv5_block1_2_pad True\n",
      "160 conv5_block1_2_conv True\n",
      "161 conv5_block1_2_bn True\n",
      "162 conv5_block1_2_relu True\n",
      "163 conv5_block1_0_conv True\n",
      "164 conv5_block1_3_conv True\n",
      "165 conv5_block1_out True\n",
      "166 conv5_block2_preact_bn True\n",
      "167 conv5_block2_preact_relu True\n",
      "168 conv5_block2_1_conv True\n",
      "169 conv5_block2_1_bn True\n",
      "170 conv5_block2_1_relu True\n",
      "171 conv5_block2_2_pad True\n",
      "172 conv5_block2_2_conv True\n",
      "173 conv5_block2_2_bn True\n",
      "174 conv5_block2_2_relu True\n",
      "175 conv5_block2_3_conv True\n",
      "176 conv5_block2_out True\n",
      "177 conv5_block3_preact_bn True\n",
      "178 conv5_block3_preact_relu True\n",
      "179 conv5_block3_1_conv True\n",
      "180 conv5_block3_1_bn True\n",
      "181 conv5_block3_1_relu True\n",
      "182 conv5_block3_2_pad True\n",
      "183 conv5_block3_2_conv True\n",
      "184 conv5_block3_2_bn True\n",
      "185 conv5_block3_2_relu True\n",
      "186 conv5_block3_3_conv True\n",
      "187 conv5_block3_out True\n",
      "188 post_bn True\n",
      "189 post_relu True\n"
     ]
    }
   ],
   "source": [
    "num_of_freezed_layer = 150\n",
    "# Freeze first N layers, e.g., until 14th\n",
    "ft_model.get_layer('resnet50v2').trainable = True\n",
    "for i, layer in enumerate(ft_model.get_layer('resnet50v2').layers[:num_of_freezed_layer]):\n",
    "    layer.trainable=False\n",
    "for i, layer in enumerate(ft_model.get_layer('resnet50v2').layers):\n",
    "    print(i, layer.name, layer.trainable)"
   ]
  },
  {
   "cell_type": "code",
   "execution_count": 30,
   "metadata": {},
   "outputs": [],
   "source": [
    "# Compile the model\n",
    "model_name = \"Resnet50-ft-\"+str(num_of_freezed_layer) + \"-layers\"\n",
    "ft_model.compile(loss=tfk.losses.CategoricalCrossentropy(), optimizer=tfk.optimizers.Adam(1e-3), metrics=['accuracy',F1])"
   ]
  },
  {
   "cell_type": "code",
   "execution_count": 31,
   "metadata": {},
   "outputs": [
    {
     "name": "stdout",
     "output_type": "stream",
     "text": [
      "Epoch 1/30\n",
      "247/248 [============================>.] - ETA: 0s - loss: 0.8382 - accuracy: 0.7156 - F1: 0.6950"
     ]
    },
    {
     "name": "stderr",
     "output_type": "stream",
     "text": [
      "2022-11-17 22:38:16.595888: W tensorflow/core/common_runtime/bfc_allocator.cc:290] Allocator (GPU_0_bfc) ran out of memory trying to allocate 4.58GiB with freed_by_count=0. The caller indicates that this is not a failure, but this may mean that there could be performance gains if more memory were available.\n"
     ]
    },
    {
     "name": "stdout",
     "output_type": "stream",
     "text": [
      "\b\b\b\b\b\b\b\b\b\b\b\b\b\b\b\b\b\b\b\b\b\b\b\b\b\b\b\b\b\b\b\b\b\b\b\b\b\b\b\b\b\b\b\b\b\b\b\b\b\b\b\b\b\b\b\b\b\b\b\b\b\b\b\b\b\b\b\b\b\b\b\b\b\b\b\b\b\b\b\b\b\b\b\b\b\b\b\b\b\b\b\b\b\b\b\b\b\r",
      "248/248 [==============================] - ETA: 0s - loss: 0.8380 - accuracy: 0.7155 - F1: 0.6949"
     ]
    },
    {
     "name": "stderr",
     "output_type": "stream",
     "text": [
      "2022-11-17 22:38:17.167319: W tensorflow/core/common_runtime/bfc_allocator.cc:290] Allocator (GPU_0_bfc) ran out of memory trying to allocate 4.52GiB with freed_by_count=0. The caller indicates that this is not a failure, but this may mean that there could be performance gains if more memory were available.\n",
      "2022-11-17 22:38:17.182861: W tensorflow/core/common_runtime/bfc_allocator.cc:290] Allocator (GPU_0_bfc) ran out of memory trying to allocate 4.64GiB with freed_by_count=0. The caller indicates that this is not a failure, but this may mean that there could be performance gains if more memory were available.\n"
     ]
    },
    {
     "name": "stdout",
     "output_type": "stream",
     "text": [
      "248/248 [==============================] - 68s 257ms/step - loss: 0.8380 - accuracy: 0.7155 - F1: 0.6949 - val_loss: 0.6728 - val_accuracy: 0.7893 - val_F1: 0.7984\n",
      "Epoch 2/30\n",
      "248/248 [==============================] - 61s 245ms/step - loss: 0.5910 - accuracy: 0.7819 - F1: 0.7788 - val_loss: 0.7798 - val_accuracy: 0.7736 - val_F1: 0.7784\n",
      "Epoch 3/30\n",
      "248/248 [==============================] - 61s 247ms/step - loss: 0.3814 - accuracy: 0.8614 - F1: 0.8610 - val_loss: 1.1182 - val_accuracy: 0.7673 - val_F1: 0.7567\n",
      "Epoch 4/30\n",
      "248/248 [==============================] - 61s 245ms/step - loss: 0.1964 - accuracy: 0.9318 - F1: 0.9329 - val_loss: 1.2260 - val_accuracy: 0.7736 - val_F1: 0.7763\n",
      "Epoch 5/30\n",
      "248/248 [==============================] - 61s 248ms/step - loss: 0.1226 - accuracy: 0.9593 - F1: 0.9600 - val_loss: 1.5338 - val_accuracy: 0.7704 - val_F1: 0.7648\n",
      "Epoch 6/30\n",
      "248/248 [==============================] - 61s 247ms/step - loss: 0.0739 - accuracy: 0.9753 - F1: 0.9754 - val_loss: 1.7115 - val_accuracy: 0.7484 - val_F1: 0.7424\n",
      "Epoch 7/30\n",
      "248/248 [==============================] - 62s 248ms/step - loss: 0.0648 - accuracy: 0.9794 - F1: 0.9789 - val_loss: 1.8745 - val_accuracy: 0.7547 - val_F1: 0.7460\n",
      "Epoch 8/30\n",
      "248/248 [==============================] - 61s 247ms/step - loss: 0.0647 - accuracy: 0.9793 - F1: 0.9784 - val_loss: 1.5013 - val_accuracy: 0.7579 - val_F1: 0.7493\n",
      "Epoch 9/30\n",
      "248/248 [==============================] - 61s 246ms/step - loss: 0.0575 - accuracy: 0.9813 - F1: 0.9803 - val_loss: 1.5519 - val_accuracy: 0.7799 - val_F1: 0.7737\n",
      "Epoch 10/30\n",
      "248/248 [==============================] - 62s 248ms/step - loss: 0.0633 - accuracy: 0.9796 - F1: 0.9795 - val_loss: 1.5714 - val_accuracy: 0.7704 - val_F1: 0.7702\n",
      "Epoch 11/30\n",
      "248/248 [==============================] - 61s 244ms/step - loss: 0.0331 - accuracy: 0.9898 - F1: 0.9896 - val_loss: 1.9142 - val_accuracy: 0.7673 - val_F1: 0.7639\n"
     ]
    }
   ],
   "source": [
    "# Train the model\n",
    "#Create ALL desired callbacks\n",
    "callbacks_selected = model_helper.createCallbacks(earlyStopping = True,checkPoints=True,tensorboard=True,patience=10,model_name=model_name)\n",
    "\n",
    "#Build the model\n",
    "input_shape = X_train.shape[1:]#(None,96,96,3)\n",
    "batch_size = 128\n",
    "epochs = 30\n",
    "\n",
    "#Fit the model\n",
    "history = ft_model.fit(\n",
    "    x = X_train_ft,\n",
    "    y = Y_train,\n",
    "    batch_size = batch_size,\n",
    "    epochs = epochs,\n",
    "    validation_data = (X_val_ft, Y_val),\n",
    "    callbacks = callbacks_selected\n",
    ").history"
   ]
  },
  {
   "cell_type": "code",
   "execution_count": null,
   "metadata": {},
   "outputs": [],
   "source": [
    "model_name = model_name+\"-step3\"\n",
    "model_helper.save_model(ft_model,model_name)"
   ]
  }
 ],
 "metadata": {
  "accelerator": "GPU",
  "colab": {
   "collapsed_sections": [],
   "provenance": []
  },
  "gpuClass": "standard",
  "kernelspec": {
   "display_name": "tf",
   "language": "python",
   "name": "tf"
  },
  "language_info": {
   "codemirror_mode": {
    "name": "ipython",
    "version": 3
   },
   "file_extension": ".py",
   "mimetype": "text/x-python",
   "name": "python",
   "nbconvert_exporter": "python",
   "pygments_lexer": "ipython3",
   "version": "3.8.13"
  },
  "vscode": {
   "interpreter": {
    "hash": "916dbcbb3f70747c44a77c7bcd40155683ae19c65e1c03b4aa3499c5328201f1"
   }
  }
 },
 "nbformat": 4,
 "nbformat_minor": 1
}
