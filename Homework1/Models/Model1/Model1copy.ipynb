{
 "cells": [
  {
   "cell_type": "code",
   "execution_count": 1,
   "metadata": {
    "colab": {
     "base_uri": "https://localhost:8080/"
    },
    "id": "izJLCjEmKE14",
    "outputId": "189ae366-3663-42a1-ab7e-08c1d0ef4434"
   },
   "outputs": [],
   "source": [
    "#from google.colab import drive\n",
    "#drive.mount('/gdrive')"
   ]
  },
  {
   "cell_type": "code",
   "execution_count": 2,
   "metadata": {
    "colab": {
     "base_uri": "https://localhost:8080/"
    },
    "id": "vX9CpB0ULJ13",
    "outputId": "3170e647-738a-4820-e53b-0e55b3f0651f"
   },
   "outputs": [],
   "source": [
    "%cd /gdrive/My Drive/ANNDL-H1/"
   ]
  },
  {
   "cell_type": "code",
   "execution_count": 3,
   "metadata": {
    "id": "cJm1aRJ7LYfn"
   },
   "outputs": [
    {
     "name": "stdout",
     "output_type": "stream",
     "text": [
      "Requirement already satisfied: sklearn in /home/nicomane/.local/lib/python3.8/site-packages (0.0.post1)\r\n"
     ]
    }
   ],
   "source": [
    "# Load the dataset to be used for classification\n",
    "#!unzip training_dataset_homework1.zip\n",
    "!pip install sklearn"
   ]
  },
  {
   "cell_type": "code",
   "execution_count": 4,
   "metadata": {
    "colab": {
     "base_uri": "https://localhost:8080/"
    },
    "id": "wSCplENNL075",
    "outputId": "a8ef9184-ce58-45fa-a485-d75c54129d7a"
   },
   "outputs": [
    {
     "name": "stdout",
     "output_type": "stream",
     "text": [
      "2.10.0\n"
     ]
    }
   ],
   "source": [
    "import tensorflow as tf\n",
    "import numpy as np\n",
    "import os\n",
    "import random\n",
    "import pandas as pd\n",
    "import seaborn as sns\n",
    "import matplotlib as mpl\n",
    "import matplotlib.pyplot as plt\n",
    "from sklearn.model_selection import train_test_split\n",
    "from sklearn.metrics import accuracy_score, f1_score, precision_score, recall_score\n",
    "from sklearn.metrics import confusion_matrix\n",
    "from PIL import Image\n",
    "from tensorflow import keras\n",
    "from tensorflow.keras.preprocessing.image import ImageDataGenerator\n",
    "\n",
    "import sys\n",
    "#OUR CUSTOM HELPER CLASS\n",
    "sys.path.append('../../../Utils/')\n",
    "from DatasetHelper import DatasetHelper\n",
    "from Utils import ModelHelper\n",
    "\n",
    "tfk = tf.keras\n",
    "tfkl = tf.keras.layers\n",
    "print(tf.__version__)"
   ]
  },
  {
   "cell_type": "code",
   "execution_count": 5,
   "metadata": {
    "colab": {
     "base_uri": "https://localhost:8080/"
    },
    "id": "PKD6_WLy9JW3",
    "outputId": "49daa8cc-069b-43e9-bc66-9566f43d8c2e"
   },
   "outputs": [
    {
     "name": "stdout",
     "output_type": "stream",
     "text": [
      "Requirement already satisfied: visualkeras in /home/nicomane/.local/lib/python3.8/site-packages (0.0.2)\r\n",
      "Requirement already satisfied: numpy>=1.18.1 in /home/nicomane/.local/lib/python3.8/site-packages (from visualkeras) (1.21.4)\r\n",
      "Requirement already satisfied: aggdraw>=1.3.11 in /home/nicomane/.local/lib/python3.8/site-packages (from visualkeras) (1.3.15)\r\n",
      "Requirement already satisfied: pillow>=6.2.0 in /usr/lib/python3/dist-packages (from visualkeras) (7.0.0)\r\n"
     ]
    }
   ],
   "source": [
    "# Download and import visualkeras library\n",
    "!pip install visualkeras\n",
    "import visualkeras"
   ]
  },
  {
   "cell_type": "code",
   "execution_count": 6,
   "metadata": {
    "id": "Yx5smRu9LphO"
   },
   "outputs": [],
   "source": [
    "# Dataset folders \n",
    "dataset_dir = '../../data'\n",
    "training_dir = os.path.join(dataset_dir, '')"
   ]
  },
  {
   "cell_type": "code",
   "execution_count": 10,
   "metadata": {
    "colab": {
     "base_uri": "https://localhost:8080/"
    },
    "id": "RXZr8OdKMykg",
    "outputId": "bd215fc4-2368-4a6c-be5f-6933444c0a89"
   },
   "outputs": [],
   "source": [
    "#Create Instances Of Utils Helper\n",
    "seed = 42\n",
    "labels = {0:'Species1', 1:'Species2', 2:'Species3', 3:'Species4',4:'Species5', 5:'Species6', 6:'Species7', 7:'Species8'}\n",
    "\n",
    "#Dataset Helper\n",
    "dataset_helper = DatasetHelper(\"../../\",42)\n",
    "\n",
    "#Model Helper\n",
    "model_helper   = ModelHelper(\"../../saved_models/\",labels)\n",
    "model_helper.create_seed(tf,seed);\n",
    "\n"
   ]
  },
  {
   "cell_type": "code",
   "execution_count": 14,
   "metadata": {},
   "outputs": [
    {
     "name": "stdout",
     "output_type": "stream",
     "text": [
      "Found 3542 images belonging to 2 classes.\n"
     ]
    },
    {
     "name": "stderr",
     "output_type": "stream",
     "text": [
      "100%|██████████| 442/442 [00:00<00:00, 458.92it/s]\n"
     ]
    }
   ],
   "source": [
    "#Load Dataset\n",
    "X,Y = dataset_helper.load_Dataset(22)\n",
    "\n",
    "dataset_size = X.shape[0]"
   ]
  },
  {
   "cell_type": "code",
   "execution_count": 15,
   "metadata": {
    "id": "ERyNxNvOOzA8"
   },
   "outputs": [],
   "source": [
    "#Split Training and Testing\n",
    "X_train, X_test, Y_train, Y_test = train_test_split(X, Y, random_state=seed, test_size=int(0.1 * dataset_size),stratify = Y)\n",
    "\n",
    "# Normalize data\n",
    "X_train = X_train/255.\n",
    "X_test = X_test/255.\n",
    "\n",
    "#Split Training and Validation\n",
    "X_train, X_val, Y_train, Y_val = train_test_split(X_train, Y_train, random_state=seed, test_size=int(0.1 * dataset_size),stratify = Y_train)"
   ]
  },
  {
   "cell_type": "code",
   "execution_count": null,
   "metadata": {
    "id": "j1_PTiLaKemQ"
   },
   "outputs": [],
   "source": []
  },
  {
   "cell_type": "code",
   "execution_count": 16,
   "metadata": {
    "colab": {
     "base_uri": "https://localhost:8080/"
    },
    "id": "CnC6Assj1CQk",
    "outputId": "ddecef38-3a41-4093-f808-45aeb7da60dd"
   },
   "outputs": [
    {
     "data": {
      "text/plain": [
       "((2830, 96, 96, 3), (353, 96, 96, 3), (353, 96, 96, 3))"
      ]
     },
     "execution_count": 16,
     "metadata": {},
     "output_type": "execute_result"
    }
   ],
   "source": [
    "X_train.shape,X_test.shape,X_val.shape"
   ]
  },
  {
   "cell_type": "code",
   "execution_count": 17,
   "metadata": {
    "colab": {
     "base_uri": "https://localhost:8080/"
    },
    "id": "wQGFEF-o_JP3",
    "outputId": "0659f8a6-da00-4790-8464-ef676fa3e762"
   },
   "outputs": [
    {
     "data": {
      "text/plain": [
       "((2830, 2), (353, 2), (353, 2))"
      ]
     },
     "execution_count": 17,
     "metadata": {},
     "output_type": "execute_result"
    }
   ],
   "source": [
    "Y_train.shape,Y_test.shape,Y_val.shape"
   ]
  },
  {
   "cell_type": "code",
   "execution_count": 18,
   "metadata": {
    "id": "8C5Yz0_f5lUy"
   },
   "outputs": [
    {
     "data": {
      "text/plain": [
       "(96, 96, 3)"
      ]
     },
     "execution_count": 18,
     "metadata": {},
     "output_type": "execute_result"
    }
   ],
   "source": [
    "input_shape = X_train.shape[1:] # 96*96*3\n",
    "batch_size = 128\n",
    "epochs = 50\n",
    "input_shape"
   ]
  },
  {
   "cell_type": "code",
   "execution_count": 19,
   "metadata": {
    "id": "ybNbrWyQ5tKI"
   },
   "outputs": [],
   "source": [
    "def build_model(input_shape):\n",
    "    tf.random.set_seed(seed)\n",
    "\n",
    "    # Build the neural network layer by layer\n",
    "    input_layer = tfkl.Input(shape=input_shape, name='Input')\n",
    "\n",
    "    conv1 = tfkl.Conv2D(\n",
    "        filters=32,\n",
    "        kernel_size=(5, 5),\n",
    "        strides = (1, 1),\n",
    "        padding = 'same',\n",
    "        activation = 'relu',\n",
    "        kernel_initializer = tfk.initializers.HeUniform(seed)\n",
    "    )(input_layer)\n",
    "    pool1 = tfkl.MaxPooling2D(pool_size = (2, 2))(conv1)\n",
    "\n",
    "    conv2 = tfkl.Conv2D(\n",
    "        filters=64,\n",
    "        kernel_size=(3, 3),\n",
    "        strides = (1, 1),\n",
    "        padding = 'same',\n",
    "        activation = 'relu',\n",
    "        kernel_initializer = tfk.initializers.HeUniform(seed)\n",
    "    )(pool1)\n",
    "    pool2 = tfkl.MaxPooling2D(pool_size = (2, 2))(conv2)\n",
    "\n",
    "    conv3 = tfkl.Conv2D(\n",
    "        filters=128,\n",
    "        kernel_size=(3, 3),\n",
    "        strides = (1, 1),\n",
    "        padding = 'same',\n",
    "        activation = 'relu',\n",
    "        kernel_initializer = tfk.initializers.HeUniform(seed)\n",
    "    )(pool2)\n",
    "    pool3 = tfkl.MaxPooling2D(pool_size = (2, 2))(conv3)\n",
    "\n",
    "    flattening_layer = tfkl.Flatten(name='Flatten')(pool3)\n",
    "    classifier_layer = tfkl.Dense(\n",
    "        units=128, \n",
    "        name='Classifier', \n",
    "        activation='relu',\n",
    "        kernel_initializer = tfk.initializers.HeUniform(seed)\n",
    "    )(flattening_layer)\n",
    "    classifier_layer = tfkl.Dropout(0.5, seed=seed)(classifier_layer)\n",
    "    output_layer = tfkl.Dense(\n",
    "        units=8, \n",
    "        activation='softmax', \n",
    "        kernel_initializer = tfk.initializers.GlorotUniform(seed),\n",
    "        name='Output'\n",
    "    )(classifier_layer)\n",
    "\n",
    "    # Connect input and output through the Model class\n",
    "    model = tfk.Model(inputs=input_layer, outputs=output_layer, name='model')\n",
    "\n",
    "    # Compile the model\n",
    "    model.compile(loss=tfk.losses.CategoricalCrossentropy(), optimizer=tfk.optimizers.Adam(), metrics='accuracy')\n",
    "\n",
    "    # Return the model\n",
    "    return model"
   ]
  },
  {
   "cell_type": "code",
   "execution_count": 20,
   "metadata": {
    "colab": {
     "base_uri": "https://localhost:8080/",
     "height": 771
    },
    "id": "oAj0gknl9DBw",
    "outputId": "a7dc46c1-7bce-420c-a9a6-f82ff874b386"
   },
   "outputs": [
    {
     "name": "stdout",
     "output_type": "stream",
     "text": [
      "Model: \"model\"\n",
      "_________________________________________________________________\n",
      " Layer (type)                Output Shape              Param #   \n",
      "=================================================================\n",
      " Input (InputLayer)          [(None, 96, 96, 3)]       0         \n",
      "                                                                 \n",
      " conv2d (Conv2D)             (None, 96, 96, 32)        2432      \n",
      "                                                                 \n",
      " max_pooling2d (MaxPooling2D  (None, 48, 48, 32)       0         \n",
      " )                                                               \n",
      "                                                                 \n",
      " conv2d_1 (Conv2D)           (None, 48, 48, 64)        18496     \n",
      "                                                                 \n",
      " max_pooling2d_1 (MaxPooling  (None, 24, 24, 64)       0         \n",
      " 2D)                                                             \n",
      "                                                                 \n",
      " conv2d_2 (Conv2D)           (None, 24, 24, 128)       73856     \n",
      "                                                                 \n",
      " max_pooling2d_2 (MaxPooling  (None, 12, 12, 128)      0         \n",
      " 2D)                                                             \n",
      "                                                                 \n",
      " Flatten (Flatten)           (None, 18432)             0         \n",
      "                                                                 \n",
      " Classifier (Dense)          (None, 128)               2359424   \n",
      "                                                                 \n",
      " dropout (Dropout)           (None, 128)               0         \n",
      "                                                                 \n",
      " Output (Dense)              (None, 8)                 1032      \n",
      "                                                                 \n",
      "=================================================================\n",
      "Total params: 2,455,240\n",
      "Trainable params: 2,455,240\n",
      "Non-trainable params: 0\n",
      "_________________________________________________________________\n"
     ]
    },
    {
     "data": {
      "image/png": "[encoded data removed]",
      "text/plain": [
       "<PIL.Image.Image image mode=RGBA size=840x164 at 0x7F5D63481FD0>"
      ]
     },
     "execution_count": 20,
     "metadata": {},
     "output_type": "execute_result"
    }
   ],
   "source": [
    "model = build_model(input_shape)\n",
    "model.summary()\n",
    "visualkeras.layered_view(model, legend=True, spacing=20, scale_xy=1)"
   ]
  },
  {
   "cell_type": "code",
   "execution_count": 21,
   "metadata": {
    "colab": {
     "base_uri": "https://localhost:8080/"
    },
    "id": "AnqJyhtzAYyB",
    "outputId": "c512a63e-5ed6-4931-c87e-3d08a6365720"
   },
   "outputs": [
    {
     "data": {
      "text/plain": [
       "((353, 96, 96, 3), (353, 2))"
      ]
     },
     "execution_count": 21,
     "metadata": {},
     "output_type": "execute_result"
    }
   ],
   "source": [
    "X_val.shape,Y_val.shape"
   ]
  },
  {
   "cell_type": "code",
   "execution_count": null,
   "metadata": {
    "colab": {
     "base_uri": "https://localhost:8080/"
    },
    "id": "HSdF2oDU9te7",
    "outputId": "823f675b-70fd-4ac8-8c62-6dbdfd8fe69e"
   },
   "outputs": [],
   "source": [
    "# Train the model\n",
    "history = model.fit(\n",
    "    x = X_train,\n",
    "    y = Y_train,\n",
    "    batch_size = batch_size,\n",
    "    epochs = epochs,\n",
    "    validation_data = (X_val, Y_val)\n",
    ").history"
   ]
  },
  {
   "cell_type": "code",
   "execution_count": null,
   "metadata": {
    "colab": {
     "base_uri": "https://localhost:8080/"
    },
    "id": "caZ09xI_GzL7",
    "outputId": "46944ba9-1e5a-4b19-8ec8-1687ee3d88ca"
   },
   "outputs": [],
   "source": [
    "model_helper.save_model(model,'model1')"
   ]
  },
  {
   "cell_type": "code",
   "execution_count": null,
   "metadata": {
    "colab": {
     "base_uri": "https://localhost:8080/",
     "height": 346
    },
    "id": "yDzIfdpHHDgC",
    "outputId": "46d6b78b-a27a-4126-f036-a8a80107d8db"
   },
   "outputs": [],
   "source": [
    "\n",
    "model = model_helper.load_model('model1')\n",
    "model.summary()"
   ]
  },
  {
   "cell_type": "code",
   "execution_count": null,
   "metadata": {
    "id": "EPPRFvJmSXV3"
   },
   "outputs": [],
   "source": [
    "#Submission Model for the challenge -> Path is the folder on the server where our script is\n",
    "class model:\n",
    "    def __init__(self, path):\n",
    "        self.model = tf.keras.models.load_model(os.path.join(path, 'model1'))\n",
    "\n",
    "    def predict(self, X):\n",
    "        \n",
    "        # Insert your preprocessing here\n",
    "\n",
    "        out = self.model.predict(X)\n",
    "        out = np.argmax(out, axis=-1)\n",
    "        return out"
   ]
  },
  {
   "cell_type": "code",
   "execution_count": null,
   "metadata": {
    "id": "qbvLsvjAU7ig"
   },
   "outputs": [],
   "source": [
    "testing_index = 44\n",
    "image_to_test = X_test[[testing_index],:]\n",
    "#image_to_test = X_test[10,None,:]\n",
    "#image_to_test = np.expand_dims(image_to_test,0)\n",
    "image_to_test.shape\n"
   ]
  },
  {
   "cell_type": "code",
   "execution_count": null,
   "metadata": {},
   "outputs": [],
   "source": [
    "print(\"Real Class: \")\n",
    "print(labels[np.argmax(Y_test[testing_index])])\n",
    "tester = model(\"\")\n",
    "res = tester.predict(image_to_test)\n",
    "labels[res[0]]"
   ]
  },
  {
   "cell_type": "code",
   "execution_count": null,
   "metadata": {},
   "outputs": [],
   "source": [
    "predicted_vector = model.predict(X_test)\n",
    "predicted_vector.shape\n",
    "labels"
   ]
  },
  {
   "cell_type": "code",
   "execution_count": null,
   "metadata": {},
   "outputs": [],
   "source": [
    "prediction_index = 98\n",
    "fig, (ax1, ax2) = plt.subplots(1,2)\n",
    "fig.set_size_inches(15,5)\n",
    "ax1.imshow(X_test[prediction_index])\n",
    "#Each class has its own score\n",
    "#We select the label with the largest prediction score \n",
    "ax1.set_title('True label: '+labels[np.argmax(Y_test[prediction_index])+1])\n",
    "ax2.barh(list(labels.values()), predicted_vector[prediction_index], color=plt.get_cmap('Paired').colors)\n",
    "ax2.set_title('Predicted label: '+labels[np.argmax(predicted_vector[prediction_index])])\n",
    "ax2.grid(alpha=.3)\n",
    "plt.show()"
   ]
  },
  {
   "cell_type": "code",
   "execution_count": null,
   "metadata": {},
   "outputs": [],
   "source": []
  }
 ],
 "metadata": {
  "colab": {
   "collapsed_sections": [],
   "provenance": []
  },
  "gpuClass": "standard",
  "kernelspec": {
   "display_name": "Python 3",
   "language": "python",
   "name": "python3"
  },
  "language_info": {
   "codemirror_mode": {
    "name": "ipython",
    "version": 3
   },
   "file_extension": ".py",
   "mimetype": "text/x-python",
   "name": "python",
   "nbconvert_exporter": "python",
   "pygments_lexer": "ipython3",
   "version": "3.8.10"
  },
  "vscode": {
   "interpreter": {
    "hash": "916dbcbb3f70747c44a77c7bcd40155683ae19c65e1c03b4aa3499c5328201f1"
   }
  }
 },
 "nbformat": 4,
 "nbformat_minor": 1
}
