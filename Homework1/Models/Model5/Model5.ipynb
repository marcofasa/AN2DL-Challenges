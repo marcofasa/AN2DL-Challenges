{
 "cells": [
  {
   "cell_type": "code",
   "execution_count": 1,
   "metadata": {},
   "outputs": [
    {
     "name": "stdout",
     "output_type": "stream",
     "text": [
      "2.10.0\n"
     ]
    }
   ],
   "source": [
    "import sys\n",
    "import os\n",
    "import tensorflow as tf\n",
    "import numpy as np\n",
    "import os\n",
    "import random\n",
    "import pandas as pd\n",
    "import seaborn as sns\n",
    "import matplotlib as mpl\n",
    "import matplotlib.pyplot as plt\n",
    "\n",
    "from PIL import Image\n",
    "from tensorflow import keras\n",
    "\n",
    "IN_COLAB = 'google.colab' in sys.modules\n",
    "if IN_COLAB:\n",
    "    from google.colab import drive\n",
    "\n",
    "    drive.mount('/gdrive')\n",
    "    % cd / gdrive / My Drive / ANNDL-H1 /\n",
    "    !pip install sklearn\n",
    "    !pip install visualkeras\n",
    "\n",
    "import visualkeras\n",
    "from sklearn.model_selection import train_test_split\n",
    "from sklearn.metrics import accuracy_score, f1_score, precision_score, recall_score\n",
    "from sklearn.metrics import confusion_matrix\n",
    "from tensorflow.keras.preprocessing.image import ImageDataGenerator\n",
    "from tensorflow.keras.layers import BatchNormalization\n",
    "import keras_cv as keras_cv\n",
    "#OUR CUSTOM HELPER CLASS\n",
    "sys.path.append('../../../Utils/')\n",
    "from DatasetHelper import *\n",
    "from ModelHelper import ModelHelper\n",
    "\n",
    "tfk = tf.keras\n",
    "tfkl = tf.keras.layers\n",
    "print(tf.__version__)"
   ]
  },
  {
   "cell_type": "code",
   "execution_count": 2,
   "metadata": {
    "id": "Yx5smRu9LphO"
   },
   "outputs": [],
   "source": [
    "\n",
    "dataset_dir = '../../data'\n",
    "training_dir = os.path.join(dataset_dir, '')"
   ]
  },
  {
   "cell_type": "code",
   "execution_count": 3,
   "metadata": {
    "colab": {
     "base_uri": "https://localhost:8080/"
    },
    "id": "RXZr8OdKMykg",
    "outputId": "bd215fc4-2368-4a6c-be5f-6933444c0a89"
   },
   "outputs": [],
   "source": [
    "#Create Instances Of Utils Helper\n",
    "seed = 5000\n",
    "labels = {0: 'Species1', 1: 'Species2', 2: 'Species3', 3: 'Species4', 4: 'Species5', 5: 'Species6', 6: 'Species7',\n",
    "          7: 'Species8'}\n",
    "\n",
    "#Dataset Helper\n",
    "dataset_helper = DatasetHelper(\"../../\", seed, create_dirs=True)  #Take in input dataset folder and random seed\n",
    "\n",
    "#Model Helper\n",
    "#SAVE MODEL IN LOCAL, IF MODEL IS GOOD; COPY IT BY HAND TO good_model Folder\n",
    "model_helper = ModelHelper(\"../../\", labels)  #take in input local models folder and lables\n",
    "model_helper.create_seed(tf, seed);\n",
    "\n"
   ]
  },
  {
   "cell_type": "code",
   "execution_count": 4,
   "metadata": {},
   "outputs": [],
   "source": [
    "#Load Dataset\n",
    "X, Y = dataset_helper.load_dataset_from_numpy()\n",
    "dataset_size = X.shape[0]"
   ]
  },
  {
   "cell_type": "code",
   "execution_count": 5,
   "metadata": {
    "id": "ERyNxNvOOzA8"
   },
   "outputs": [],
   "source": [
    "#Split Training and Testing\n",
    "X_train, X_test, Y_train, Y_test = train_test_split(X, Y, random_state=seed, test_size=int(0.1 * dataset_size),\n",
    "                                                    stratify=Y)\n",
    "\n",
    "# Normalize data\n",
    "X_train = X_train / 255.\n",
    "X_test = X_test / 255.\n",
    "\n",
    "#Split Training and Validation\n",
    "X_train, X_val, Y_train, Y_val = train_test_split(X_train, Y_train, random_state=seed,\n",
    "                                                  test_size=int(0.1 * dataset_size), stratify=Y_train)\n",
    "old_y_train = Y_train"
   ]
  },
  {
   "cell_type": "code",
   "execution_count": 6,
   "outputs": [
    {
     "name": "stdout",
     "output_type": "stream",
     "text": [
      "Data Augmentation with data distribution\n",
      "Data distribution = [0.13875    0.12021667 0.12108333 0.12135    0.12028333 0.13675\n",
      " 0.12001667 0.12155   ]\n",
      "Class Size :  149, generating: 2081\n",
      "1937 images generated\n",
      "Class Size :  427, generating: 1803\n",
      "1708 images generated\n",
      "Class Size :  414, generating: 1816\n",
      "1784 images generated\n",
      "Class Size :  410, generating: 1820\n",
      "1768 images generated\n",
      "Class Size :  426, generating: 1804\n",
      "1704 images generated\n",
      "Class Size :  179, generating: 2051\n",
      "1918 images generated\n",
      "Class Size :  430, generating: 1800\n",
      "1720 images generated\n",
      "Class Size :  407, generating: 1823\n",
      "1756 images generated\n"
     ]
    }
   ],
   "source": [
    "X_train, Y_train = dataset_helper.apply_data_augmentation_normalized(X_train, Y_train, 15000, disable_tqdm=True,\n",
    "                                                                     rotation_range=360,\n",
    "                                                                     width_shift_range=0.2,\n",
    "                                                                     height_shift_range=0.2,\n",
    "                                                                     zoom_range=0.3,\n",
    "                                                                     fill_mode=\"reflect\",\n",
    "                                                                     horizontal_flip=True,\n",
    "                                                                     vertical_flip=True,\n",
    "                                                                     brightness_range=(0.5, 1.1), seed=4567)"
   ],
   "metadata": {
    "collapsed": false
   }
  },
  {
   "cell_type": "code",
   "execution_count": 7,
   "outputs": [
    {
     "name": "stdout",
     "output_type": "stream",
     "text": [
      "Metal device set to: Apple M1 Pro\n"
     ]
    },
    {
     "name": "stderr",
     "output_type": "stream",
     "text": [
      "2022-11-22 01:56:46.468933: I tensorflow/core/common_runtime/pluggable_device/pluggable_device_factory.cc:306] Could not identify NUMA node of platform GPU ID 0, defaulting to 0. Your kernel may not have been built with NUMA support.\n",
      "2022-11-22 01:56:46.469322: I tensorflow/core/common_runtime/pluggable_device/pluggable_device_factory.cc:272] Created TensorFlow device (/job:localhost/replica:0/task:0/device:GPU:0 with 0 MB memory) -> physical PluggableDevice (device: 0, name: METAL, pci bus id: <undefined>)\n",
      "2022-11-22 01:56:47.085324: W tensorflow/core/platform/profile_utils/cpu_utils.cc:128] Failed to get CPU frequency: 0 Hz\n",
      "2022-11-22 01:56:53.126673: I tensorflow/core/grappler/optimizers/custom_graph_optimizer_registry.cc:114] Plugin optimizer for device_type GPU is enabled.\n"
     ]
    }
   ],
   "source": [
    "X_train, Y_train = dataset_helper.keras_cv_augmentation(X_train, Y_train, 0.1)"
   ],
   "metadata": {
    "collapsed": false
   }
  },
  {
   "cell_type": "code",
   "execution_count": 8,
   "metadata": {
    "id": "8C5Yz0_f5lUy"
   },
   "outputs": [],
   "source": [
    "input_shape = X_train.shape[1:]  # 96*96*3\n",
    "batch_size = 128\n",
    "epochs = 50"
   ]
  },
  {
   "cell_type": "code",
   "execution_count": 9,
   "metadata": {
    "id": "ybNbrWyQ5tKI"
   },
   "outputs": [],
   "source": [
    "def build_model(input_shape):\n",
    "    tf.random.set_seed(seed)\n",
    "\n",
    "    # Build the neural network layer by layer\n",
    "    input_layer = tfkl.Input(shape=input_shape, name='Input')\n",
    "    depth = 8\n",
    "    start_n_f = 32\n",
    "    last_layer = input_layer\n",
    "\n",
    "    # last_layer = keras_cv.layers.GridMask(\n",
    "    #     ratio_factor=(0, 0.5),\n",
    "    #     rotation_factor=0.15,\n",
    "    #     fill_mode=\"constant\",\n",
    "    #     fill_value=0.0,\n",
    "    # )(last_layer)\n",
    "\n",
    "    for i in range(depth):\n",
    "        kernel_size = (3, 3) if i == 0 else (3, 3)\n",
    "        conv = tfkl.Conv2D(\n",
    "            filters=start_n_f,\n",
    "            kernel_size=kernel_size,\n",
    "            strides=(1, 1),\n",
    "            padding='same',\n",
    "            activation=None,\n",
    "            kernel_initializer=tfk.initializers.HeUniform(seed)\n",
    "        )(last_layer)\n",
    "        batch = BatchNormalization()(conv)\n",
    "        activation = tfkl.Activation('relu')(batch)\n",
    "        last_layer = activation\n",
    "        if i % 2 == 0:\n",
    "            pool = tfkl.MaxPooling2D((2, 2), padding='same')(activation)\n",
    "            last_layer = pool\n",
    "            start_n_f *= (1 if i % 2 == 0 else 2)\n",
    "\n",
    "    flattening_layer = tfkl.Flatten(name='Flatten')(last_layer)\n",
    "    classifier_layer = tfkl.Dense(\n",
    "        units=1024,\n",
    "        name='Classifier',\n",
    "        activation='relu',\n",
    "        kernel_initializer=tfk.initializers.HeUniform(seed)\n",
    "    )(flattening_layer)\n",
    "    classifier_layer = tfkl.Dropout(0.5, seed=seed)(classifier_layer)\n",
    "    output_layer = tfkl.Dense(\n",
    "        units=8,\n",
    "        activation='softmax',\n",
    "        kernel_initializer=tfk.initializers.GlorotUniform(seed),\n",
    "        name='Output'\n",
    "    )(classifier_layer)\n",
    "    # Connect input and output through the Model class\n",
    "    model = tfk.Model(inputs=input_layer, outputs=output_layer, name='model')\n",
    "\n",
    "    # Compile the model\n",
    "    model.compile(loss=tfk.losses.CategoricalCrossentropy(), optimizer=tfk.optimizers.Adam(), metrics='accuracy')\n",
    "\n",
    "    # Return the model\n",
    "    return model"
   ]
  },
  {
   "cell_type": "code",
   "execution_count": 10,
   "metadata": {
    "colab": {
     "base_uri": "https://localhost:8080/",
     "height": 771
    },
    "id": "oAj0gknl9DBw",
    "outputId": "a7dc46c1-7bce-420c-a9a6-f82ff874b386"
   },
   "outputs": [],
   "source": [
    "model = build_model(input_shape)"
   ]
  },
  {
   "cell_type": "code",
   "execution_count": 11,
   "outputs": [
    {
     "name": "stdout",
     "output_type": "stream",
     "text": [
      "Model: \"model\"\n",
      "_________________________________________________________________\n",
      " Layer (type)                Output Shape              Param #   \n",
      "=================================================================\n",
      " Input (InputLayer)          [(None, 96, 96, 3)]       0         \n",
      "                                                                 \n",
      " conv2d (Conv2D)             (None, 96, 96, 32)        896       \n",
      "                                                                 \n",
      " batch_normalization (BatchN  (None, 96, 96, 32)       128       \n",
      " ormalization)                                                   \n",
      "                                                                 \n",
      " activation (Activation)     (None, 96, 96, 32)        0         \n",
      "                                                                 \n",
      " max_pooling2d (MaxPooling2D  (None, 48, 48, 32)       0         \n",
      " )                                                               \n",
      "                                                                 \n",
      " conv2d_1 (Conv2D)           (None, 48, 48, 32)        9248      \n",
      "                                                                 \n",
      " batch_normalization_1 (Batc  (None, 48, 48, 32)       128       \n",
      " hNormalization)                                                 \n",
      "                                                                 \n",
      " activation_1 (Activation)   (None, 48, 48, 32)        0         \n",
      "                                                                 \n",
      " conv2d_2 (Conv2D)           (None, 48, 48, 32)        9248      \n",
      "                                                                 \n",
      " batch_normalization_2 (Batc  (None, 48, 48, 32)       128       \n",
      " hNormalization)                                                 \n",
      "                                                                 \n",
      " activation_2 (Activation)   (None, 48, 48, 32)        0         \n",
      "                                                                 \n",
      " max_pooling2d_1 (MaxPooling  (None, 24, 24, 32)       0         \n",
      " 2D)                                                             \n",
      "                                                                 \n",
      " conv2d_3 (Conv2D)           (None, 24, 24, 32)        9248      \n",
      "                                                                 \n",
      " batch_normalization_3 (Batc  (None, 24, 24, 32)       128       \n",
      " hNormalization)                                                 \n",
      "                                                                 \n",
      " activation_3 (Activation)   (None, 24, 24, 32)        0         \n",
      "                                                                 \n",
      " conv2d_4 (Conv2D)           (None, 24, 24, 32)        9248      \n",
      "                                                                 \n",
      " batch_normalization_4 (Batc  (None, 24, 24, 32)       128       \n",
      " hNormalization)                                                 \n",
      "                                                                 \n",
      " activation_4 (Activation)   (None, 24, 24, 32)        0         \n",
      "                                                                 \n",
      " max_pooling2d_2 (MaxPooling  (None, 12, 12, 32)       0         \n",
      " 2D)                                                             \n",
      "                                                                 \n",
      " conv2d_5 (Conv2D)           (None, 12, 12, 32)        9248      \n",
      "                                                                 \n",
      " batch_normalization_5 (Batc  (None, 12, 12, 32)       128       \n",
      " hNormalization)                                                 \n",
      "                                                                 \n",
      " activation_5 (Activation)   (None, 12, 12, 32)        0         \n",
      "                                                                 \n",
      " conv2d_6 (Conv2D)           (None, 12, 12, 32)        9248      \n",
      "                                                                 \n",
      " batch_normalization_6 (Batc  (None, 12, 12, 32)       128       \n",
      " hNormalization)                                                 \n",
      "                                                                 \n",
      " activation_6 (Activation)   (None, 12, 12, 32)        0         \n",
      "                                                                 \n",
      " max_pooling2d_3 (MaxPooling  (None, 6, 6, 32)         0         \n",
      " 2D)                                                             \n",
      "                                                                 \n",
      " conv2d_7 (Conv2D)           (None, 6, 6, 32)          9248      \n",
      "                                                                 \n",
      " batch_normalization_7 (Batc  (None, 6, 6, 32)         128       \n",
      " hNormalization)                                                 \n",
      "                                                                 \n",
      " activation_7 (Activation)   (None, 6, 6, 32)          0         \n",
      "                                                                 \n",
      " Flatten (Flatten)           (None, 1152)              0         \n",
      "                                                                 \n",
      " Classifier (Dense)          (None, 1024)              1180672   \n",
      "                                                                 \n",
      " dropout (Dropout)           (None, 1024)              0         \n",
      "                                                                 \n",
      " Output (Dense)              (None, 8)                 8200      \n",
      "                                                                 \n",
      "=================================================================\n",
      "Total params: 1,255,528\n",
      "Trainable params: 1,255,016\n",
      "Non-trainable params: 512\n",
      "_________________________________________________________________\n"
     ]
    },
    {
     "data": {
      "text/plain": "<PIL.Image.Image image mode=RGBA size=1600x164>",
      "image/png": "[encoded data removed]"
     },
     "execution_count": 11,
     "metadata": {},
     "output_type": "execute_result"
    }
   ],
   "source": [
    "model.summary()\n",
    "visualkeras.layered_view(model, legend=True, spacing=20, scale_xy=1)"
   ],
   "metadata": {
    "collapsed": false
   }
  },
  {
   "cell_type": "code",
   "execution_count": 12,
   "metadata": {
    "colab": {
     "base_uri": "https://localhost:8080/"
    },
    "id": "AnqJyhtzAYyB",
    "outputId": "c512a63e-5ed6-4931-c87e-3d08a6365720"
   },
   "outputs": [
    {
     "data": {
      "text/plain": "((354, 96, 96, 3), (354, 8))"
     },
     "execution_count": 12,
     "metadata": {},
     "output_type": "execute_result"
    }
   ],
   "source": [
    "X_val.shape, Y_val.shape"
   ]
  },
  {
   "cell_type": "code",
   "execution_count": 13,
   "metadata": {
    "colab": {
     "base_uri": "https://localhost:8080/"
    },
    "id": "HSdF2oDU9te7",
    "outputId": "823f675b-70fd-4ac8-8c62-6dbdfd8fe69e"
   },
   "outputs": [
    {
     "name": "stdout",
     "output_type": "stream",
     "text": [
      "Epoch 1/100\n"
     ]
    },
    {
     "name": "stderr",
     "output_type": "stream",
     "text": [
      "2022-11-22 01:56:58.623188: I tensorflow/core/grappler/optimizers/custom_graph_optimizer_registry.cc:114] Plugin optimizer for device_type GPU is enabled.\n"
     ]
    },
    {
     "name": "stdout",
     "output_type": "stream",
     "text": [
      "196/196 [==============================] - ETA: 0s - loss: 1.7815 - accuracy: 0.3270"
     ]
    },
    {
     "name": "stderr",
     "output_type": "stream",
     "text": [
      "2022-11-22 01:57:11.078291: I tensorflow/core/grappler/optimizers/custom_graph_optimizer_registry.cc:114] Plugin optimizer for device_type GPU is enabled.\n"
     ]
    },
    {
     "name": "stdout",
     "output_type": "stream",
     "text": [
      "196/196 [==============================] - 13s 64ms/step - loss: 1.7815 - accuracy: 0.3270 - val_loss: 1.7526 - val_accuracy: 0.3446\n",
      "Epoch 2/100\n",
      "196/196 [==============================] - 12s 61ms/step - loss: 1.4503 - accuracy: 0.4589 - val_loss: 1.3278 - val_accuracy: 0.4915\n",
      "Epoch 3/100\n",
      "196/196 [==============================] - 12s 61ms/step - loss: 1.3270 - accuracy: 0.5124 - val_loss: 1.3192 - val_accuracy: 0.4972\n",
      "Epoch 4/100\n",
      "196/196 [==============================] - 12s 61ms/step - loss: 1.2160 - accuracy: 0.5605 - val_loss: 1.1063 - val_accuracy: 0.6215\n",
      "Epoch 5/100\n",
      "196/196 [==============================] - 12s 61ms/step - loss: 1.1247 - accuracy: 0.5965 - val_loss: 1.0023 - val_accuracy: 0.6412\n",
      "Epoch 6/100\n",
      "196/196 [==============================] - 12s 61ms/step - loss: 1.0522 - accuracy: 0.6276 - val_loss: 1.3017 - val_accuracy: 0.5141\n",
      "Epoch 7/100\n",
      "196/196 [==============================] - 12s 61ms/step - loss: 0.9905 - accuracy: 0.6579 - val_loss: 1.7389 - val_accuracy: 0.4576\n",
      "Epoch 8/100\n",
      "196/196 [==============================] - 12s 61ms/step - loss: 0.9220 - accuracy: 0.6849 - val_loss: 1.1735 - val_accuracy: 0.6158\n",
      "Epoch 9/100\n",
      "196/196 [==============================] - 12s 61ms/step - loss: 0.8545 - accuracy: 0.7124 - val_loss: 1.1235 - val_accuracy: 0.6215\n",
      "Epoch 10/100\n",
      "196/196 [==============================] - 12s 61ms/step - loss: 0.7960 - accuracy: 0.7359 - val_loss: 1.1783 - val_accuracy: 0.5932\n",
      "Epoch 11/100\n",
      "196/196 [==============================] - 12s 61ms/step - loss: 0.7381 - accuracy: 0.7623 - val_loss: 1.2076 - val_accuracy: 0.6215\n",
      "Epoch 12/100\n",
      "196/196 [==============================] - 12s 61ms/step - loss: 0.6758 - accuracy: 0.7847 - val_loss: 1.0217 - val_accuracy: 0.6469\n",
      "Epoch 13/100\n",
      "196/196 [==============================] - 12s 61ms/step - loss: 0.6257 - accuracy: 0.8089 - val_loss: 0.9530 - val_accuracy: 0.6949\n",
      "Epoch 14/100\n",
      "196/196 [==============================] - 12s 61ms/step - loss: 0.5776 - accuracy: 0.8241 - val_loss: 1.2272 - val_accuracy: 0.6328\n",
      "Epoch 15/100\n",
      "196/196 [==============================] - 12s 61ms/step - loss: 0.5368 - accuracy: 0.8403 - val_loss: 1.1534 - val_accuracy: 0.6638\n",
      "Epoch 16/100\n",
      "196/196 [==============================] - 12s 61ms/step - loss: 0.4895 - accuracy: 0.8594 - val_loss: 0.9746 - val_accuracy: 0.6836\n",
      "Epoch 17/100\n",
      "196/196 [==============================] - 12s 61ms/step - loss: 0.4508 - accuracy: 0.8712 - val_loss: 1.1551 - val_accuracy: 0.6638\n",
      "Epoch 18/100\n",
      "196/196 [==============================] - 12s 61ms/step - loss: 0.4146 - accuracy: 0.8862 - val_loss: 1.0063 - val_accuracy: 0.6667\n",
      "Epoch 19/100\n",
      "196/196 [==============================] - 12s 61ms/step - loss: 0.3903 - accuracy: 0.8960 - val_loss: 1.2311 - val_accuracy: 0.6582\n",
      "Epoch 20/100\n",
      "196/196 [==============================] - 12s 61ms/step - loss: 0.3688 - accuracy: 0.9043 - val_loss: 1.1349 - val_accuracy: 0.6977\n",
      "Epoch 21/100\n",
      "196/196 [==============================] - 12s 61ms/step - loss: 0.3489 - accuracy: 0.9108 - val_loss: 1.5150 - val_accuracy: 0.6017\n",
      "Epoch 22/100\n",
      "196/196 [==============================] - 12s 61ms/step - loss: 0.3253 - accuracy: 0.9196 - val_loss: 1.2038 - val_accuracy: 0.6949\n",
      "Epoch 23/100\n",
      "196/196 [==============================] - 12s 61ms/step - loss: 0.3160 - accuracy: 0.9220 - val_loss: 1.1775 - val_accuracy: 0.6864\n",
      "Epoch 24/100\n",
      "196/196 [==============================] - 12s 61ms/step - loss: 0.3022 - accuracy: 0.9277 - val_loss: 1.2836 - val_accuracy: 0.6638\n",
      "Epoch 25/100\n",
      "196/196 [==============================] - 12s 61ms/step - loss: 0.2832 - accuracy: 0.9337 - val_loss: 1.2757 - val_accuracy: 0.7006\n",
      "Epoch 26/100\n",
      "196/196 [==============================] - 12s 61ms/step - loss: 0.2763 - accuracy: 0.9347 - val_loss: 1.7919 - val_accuracy: 0.5932\n",
      "Epoch 27/100\n",
      "196/196 [==============================] - 12s 61ms/step - loss: 0.2753 - accuracy: 0.9340 - val_loss: 1.3955 - val_accuracy: 0.6441\n",
      "Epoch 28/100\n",
      "196/196 [==============================] - 12s 61ms/step - loss: 0.2607 - accuracy: 0.9400 - val_loss: 1.4063 - val_accuracy: 0.6751\n",
      "Epoch 29/100\n",
      "196/196 [==============================] - 13s 64ms/step - loss: 0.2663 - accuracy: 0.9350 - val_loss: 1.3522 - val_accuracy: 0.6780\n",
      "Epoch 30/100\n",
      "196/196 [==============================] - 12s 62ms/step - loss: 0.2527 - accuracy: 0.9412 - val_loss: 1.2999 - val_accuracy: 0.6695\n",
      "Epoch 31/100\n",
      "196/196 [==============================] - 12s 62ms/step - loss: 0.2568 - accuracy: 0.9393 - val_loss: 1.4016 - val_accuracy: 0.6638\n",
      "Epoch 32/100\n",
      "196/196 [==============================] - 12s 62ms/step - loss: 0.2312 - accuracy: 0.9471 - val_loss: 1.3557 - val_accuracy: 0.6469\n",
      "Epoch 33/100\n",
      "196/196 [==============================] - 12s 62ms/step - loss: 0.2421 - accuracy: 0.9451 - val_loss: 1.4596 - val_accuracy: 0.6610\n",
      "Epoch 34/100\n",
      "196/196 [==============================] - 12s 63ms/step - loss: 0.2356 - accuracy: 0.9466 - val_loss: 1.2469 - val_accuracy: 0.6554\n",
      "Epoch 35/100\n",
      "196/196 [==============================] - 13s 64ms/step - loss: 0.2327 - accuracy: 0.9475 - val_loss: 1.1865 - val_accuracy: 0.7119\n",
      "Epoch 36/100\n",
      "196/196 [==============================] - 12s 63ms/step - loss: 0.2220 - accuracy: 0.9503 - val_loss: 1.2382 - val_accuracy: 0.7147\n",
      "Epoch 37/100\n",
      "196/196 [==============================] - 12s 62ms/step - loss: 0.2202 - accuracy: 0.9492 - val_loss: 1.3078 - val_accuracy: 0.6864\n",
      "Epoch 38/100\n",
      "196/196 [==============================] - 12s 62ms/step - loss: 0.2215 - accuracy: 0.9512 - val_loss: 1.4054 - val_accuracy: 0.6751\n",
      "Epoch 39/100\n",
      "196/196 [==============================] - 13s 64ms/step - loss: 0.2207 - accuracy: 0.9507 - val_loss: 1.1039 - val_accuracy: 0.6949\n",
      "Epoch 40/100\n",
      "196/196 [==============================] - 12s 63ms/step - loss: 0.2106 - accuracy: 0.9535 - val_loss: 1.4437 - val_accuracy: 0.6610\n",
      "Epoch 41/100\n",
      "196/196 [==============================] - 13s 64ms/step - loss: 0.2103 - accuracy: 0.9527 - val_loss: 1.2161 - val_accuracy: 0.6808\n",
      "Epoch 42/100\n",
      "196/196 [==============================] - 12s 63ms/step - loss: 0.2006 - accuracy: 0.9567 - val_loss: 1.2180 - val_accuracy: 0.6949\n",
      "Epoch 43/100\n",
      "196/196 [==============================] - 13s 65ms/step - loss: 0.2045 - accuracy: 0.9528 - val_loss: 1.3940 - val_accuracy: 0.6554\n",
      "Epoch 44/100\n",
      "196/196 [==============================] - 13s 65ms/step - loss: 0.1951 - accuracy: 0.9577 - val_loss: 1.3686 - val_accuracy: 0.6893\n",
      "Epoch 45/100\n",
      "196/196 [==============================] - 13s 64ms/step - loss: 0.2016 - accuracy: 0.9547 - val_loss: 1.2846 - val_accuracy: 0.6893\n",
      "Epoch 46/100\n",
      "196/196 [==============================] - 13s 64ms/step - loss: 0.2041 - accuracy: 0.9526 - val_loss: 1.3960 - val_accuracy: 0.6610\n",
      "Epoch 47/100\n",
      "196/196 [==============================] - 12s 63ms/step - loss: 0.1981 - accuracy: 0.9542 - val_loss: 1.2790 - val_accuracy: 0.6751\n",
      "Epoch 48/100\n",
      "196/196 [==============================] - 12s 62ms/step - loss: 0.2021 - accuracy: 0.9520 - val_loss: 1.4379 - val_accuracy: 0.6582\n",
      "Epoch 49/100\n",
      "196/196 [==============================] - 12s 62ms/step - loss: 0.2026 - accuracy: 0.9536 - val_loss: 1.1598 - val_accuracy: 0.7175\n",
      "Epoch 50/100\n",
      "196/196 [==============================] - 12s 63ms/step - loss: 0.1911 - accuracy: 0.9570 - val_loss: 1.2131 - val_accuracy: 0.7373\n",
      "Epoch 51/100\n",
      "196/196 [==============================] - 12s 62ms/step - loss: 0.1857 - accuracy: 0.9591 - val_loss: 1.1888 - val_accuracy: 0.7401\n",
      "Epoch 52/100\n",
      "196/196 [==============================] - 12s 63ms/step - loss: 0.1807 - accuracy: 0.9585 - val_loss: 1.2195 - val_accuracy: 0.7034\n",
      "Epoch 53/100\n",
      "196/196 [==============================] - 12s 63ms/step - loss: 0.1868 - accuracy: 0.9579 - val_loss: 1.5349 - val_accuracy: 0.6497\n",
      "Epoch 54/100\n",
      "196/196 [==============================] - 12s 63ms/step - loss: 0.1828 - accuracy: 0.9593 - val_loss: 1.2690 - val_accuracy: 0.6893\n",
      "Epoch 55/100\n",
      "196/196 [==============================] - 12s 62ms/step - loss: 0.1868 - accuracy: 0.9565 - val_loss: 1.5348 - val_accuracy: 0.6751\n",
      "Epoch 56/100\n",
      "196/196 [==============================] - 12s 63ms/step - loss: 0.1931 - accuracy: 0.9540 - val_loss: 1.4938 - val_accuracy: 0.7034\n",
      "Epoch 57/100\n",
      "196/196 [==============================] - 12s 64ms/step - loss: 0.1759 - accuracy: 0.9618 - val_loss: 1.6371 - val_accuracy: 0.6751\n",
      "Epoch 58/100\n",
      "196/196 [==============================] - 12s 63ms/step - loss: 0.1827 - accuracy: 0.9577 - val_loss: 1.5220 - val_accuracy: 0.6695\n",
      "Epoch 59/100\n",
      "196/196 [==============================] - 12s 63ms/step - loss: 0.1868 - accuracy: 0.9562 - val_loss: 1.3559 - val_accuracy: 0.7006\n",
      "Epoch 60/100\n",
      "196/196 [==============================] - 12s 63ms/step - loss: 0.1838 - accuracy: 0.9581 - val_loss: 1.4276 - val_accuracy: 0.6723\n",
      "Epoch 61/100\n",
      "196/196 [==============================] - 12s 63ms/step - loss: 0.1801 - accuracy: 0.9573 - val_loss: 1.5608 - val_accuracy: 0.6695\n",
      "Epoch 62/100\n",
      "196/196 [==============================] - 12s 62ms/step - loss: 0.1756 - accuracy: 0.9599 - val_loss: 1.2842 - val_accuracy: 0.6921\n",
      "Epoch 63/100\n",
      "196/196 [==============================] - 12s 62ms/step - loss: 0.1771 - accuracy: 0.9595 - val_loss: 1.4623 - val_accuracy: 0.6582\n",
      "Epoch 64/100\n",
      "196/196 [==============================] - 12s 61ms/step - loss: 0.1691 - accuracy: 0.9616 - val_loss: 1.2686 - val_accuracy: 0.6949\n",
      "Epoch 65/100\n",
      "196/196 [==============================] - 12s 61ms/step - loss: 0.1735 - accuracy: 0.9595 - val_loss: 1.6006 - val_accuracy: 0.6780\n",
      "Epoch 66/100\n",
      "196/196 [==============================] - 12s 61ms/step - loss: 0.1704 - accuracy: 0.9617 - val_loss: 1.5919 - val_accuracy: 0.7034\n",
      "Epoch 67/100\n",
      "196/196 [==============================] - 12s 61ms/step - loss: 0.1681 - accuracy: 0.9613 - val_loss: 1.4532 - val_accuracy: 0.6497\n",
      "Epoch 68/100\n",
      "196/196 [==============================] - 12s 61ms/step - loss: 0.1614 - accuracy: 0.9646 - val_loss: 1.3023 - val_accuracy: 0.7147\n",
      "Epoch 69/100\n",
      "196/196 [==============================] - 12s 61ms/step - loss: 0.1631 - accuracy: 0.9635 - val_loss: 1.2923 - val_accuracy: 0.7062\n",
      "Epoch 70/100\n",
      "196/196 [==============================] - 12s 61ms/step - loss: 0.1706 - accuracy: 0.9601 - val_loss: 1.4449 - val_accuracy: 0.6723\n",
      "Epoch 71/100\n",
      "196/196 [==============================] - 12s 61ms/step - loss: 0.1683 - accuracy: 0.9609 - val_loss: 1.2848 - val_accuracy: 0.7119\n",
      "Epoch 72/100\n",
      "196/196 [==============================] - 12s 61ms/step - loss: 0.1629 - accuracy: 0.9638 - val_loss: 1.6357 - val_accuracy: 0.6751\n",
      "Epoch 73/100\n",
      "196/196 [==============================] - 12s 61ms/step - loss: 0.1648 - accuracy: 0.9633 - val_loss: 1.8989 - val_accuracy: 0.5904\n",
      "Epoch 74/100\n",
      "196/196 [==============================] - 12s 61ms/step - loss: 0.1770 - accuracy: 0.9568 - val_loss: 1.4601 - val_accuracy: 0.6864\n",
      "Epoch 75/100\n",
      "196/196 [==============================] - 12s 61ms/step - loss: 0.1632 - accuracy: 0.9616 - val_loss: 1.2271 - val_accuracy: 0.6921\n",
      "Epoch 76/100\n",
      "196/196 [==============================] - 12s 61ms/step - loss: 0.1599 - accuracy: 0.9627 - val_loss: 1.5752 - val_accuracy: 0.6780\n"
     ]
    }
   ],
   "source": [
    "# Train the model\n",
    "#%env TF_FORCE_UNIFIED_MEMORY: 1\n",
    "callbacks_selected = model_helper.createCallbacks(earlyStopping=True, checkPoints=True, patience=25)\n",
    "\n",
    "#Fit the model\n",
    "history = model.fit(\n",
    "    x=X_train,\n",
    "    y=Y_train,\n",
    "    batch_size=batch_size,\n",
    "    epochs=100,\n",
    "    validation_data=(X_val, Y_val),\n",
    "    callbacks=callbacks_selected\n",
    ").history"
   ]
  },
  {
   "cell_type": "code",
   "execution_count": 18,
   "metadata": {
    "colab": {
     "base_uri": "https://localhost:8080/"
    },
    "id": "caZ09xI_GzL7",
    "outputId": "46944ba9-1e5a-4b19-8ec8-1687ee3d88ca"
   },
   "outputs": [
    {
     "name": "stderr",
     "output_type": "stream",
     "text": [
      "WARNING:absl:Function `_wrapped_model` contains input name(s) Input with unsupported characters which will be renamed to input in the SavedModel.\n",
      "WARNING:absl:Found untraced functions such as _jit_compiled_convolution_op, _jit_compiled_convolution_op, _jit_compiled_convolution_op, _jit_compiled_convolution_op, _jit_compiled_convolution_op while saving (showing 5 of 8). These functions will not be directly callable after loading.\n"
     ]
    },
    {
     "name": "stdout",
     "output_type": "stream",
     "text": [
      "INFO:tensorflow:Assets written to: ../../local_saved_models/model1/assets\n"
     ]
    },
    {
     "name": "stderr",
     "output_type": "stream",
     "text": [
      "INFO:tensorflow:Assets written to: ../../local_saved_models/model1/assets\n"
     ]
    }
   ],
   "source": [
    "model_helper.save_model(model, 'model1')"
   ]
  },
  {
   "cell_type": "code",
   "execution_count": 19,
   "metadata": {
    "colab": {
     "base_uri": "https://localhost:8080/",
     "height": 346
    },
    "id": "yDzIfdpHHDgC",
    "outputId": "46d6b78b-a27a-4126-f036-a8a80107d8db"
   },
   "outputs": [
    {
     "name": "stdout",
     "output_type": "stream",
     "text": [
      "Model: \"model\"\n",
      "_________________________________________________________________\n",
      " Layer (type)                Output Shape              Param #   \n",
      "=================================================================\n",
      " Input (InputLayer)          [(None, 96, 96, 3)]       0         \n",
      "                                                                 \n",
      " conv2d (Conv2D)             (None, 96, 96, 32)        896       \n",
      "                                                                 \n",
      " batch_normalization (BatchN  (None, 96, 96, 32)       128       \n",
      " ormalization)                                                   \n",
      "                                                                 \n",
      " activation (Activation)     (None, 96, 96, 32)        0         \n",
      "                                                                 \n",
      " max_pooling2d (MaxPooling2D  (None, 48, 48, 32)       0         \n",
      " )                                                               \n",
      "                                                                 \n",
      " conv2d_1 (Conv2D)           (None, 48, 48, 32)        9248      \n",
      "                                                                 \n",
      " batch_normalization_1 (Batc  (None, 48, 48, 32)       128       \n",
      " hNormalization)                                                 \n",
      "                                                                 \n",
      " activation_1 (Activation)   (None, 48, 48, 32)        0         \n",
      "                                                                 \n",
      " conv2d_2 (Conv2D)           (None, 48, 48, 32)        9248      \n",
      "                                                                 \n",
      " batch_normalization_2 (Batc  (None, 48, 48, 32)       128       \n",
      " hNormalization)                                                 \n",
      "                                                                 \n",
      " activation_2 (Activation)   (None, 48, 48, 32)        0         \n",
      "                                                                 \n",
      " max_pooling2d_1 (MaxPooling  (None, 24, 24, 32)       0         \n",
      " 2D)                                                             \n",
      "                                                                 \n",
      " conv2d_3 (Conv2D)           (None, 24, 24, 32)        9248      \n",
      "                                                                 \n",
      " batch_normalization_3 (Batc  (None, 24, 24, 32)       128       \n",
      " hNormalization)                                                 \n",
      "                                                                 \n",
      " activation_3 (Activation)   (None, 24, 24, 32)        0         \n",
      "                                                                 \n",
      " conv2d_4 (Conv2D)           (None, 24, 24, 32)        9248      \n",
      "                                                                 \n",
      " batch_normalization_4 (Batc  (None, 24, 24, 32)       128       \n",
      " hNormalization)                                                 \n",
      "                                                                 \n",
      " activation_4 (Activation)   (None, 24, 24, 32)        0         \n",
      "                                                                 \n",
      " max_pooling2d_2 (MaxPooling  (None, 12, 12, 32)       0         \n",
      " 2D)                                                             \n",
      "                                                                 \n",
      " conv2d_5 (Conv2D)           (None, 12, 12, 32)        9248      \n",
      "                                                                 \n",
      " batch_normalization_5 (Batc  (None, 12, 12, 32)       128       \n",
      " hNormalization)                                                 \n",
      "                                                                 \n",
      " activation_5 (Activation)   (None, 12, 12, 32)        0         \n",
      "                                                                 \n",
      " conv2d_6 (Conv2D)           (None, 12, 12, 32)        9248      \n",
      "                                                                 \n",
      " batch_normalization_6 (Batc  (None, 12, 12, 32)       128       \n",
      " hNormalization)                                                 \n",
      "                                                                 \n",
      " activation_6 (Activation)   (None, 12, 12, 32)        0         \n",
      "                                                                 \n",
      " max_pooling2d_3 (MaxPooling  (None, 6, 6, 32)         0         \n",
      " 2D)                                                             \n",
      "                                                                 \n",
      " conv2d_7 (Conv2D)           (None, 6, 6, 32)          9248      \n",
      "                                                                 \n",
      " batch_normalization_7 (Batc  (None, 6, 6, 32)         128       \n",
      " hNormalization)                                                 \n",
      "                                                                 \n",
      " activation_7 (Activation)   (None, 6, 6, 32)          0         \n",
      "                                                                 \n",
      " Flatten (Flatten)           (None, 1152)              0         \n",
      "                                                                 \n",
      " Classifier (Dense)          (None, 1024)              1180672   \n",
      "                                                                 \n",
      " dropout (Dropout)           (None, 1024)              0         \n",
      "                                                                 \n",
      " Output (Dense)              (None, 8)                 8200      \n",
      "                                                                 \n",
      "=================================================================\n",
      "Total params: 1,255,528\n",
      "Trainable params: 1,255,016\n",
      "Non-trainable params: 512\n",
      "_________________________________________________________________\n"
     ]
    }
   ],
   "source": [
    "model = model_helper.load_model('model1')\n",
    "model.summary()"
   ]
  },
  {
   "cell_type": "code",
   "execution_count": 20,
   "outputs": [
    {
     "name": "stdout",
     "output_type": "stream",
     "text": [
      " 7/12 [================>.............] - ETA: 0s"
     ]
    },
    {
     "name": "stderr",
     "output_type": "stream",
     "text": [
      "2022-11-22 02:13:26.945499: I tensorflow/core/grappler/optimizers/custom_graph_optimizer_registry.cc:114] Plugin optimizer for device_type GPU is enabled.\n"
     ]
    },
    {
     "name": "stdout",
     "output_type": "stream",
     "text": [
      "12/12 [==============================] - 0s 13ms/step\n",
      "Accuracy: 0.7034\n",
      "Precision: 0.6951\n",
      "Recall: 0.6595\n",
      "F1: 0.6667\n"
     ]
    },
    {
     "data": {
      "text/plain": "<Figure size 1000x800 with 2 Axes>",
      "image/png": "[encoded data removed]"
     },
     "metadata": {},
     "output_type": "display_data"
    }
   ],
   "source": [
    "model_helper.show_confusion_matrix(X_test, Y_test)"
   ],
   "metadata": {
    "collapsed": false
   }
  },
  {
   "cell_type": "code",
   "execution_count": 21,
   "outputs": [
    {
     "name": "stdout",
     "output_type": "stream",
     "text": [
      "Data Augmentation with data distribution\n",
      "Data distribution = [0.13875    0.12021667 0.12108333 0.12135    0.12028333 0.13675\n",
      " 0.12001667 0.12155   ]\n",
      "Class Size :  149, generating: 2081\n",
      "1937 images generated\n",
      "Class Size :  427, generating: 1803\n",
      "1708 images generated\n",
      "Class Size :  414, generating: 1816\n",
      "1784 images generated\n",
      "Class Size :  410, generating: 1820\n",
      "1768 images generated\n",
      "Class Size :  426, generating: 1804\n",
      "1704 images generated\n",
      "Class Size :  179, generating: 2051\n",
      "1918 images generated\n",
      "Class Size :  430, generating: 1800\n",
      "1720 images generated\n",
      "Class Size :  407, generating: 1823\n",
      "1756 images generated\n"
     ]
    }
   ],
   "source": [
    "X, Y = dataset_helper.load_dataset_from_numpy()\n",
    "dataset_size = X.shape[0]\n",
    "#Split Training and Testing\n",
    "X_train, X_test, Y_train, Y_test = train_test_split(X, Y, random_state=seed, test_size=int(0.1 * dataset_size),\n",
    "                                                    stratify=Y)\n",
    "\n",
    "# Normalize data\n",
    "X_train = X_train / 255.\n",
    "X_test = X_test / 255.\n",
    "\n",
    "#Split Training and Validation\n",
    "X_train, X_val, Y_train, Y_val = train_test_split(X_train, Y_train, random_state=seed,\n",
    "                                                  test_size=int(0.1 * dataset_size), stratify=Y_train)\n",
    "old_y_train = Y_train\n",
    "X_train, Y_train = dataset_helper.apply_data_augmentation_normalized(X_train, Y_train, 15000, disable_tqdm=True,\n",
    "                                                                     rotation_range=360,\n",
    "                                                                     width_shift_range=0.2,\n",
    "                                                                     height_shift_range=0.2,\n",
    "                                                                     zoom_range=0.3,\n",
    "                                                                     fill_mode=\"reflect\",\n",
    "                                                                     horizontal_flip=True,\n",
    "                                                                     vertical_flip=True,\n",
    "                                                                     brightness_range=(0.5, 1.1), seed=4578)\n",
    "X_train, Y_train = dataset_helper.keras_cv_augmentation(X_train, Y_train, 0.1)"
   ],
   "metadata": {
    "collapsed": false
   }
  },
  {
   "cell_type": "code",
   "execution_count": 22,
   "outputs": [
    {
     "name": "stdout",
     "output_type": "stream",
     "text": [
      "Epoch 1/100\n"
     ]
    },
    {
     "name": "stderr",
     "output_type": "stream",
     "text": [
      "2022-11-22 02:14:53.684041: I tensorflow/core/grappler/optimizers/custom_graph_optimizer_registry.cc:114] Plugin optimizer for device_type GPU is enabled.\n"
     ]
    },
    {
     "name": "stdout",
     "output_type": "stream",
     "text": [
      "196/196 [==============================] - ETA: 0s - loss: 0.7137 - accuracy: 0.7637"
     ]
    },
    {
     "name": "stderr",
     "output_type": "stream",
     "text": [
      "2022-11-22 02:15:06.231037: I tensorflow/core/grappler/optimizers/custom_graph_optimizer_registry.cc:114] Plugin optimizer for device_type GPU is enabled.\n"
     ]
    },
    {
     "name": "stdout",
     "output_type": "stream",
     "text": [
      "196/196 [==============================] - 14s 65ms/step - loss: 0.7137 - accuracy: 0.7637 - val_loss: 1.2504 - val_accuracy: 0.6751\n",
      "Epoch 2/100\n",
      "196/196 [==============================] - 12s 63ms/step - loss: 0.4623 - accuracy: 0.8361 - val_loss: 1.0888 - val_accuracy: 0.7034\n",
      "Epoch 3/100\n",
      "196/196 [==============================] - 12s 63ms/step - loss: 0.3520 - accuracy: 0.8785 - val_loss: 1.3269 - val_accuracy: 0.7062\n",
      "Epoch 4/100\n",
      "196/196 [==============================] - 12s 63ms/step - loss: 0.2801 - accuracy: 0.9043 - val_loss: 1.2936 - val_accuracy: 0.7147\n",
      "Epoch 5/100\n",
      "196/196 [==============================] - 12s 63ms/step - loss: 0.2296 - accuracy: 0.9186 - val_loss: 1.8882 - val_accuracy: 0.6780\n",
      "Epoch 6/100\n",
      "196/196 [==============================] - 12s 63ms/step - loss: 0.1806 - accuracy: 0.9375 - val_loss: 1.1937 - val_accuracy: 0.7232\n",
      "Epoch 7/100\n",
      "196/196 [==============================] - 12s 63ms/step - loss: 0.1774 - accuracy: 0.9375 - val_loss: 1.3906 - val_accuracy: 0.7006\n",
      "Epoch 8/100\n",
      "196/196 [==============================] - 12s 63ms/step - loss: 0.1237 - accuracy: 0.9574 - val_loss: 1.3872 - val_accuracy: 0.7147\n",
      "Epoch 9/100\n",
      "196/196 [==============================] - 12s 63ms/step - loss: 0.1266 - accuracy: 0.9563 - val_loss: 1.3461 - val_accuracy: 0.7288\n",
      "Epoch 10/100\n",
      "196/196 [==============================] - 12s 63ms/step - loss: 0.1039 - accuracy: 0.9657 - val_loss: 1.2716 - val_accuracy: 0.7571\n",
      "Epoch 11/100\n",
      "196/196 [==============================] - 12s 63ms/step - loss: 0.1065 - accuracy: 0.9644 - val_loss: 1.7639 - val_accuracy: 0.6864\n",
      "Epoch 12/100\n",
      "196/196 [==============================] - 12s 63ms/step - loss: 0.1024 - accuracy: 0.9660 - val_loss: 1.5746 - val_accuracy: 0.6949\n",
      "Epoch 13/100\n",
      "196/196 [==============================] - 12s 63ms/step - loss: 0.0810 - accuracy: 0.9725 - val_loss: 1.8063 - val_accuracy: 0.6949\n",
      "Epoch 14/100\n",
      "196/196 [==============================] - 13s 65ms/step - loss: 0.0679 - accuracy: 0.9781 - val_loss: 1.4261 - val_accuracy: 0.7401\n",
      "Epoch 15/100\n",
      "196/196 [==============================] - 12s 63ms/step - loss: 0.0772 - accuracy: 0.9733 - val_loss: 1.4880 - val_accuracy: 0.7232\n",
      "Epoch 16/100\n",
      "196/196 [==============================] - 12s 63ms/step - loss: 0.0900 - accuracy: 0.9694 - val_loss: 1.2565 - val_accuracy: 0.7316\n",
      "Epoch 17/100\n",
      "196/196 [==============================] - 12s 63ms/step - loss: 0.0782 - accuracy: 0.9745 - val_loss: 2.0612 - val_accuracy: 0.6808\n",
      "Epoch 18/100\n",
      "196/196 [==============================] - 12s 63ms/step - loss: 0.0798 - accuracy: 0.9732 - val_loss: 2.1934 - val_accuracy: 0.6893\n",
      "Epoch 19/100\n",
      "196/196 [==============================] - 12s 63ms/step - loss: 0.0783 - accuracy: 0.9739 - val_loss: 1.5406 - val_accuracy: 0.7288\n",
      "Epoch 20/100\n",
      "196/196 [==============================] - 12s 64ms/step - loss: 0.0638 - accuracy: 0.9779 - val_loss: 1.5451 - val_accuracy: 0.7373\n",
      "Epoch 21/100\n",
      "196/196 [==============================] - 12s 63ms/step - loss: 0.0602 - accuracy: 0.9802 - val_loss: 1.5587 - val_accuracy: 0.7514\n",
      "Epoch 22/100\n",
      "196/196 [==============================] - 12s 63ms/step - loss: 0.0531 - accuracy: 0.9827 - val_loss: 1.6520 - val_accuracy: 0.7288\n",
      "Epoch 23/100\n",
      "196/196 [==============================] - 12s 63ms/step - loss: 0.0584 - accuracy: 0.9809 - val_loss: 1.6210 - val_accuracy: 0.7345\n",
      "Epoch 24/100\n",
      "196/196 [==============================] - 12s 63ms/step - loss: 0.0588 - accuracy: 0.9809 - val_loss: 1.7833 - val_accuracy: 0.7203\n",
      "Epoch 25/100\n",
      "196/196 [==============================] - 12s 63ms/step - loss: 0.0508 - accuracy: 0.9826 - val_loss: 1.6388 - val_accuracy: 0.7062\n",
      "Epoch 26/100\n",
      "196/196 [==============================] - 12s 63ms/step - loss: 0.0523 - accuracy: 0.9828 - val_loss: 2.2481 - val_accuracy: 0.6525\n",
      "Epoch 27/100\n",
      "196/196 [==============================] - 12s 63ms/step - loss: 0.0683 - accuracy: 0.9755 - val_loss: 2.1359 - val_accuracy: 0.6836\n",
      "Epoch 28/100\n",
      "196/196 [==============================] - 12s 63ms/step - loss: 0.0530 - accuracy: 0.9820 - val_loss: 1.9822 - val_accuracy: 0.7175\n",
      "Epoch 29/100\n",
      "196/196 [==============================] - 12s 63ms/step - loss: 0.0642 - accuracy: 0.9781 - val_loss: 1.8216 - val_accuracy: 0.6977\n",
      "Epoch 30/100\n",
      "196/196 [==============================] - 12s 63ms/step - loss: 0.0506 - accuracy: 0.9826 - val_loss: 1.8822 - val_accuracy: 0.6977\n",
      "Epoch 31/100\n",
      "196/196 [==============================] - 12s 63ms/step - loss: 0.0475 - accuracy: 0.9837 - val_loss: 1.7143 - val_accuracy: 0.7599\n",
      "Epoch 32/100\n",
      "196/196 [==============================] - 12s 63ms/step - loss: 0.0315 - accuracy: 0.9894 - val_loss: 1.7155 - val_accuracy: 0.6921\n",
      "Epoch 33/100\n",
      "196/196 [==============================] - 12s 63ms/step - loss: 0.0565 - accuracy: 0.9815 - val_loss: 2.0853 - val_accuracy: 0.7203\n",
      "Epoch 34/100\n",
      "196/196 [==============================] - 12s 63ms/step - loss: 0.0419 - accuracy: 0.9860 - val_loss: 1.3422 - val_accuracy: 0.7571\n",
      "Epoch 35/100\n",
      "196/196 [==============================] - 12s 63ms/step - loss: 0.0517 - accuracy: 0.9837 - val_loss: 1.7373 - val_accuracy: 0.6864\n",
      "Epoch 36/100\n",
      "196/196 [==============================] - 12s 63ms/step - loss: 0.0445 - accuracy: 0.9849 - val_loss: 1.8700 - val_accuracy: 0.7119\n",
      "Epoch 37/100\n",
      "196/196 [==============================] - 12s 63ms/step - loss: 0.0435 - accuracy: 0.9849 - val_loss: 2.3992 - val_accuracy: 0.6695\n",
      "Epoch 38/100\n",
      "196/196 [==============================] - 12s 63ms/step - loss: 0.0425 - accuracy: 0.9850 - val_loss: 1.9214 - val_accuracy: 0.7232\n",
      "Epoch 39/100\n",
      "196/196 [==============================] - 12s 63ms/step - loss: 0.0425 - accuracy: 0.9858 - val_loss: 1.5629 - val_accuracy: 0.7514\n",
      "Epoch 40/100\n",
      "196/196 [==============================] - 12s 63ms/step - loss: 0.0400 - accuracy: 0.9864 - val_loss: 1.7987 - val_accuracy: 0.7232\n",
      "Epoch 41/100\n",
      "196/196 [==============================] - 12s 63ms/step - loss: 0.0364 - accuracy: 0.9884 - val_loss: 2.0507 - val_accuracy: 0.7119\n",
      "Epoch 42/100\n",
      "196/196 [==============================] - 12s 63ms/step - loss: 0.0418 - accuracy: 0.9863 - val_loss: 1.8366 - val_accuracy: 0.7401\n",
      "Epoch 43/100\n",
      "196/196 [==============================] - 12s 63ms/step - loss: 0.0504 - accuracy: 0.9838 - val_loss: 2.1119 - val_accuracy: 0.7147\n",
      "Epoch 44/100\n",
      "196/196 [==============================] - 12s 63ms/step - loss: 0.0432 - accuracy: 0.9849 - val_loss: 2.0546 - val_accuracy: 0.7090\n",
      "Epoch 45/100\n",
      "196/196 [==============================] - 12s 63ms/step - loss: 0.0468 - accuracy: 0.9841 - val_loss: 1.5958 - val_accuracy: 0.7429\n",
      "Epoch 46/100\n",
      "196/196 [==============================] - 12s 63ms/step - loss: 0.0403 - accuracy: 0.9863 - val_loss: 2.6482 - val_accuracy: 0.6808\n",
      "Epoch 47/100\n",
      "196/196 [==============================] - 12s 63ms/step - loss: 0.0395 - accuracy: 0.9870 - val_loss: 1.8483 - val_accuracy: 0.7345\n",
      "Epoch 48/100\n",
      "196/196 [==============================] - 12s 63ms/step - loss: 0.0347 - accuracy: 0.9881 - val_loss: 1.7293 - val_accuracy: 0.7288\n",
      "Epoch 49/100\n",
      "196/196 [==============================] - 12s 63ms/step - loss: 0.0435 - accuracy: 0.9859 - val_loss: 1.8092 - val_accuracy: 0.7514\n",
      "Epoch 50/100\n",
      "196/196 [==============================] - 12s 63ms/step - loss: 0.0372 - accuracy: 0.9876 - val_loss: 1.7998 - val_accuracy: 0.7288\n",
      "Epoch 51/100\n",
      "196/196 [==============================] - 12s 63ms/step - loss: 0.0434 - accuracy: 0.9859 - val_loss: 1.6847 - val_accuracy: 0.7373\n",
      "Epoch 52/100\n",
      "196/196 [==============================] - 12s 63ms/step - loss: 0.0414 - accuracy: 0.9858 - val_loss: 2.3940 - val_accuracy: 0.6893\n",
      "Epoch 53/100\n",
      "196/196 [==============================] - 12s 63ms/step - loss: 0.0463 - accuracy: 0.9851 - val_loss: 1.7857 - val_accuracy: 0.7514\n",
      "Epoch 54/100\n",
      "196/196 [==============================] - 12s 63ms/step - loss: 0.0227 - accuracy: 0.9925 - val_loss: 1.8760 - val_accuracy: 0.7175\n",
      "Epoch 55/100\n",
      "196/196 [==============================] - 12s 63ms/step - loss: 0.0308 - accuracy: 0.9902 - val_loss: 1.7847 - val_accuracy: 0.7401\n",
      "Epoch 56/100\n",
      "196/196 [==============================] - 12s 63ms/step - loss: 0.0396 - accuracy: 0.9872 - val_loss: 1.9182 - val_accuracy: 0.7232\n"
     ]
    }
   ],
   "source": [
    "# Train the model\n",
    "#%env TF_FORCE_UNIFIED_MEMORY: 1\n",
    "callbacks_selected = model_helper.createCallbacks(earlyStopping=True, checkPoints=True, patience=25)\n",
    "\n",
    "#Fit the model\n",
    "history = model.fit(\n",
    "    x=X_train,\n",
    "    y=Y_train,\n",
    "    batch_size=batch_size,\n",
    "    epochs=100,\n",
    "    validation_data=(X_val, Y_val),\n",
    "    callbacks=callbacks_selected\n",
    ").history"
   ],
   "metadata": {
    "collapsed": false
   }
  },
  {
   "cell_type": "code",
   "execution_count": 23,
   "outputs": [
    {
     "name": "stderr",
     "output_type": "stream",
     "text": [
      "WARNING:absl:Function `_wrapped_model` contains input name(s) Input with unsupported characters which will be renamed to input in the SavedModel.\n",
      "WARNING:absl:Found untraced functions such as _jit_compiled_convolution_op, _jit_compiled_convolution_op, _jit_compiled_convolution_op, _jit_compiled_convolution_op, _jit_compiled_convolution_op while saving (showing 5 of 8). These functions will not be directly callable after loading.\n"
     ]
    },
    {
     "name": "stdout",
     "output_type": "stream",
     "text": [
      "INFO:tensorflow:Assets written to: ../../local_saved_models/model2/assets\n"
     ]
    },
    {
     "name": "stderr",
     "output_type": "stream",
     "text": [
      "INFO:tensorflow:Assets written to: ../../local_saved_models/model2/assets\n"
     ]
    }
   ],
   "source": [
    "model_helper.save_model(model, 'model2')"
   ],
   "metadata": {
    "collapsed": false
   }
  },
  {
   "cell_type": "code",
   "execution_count": 24,
   "outputs": [
    {
     "name": "stdout",
     "output_type": "stream",
     "text": [
      "Model: \"model\"\n",
      "_________________________________________________________________\n",
      " Layer (type)                Output Shape              Param #   \n",
      "=================================================================\n",
      " Input (InputLayer)          [(None, 96, 96, 3)]       0         \n",
      "                                                                 \n",
      " conv2d (Conv2D)             (None, 96, 96, 32)        896       \n",
      "                                                                 \n",
      " batch_normalization (BatchN  (None, 96, 96, 32)       128       \n",
      " ormalization)                                                   \n",
      "                                                                 \n",
      " activation (Activation)     (None, 96, 96, 32)        0         \n",
      "                                                                 \n",
      " max_pooling2d (MaxPooling2D  (None, 48, 48, 32)       0         \n",
      " )                                                               \n",
      "                                                                 \n",
      " conv2d_1 (Conv2D)           (None, 48, 48, 32)        9248      \n",
      "                                                                 \n",
      " batch_normalization_1 (Batc  (None, 48, 48, 32)       128       \n",
      " hNormalization)                                                 \n",
      "                                                                 \n",
      " activation_1 (Activation)   (None, 48, 48, 32)        0         \n",
      "                                                                 \n",
      " conv2d_2 (Conv2D)           (None, 48, 48, 32)        9248      \n",
      "                                                                 \n",
      " batch_normalization_2 (Batc  (None, 48, 48, 32)       128       \n",
      " hNormalization)                                                 \n",
      "                                                                 \n",
      " activation_2 (Activation)   (None, 48, 48, 32)        0         \n",
      "                                                                 \n",
      " max_pooling2d_1 (MaxPooling  (None, 24, 24, 32)       0         \n",
      " 2D)                                                             \n",
      "                                                                 \n",
      " conv2d_3 (Conv2D)           (None, 24, 24, 32)        9248      \n",
      "                                                                 \n",
      " batch_normalization_3 (Batc  (None, 24, 24, 32)       128       \n",
      " hNormalization)                                                 \n",
      "                                                                 \n",
      " activation_3 (Activation)   (None, 24, 24, 32)        0         \n",
      "                                                                 \n",
      " conv2d_4 (Conv2D)           (None, 24, 24, 32)        9248      \n",
      "                                                                 \n",
      " batch_normalization_4 (Batc  (None, 24, 24, 32)       128       \n",
      " hNormalization)                                                 \n",
      "                                                                 \n",
      " activation_4 (Activation)   (None, 24, 24, 32)        0         \n",
      "                                                                 \n",
      " max_pooling2d_2 (MaxPooling  (None, 12, 12, 32)       0         \n",
      " 2D)                                                             \n",
      "                                                                 \n",
      " conv2d_5 (Conv2D)           (None, 12, 12, 32)        9248      \n",
      "                                                                 \n",
      " batch_normalization_5 (Batc  (None, 12, 12, 32)       128       \n",
      " hNormalization)                                                 \n",
      "                                                                 \n",
      " activation_5 (Activation)   (None, 12, 12, 32)        0         \n",
      "                                                                 \n",
      " conv2d_6 (Conv2D)           (None, 12, 12, 32)        9248      \n",
      "                                                                 \n",
      " batch_normalization_6 (Batc  (None, 12, 12, 32)       128       \n",
      " hNormalization)                                                 \n",
      "                                                                 \n",
      " activation_6 (Activation)   (None, 12, 12, 32)        0         \n",
      "                                                                 \n",
      " max_pooling2d_3 (MaxPooling  (None, 6, 6, 32)         0         \n",
      " 2D)                                                             \n",
      "                                                                 \n",
      " conv2d_7 (Conv2D)           (None, 6, 6, 32)          9248      \n",
      "                                                                 \n",
      " batch_normalization_7 (Batc  (None, 6, 6, 32)         128       \n",
      " hNormalization)                                                 \n",
      "                                                                 \n",
      " activation_7 (Activation)   (None, 6, 6, 32)          0         \n",
      "                                                                 \n",
      " Flatten (Flatten)           (None, 1152)              0         \n",
      "                                                                 \n",
      " Classifier (Dense)          (None, 1024)              1180672   \n",
      "                                                                 \n",
      " dropout (Dropout)           (None, 1024)              0         \n",
      "                                                                 \n",
      " Output (Dense)              (None, 8)                 8200      \n",
      "                                                                 \n",
      "=================================================================\n",
      "Total params: 1,255,528\n",
      "Trainable params: 1,255,016\n",
      "Non-trainable params: 512\n",
      "_________________________________________________________________\n"
     ]
    }
   ],
   "source": [
    "model = model_helper.load_model('model2')\n",
    "model.summary()"
   ],
   "metadata": {
    "collapsed": false
   }
  },
  {
   "cell_type": "code",
   "execution_count": 25,
   "metadata": {},
   "outputs": [
    {
     "name": "stdout",
     "output_type": "stream",
     "text": [
      "12/12 [==============================] - 0s 11ms/step\n"
     ]
    },
    {
     "name": "stderr",
     "output_type": "stream",
     "text": [
      "2022-11-22 02:26:30.343341: I tensorflow/core/grappler/optimizers/custom_graph_optimizer_registry.cc:114] Plugin optimizer for device_type GPU is enabled.\n"
     ]
    },
    {
     "name": "stdout",
     "output_type": "stream",
     "text": [
      "Accuracy: 0.774\n",
      "Precision: 0.7639\n",
      "Recall: 0.7376\n",
      "F1: 0.7441\n"
     ]
    },
    {
     "data": {
      "text/plain": "<Figure size 1000x800 with 2 Axes>",
      "image/png": "[encoded data removed]"
     },
     "metadata": {},
     "output_type": "display_data"
    }
   ],
   "source": [
    "#PLOT CONFUSION MATRIX OF OUR MODEL\n",
    "#It is good if diagonal has high values and other part of matrix is dark\n",
    "#Bad if a row has ALL dark cells\n",
    "#EG species 1 and species 6 has less images in the datase... and here the confusion matrix has all black on them..\n",
    "model_helper.show_confusion_matrix(X_test, Y_test)"
   ]
  },
  {
   "cell_type": "code",
   "execution_count": 26,
   "outputs": [
    {
     "name": "stdout",
     "output_type": "stream",
     "text": [
      "Data Augmentation with data distribution\n",
      "Data distribution = [0.13875    0.12021667 0.12108333 0.12135    0.12028333 0.13675\n",
      " 0.12001667 0.12155   ]\n",
      "Class Size :  149, generating: 2081\n",
      "1937 images generated\n",
      "Class Size :  427, generating: 1803\n",
      "1708 images generated\n",
      "Class Size :  414, generating: 1816\n",
      "1784 images generated\n",
      "Class Size :  410, generating: 1820\n",
      "1768 images generated\n",
      "Class Size :  426, generating: 1804\n",
      "1704 images generated\n",
      "Class Size :  179, generating: 2051\n",
      "1918 images generated\n",
      "Class Size :  430, generating: 1800\n",
      "1720 images generated\n",
      "Class Size :  407, generating: 1823\n",
      "1756 images generated\n",
      "Epoch 1/100\n"
     ]
    },
    {
     "name": "stderr",
     "output_type": "stream",
     "text": [
      "2022-11-22 02:27:10.976841: I tensorflow/core/grappler/optimizers/custom_graph_optimizer_registry.cc:114] Plugin optimizer for device_type GPU is enabled.\n"
     ]
    },
    {
     "name": "stdout",
     "output_type": "stream",
     "text": [
      "196/196 [==============================] - ETA: 0s - loss: 0.6430 - accuracy: 0.8028"
     ]
    },
    {
     "name": "stderr",
     "output_type": "stream",
     "text": [
      "2022-11-22 02:27:23.538593: I tensorflow/core/grappler/optimizers/custom_graph_optimizer_registry.cc:114] Plugin optimizer for device_type GPU is enabled.\n"
     ]
    },
    {
     "name": "stdout",
     "output_type": "stream",
     "text": [
      "196/196 [==============================] - 14s 65ms/step - loss: 0.6430 - accuracy: 0.8028 - val_loss: 1.0461 - val_accuracy: 0.7571\n",
      "Epoch 2/100\n",
      "196/196 [==============================] - 12s 63ms/step - loss: 0.3686 - accuracy: 0.8723 - val_loss: 1.0377 - val_accuracy: 0.7373\n",
      "Epoch 3/100\n",
      "196/196 [==============================] - 12s 63ms/step - loss: 0.2781 - accuracy: 0.9048 - val_loss: 0.9424 - val_accuracy: 0.7881\n",
      "Epoch 4/100\n",
      "196/196 [==============================] - 12s 63ms/step - loss: 0.2144 - accuracy: 0.9245 - val_loss: 1.3876 - val_accuracy: 0.7429\n",
      "Epoch 5/100\n",
      "196/196 [==============================] - 13s 65ms/step - loss: 0.1758 - accuracy: 0.9404 - val_loss: 1.4387 - val_accuracy: 0.7288\n",
      "Epoch 6/100\n",
      "196/196 [==============================] - 12s 63ms/step - loss: 0.1402 - accuracy: 0.9513 - val_loss: 1.1083 - val_accuracy: 0.7938\n",
      "Epoch 7/100\n",
      "196/196 [==============================] - 12s 63ms/step - loss: 0.1385 - accuracy: 0.9538 - val_loss: 1.0783 - val_accuracy: 0.7966\n",
      "Epoch 8/100\n",
      "196/196 [==============================] - 12s 63ms/step - loss: 0.1065 - accuracy: 0.9638 - val_loss: 1.3926 - val_accuracy: 0.7684\n",
      "Epoch 9/100\n",
      "196/196 [==============================] - 12s 63ms/step - loss: 0.0944 - accuracy: 0.9678 - val_loss: 1.6521 - val_accuracy: 0.6836\n",
      "Epoch 10/100\n",
      "196/196 [==============================] - 12s 63ms/step - loss: 0.0906 - accuracy: 0.9699 - val_loss: 1.1238 - val_accuracy: 0.7768\n",
      "Epoch 11/100\n",
      "196/196 [==============================] - 12s 62ms/step - loss: 0.0861 - accuracy: 0.9713 - val_loss: 1.4494 - val_accuracy: 0.7655\n",
      "Epoch 12/100\n",
      "196/196 [==============================] - 12s 63ms/step - loss: 0.0819 - accuracy: 0.9722 - val_loss: 1.5492 - val_accuracy: 0.6921\n",
      "Epoch 13/100\n",
      "196/196 [==============================] - 12s 62ms/step - loss: 0.0688 - accuracy: 0.9756 - val_loss: 1.9687 - val_accuracy: 0.7034\n",
      "Epoch 14/100\n",
      "196/196 [==============================] - 12s 62ms/step - loss: 0.0635 - accuracy: 0.9785 - val_loss: 1.5212 - val_accuracy: 0.7401\n",
      "Epoch 15/100\n",
      "196/196 [==============================] - 12s 62ms/step - loss: 0.0782 - accuracy: 0.9735 - val_loss: 1.5738 - val_accuracy: 0.7571\n",
      "Epoch 16/100\n",
      "196/196 [==============================] - 12s 63ms/step - loss: 0.0602 - accuracy: 0.9796 - val_loss: 1.7448 - val_accuracy: 0.7486\n",
      "Epoch 17/100\n",
      "196/196 [==============================] - 12s 63ms/step - loss: 0.0608 - accuracy: 0.9789 - val_loss: 1.7209 - val_accuracy: 0.7006\n",
      "Epoch 18/100\n",
      "196/196 [==============================] - 12s 63ms/step - loss: 0.0555 - accuracy: 0.9814 - val_loss: 1.6283 - val_accuracy: 0.7768\n",
      "Epoch 19/100\n",
      "196/196 [==============================] - 12s 63ms/step - loss: 0.0617 - accuracy: 0.9781 - val_loss: 1.4080 - val_accuracy: 0.7571\n",
      "Epoch 20/100\n",
      "196/196 [==============================] - 12s 63ms/step - loss: 0.0763 - accuracy: 0.9736 - val_loss: 1.3101 - val_accuracy: 0.7599\n",
      "Epoch 21/100\n",
      "196/196 [==============================] - 12s 62ms/step - loss: 0.0459 - accuracy: 0.9849 - val_loss: 1.7748 - val_accuracy: 0.7316\n",
      "Epoch 22/100\n",
      "196/196 [==============================] - 12s 63ms/step - loss: 0.0498 - accuracy: 0.9834 - val_loss: 1.4459 - val_accuracy: 0.7345\n",
      "Epoch 23/100\n",
      "196/196 [==============================] - 12s 63ms/step - loss: 0.0580 - accuracy: 0.9817 - val_loss: 1.5453 - val_accuracy: 0.7486\n",
      "Epoch 24/100\n",
      "196/196 [==============================] - 12s 63ms/step - loss: 0.0553 - accuracy: 0.9819 - val_loss: 1.6405 - val_accuracy: 0.7712\n",
      "Epoch 25/100\n",
      "196/196 [==============================] - 12s 62ms/step - loss: 0.0511 - accuracy: 0.9837 - val_loss: 1.3511 - val_accuracy: 0.7599\n",
      "Epoch 26/100\n",
      "196/196 [==============================] - 12s 63ms/step - loss: 0.0450 - accuracy: 0.9851 - val_loss: 1.2439 - val_accuracy: 0.8051\n",
      "Epoch 27/100\n",
      "196/196 [==============================] - 12s 63ms/step - loss: 0.0484 - accuracy: 0.9831 - val_loss: 1.3225 - val_accuracy: 0.7514\n",
      "Epoch 28/100\n",
      "196/196 [==============================] - 12s 62ms/step - loss: 0.0450 - accuracy: 0.9848 - val_loss: 1.4247 - val_accuracy: 0.7373\n",
      "Epoch 29/100\n",
      "196/196 [==============================] - 12s 63ms/step - loss: 0.0499 - accuracy: 0.9849 - val_loss: 1.5506 - val_accuracy: 0.7373\n",
      "Epoch 30/100\n",
      "196/196 [==============================] - 12s 62ms/step - loss: 0.0418 - accuracy: 0.9865 - val_loss: 1.5059 - val_accuracy: 0.7486\n",
      "Epoch 31/100\n",
      "196/196 [==============================] - 12s 62ms/step - loss: 0.0407 - accuracy: 0.9864 - val_loss: 2.1060 - val_accuracy: 0.7119\n",
      "Epoch 32/100\n",
      "196/196 [==============================] - 12s 62ms/step - loss: 0.0303 - accuracy: 0.9892 - val_loss: 1.2014 - val_accuracy: 0.7825\n",
      "Epoch 33/100\n",
      "196/196 [==============================] - 12s 63ms/step - loss: 0.0438 - accuracy: 0.9853 - val_loss: 1.9304 - val_accuracy: 0.7345\n",
      "Epoch 34/100\n",
      "196/196 [==============================] - 12s 63ms/step - loss: 0.0405 - accuracy: 0.9868 - val_loss: 1.6059 - val_accuracy: 0.7458\n",
      "Epoch 35/100\n",
      "196/196 [==============================] - 12s 63ms/step - loss: 0.0368 - accuracy: 0.9875 - val_loss: 1.9683 - val_accuracy: 0.7203\n",
      "Epoch 36/100\n",
      "196/196 [==============================] - 12s 63ms/step - loss: 0.0401 - accuracy: 0.9867 - val_loss: 2.5166 - val_accuracy: 0.6723\n",
      "Epoch 37/100\n",
      "196/196 [==============================] - 12s 62ms/step - loss: 0.0433 - accuracy: 0.9857 - val_loss: 1.5638 - val_accuracy: 0.7655\n",
      "Epoch 38/100\n",
      "196/196 [==============================] - 12s 63ms/step - loss: 0.0378 - accuracy: 0.9874 - val_loss: 1.6748 - val_accuracy: 0.7740\n",
      "Epoch 39/100\n",
      "196/196 [==============================] - 12s 63ms/step - loss: 0.0464 - accuracy: 0.9854 - val_loss: 1.8572 - val_accuracy: 0.7429\n",
      "Epoch 40/100\n",
      "196/196 [==============================] - 12s 63ms/step - loss: 0.0326 - accuracy: 0.9881 - val_loss: 2.1919 - val_accuracy: 0.7034\n",
      "Epoch 41/100\n",
      "196/196 [==============================] - 12s 63ms/step - loss: 0.0397 - accuracy: 0.9868 - val_loss: 1.8541 - val_accuracy: 0.7232\n",
      "Epoch 42/100\n",
      "196/196 [==============================] - 12s 63ms/step - loss: 0.0382 - accuracy: 0.9880 - val_loss: 1.5685 - val_accuracy: 0.7542\n",
      "Epoch 43/100\n",
      "196/196 [==============================] - 12s 63ms/step - loss: 0.0360 - accuracy: 0.9880 - val_loss: 1.7792 - val_accuracy: 0.7232\n",
      "Epoch 44/100\n",
      "196/196 [==============================] - 12s 63ms/step - loss: 0.0485 - accuracy: 0.9845 - val_loss: 1.9913 - val_accuracy: 0.7316\n",
      "Epoch 45/100\n",
      "196/196 [==============================] - 12s 62ms/step - loss: 0.0340 - accuracy: 0.9890 - val_loss: 1.9184 - val_accuracy: 0.7288\n",
      "Epoch 46/100\n",
      "196/196 [==============================] - 12s 63ms/step - loss: 0.0328 - accuracy: 0.9882 - val_loss: 1.9409 - val_accuracy: 0.6977\n",
      "Epoch 47/100\n",
      "196/196 [==============================] - 12s 63ms/step - loss: 0.0416 - accuracy: 0.9863 - val_loss: 2.0227 - val_accuracy: 0.7288\n",
      "Epoch 48/100\n",
      "196/196 [==============================] - 12s 63ms/step - loss: 0.0340 - accuracy: 0.9884 - val_loss: 2.0574 - val_accuracy: 0.7345\n",
      "Epoch 49/100\n",
      "196/196 [==============================] - 12s 63ms/step - loss: 0.0298 - accuracy: 0.9904 - val_loss: 1.4283 - val_accuracy: 0.7655\n",
      "Epoch 50/100\n",
      "196/196 [==============================] - 12s 63ms/step - loss: 0.0278 - accuracy: 0.9905 - val_loss: 1.3132 - val_accuracy: 0.8136\n",
      "Epoch 51/100\n",
      "196/196 [==============================] - 12s 63ms/step - loss: 0.0228 - accuracy: 0.9927 - val_loss: 1.7391 - val_accuracy: 0.7458\n",
      "Epoch 52/100\n",
      "196/196 [==============================] - 12s 62ms/step - loss: 0.0346 - accuracy: 0.9891 - val_loss: 1.9758 - val_accuracy: 0.7288\n",
      "Epoch 53/100\n",
      "196/196 [==============================] - 12s 62ms/step - loss: 0.0432 - accuracy: 0.9858 - val_loss: 1.5283 - val_accuracy: 0.7853\n",
      "Epoch 54/100\n",
      "196/196 [==============================] - 12s 63ms/step - loss: 0.0343 - accuracy: 0.9882 - val_loss: 2.2911 - val_accuracy: 0.7458\n",
      "Epoch 55/100\n",
      "196/196 [==============================] - 12s 63ms/step - loss: 0.0310 - accuracy: 0.9900 - val_loss: 1.3565 - val_accuracy: 0.8136\n",
      "Epoch 56/100\n",
      "196/196 [==============================] - 12s 63ms/step - loss: 0.0237 - accuracy: 0.9928 - val_loss: 1.5007 - val_accuracy: 0.7740\n",
      "Epoch 57/100\n",
      "196/196 [==============================] - 12s 63ms/step - loss: 0.0257 - accuracy: 0.9914 - val_loss: 1.6709 - val_accuracy: 0.7825\n",
      "Epoch 58/100\n",
      "196/196 [==============================] - 12s 63ms/step - loss: 0.0375 - accuracy: 0.9884 - val_loss: 1.8695 - val_accuracy: 0.7288\n",
      "Epoch 59/100\n",
      "196/196 [==============================] - 12s 63ms/step - loss: 0.0282 - accuracy: 0.9907 - val_loss: 2.4087 - val_accuracy: 0.7034\n",
      "Epoch 60/100\n",
      "196/196 [==============================] - 12s 63ms/step - loss: 0.0291 - accuracy: 0.9904 - val_loss: 1.4885 - val_accuracy: 0.7684\n",
      "Epoch 61/100\n",
      "196/196 [==============================] - 12s 63ms/step - loss: 0.0178 - accuracy: 0.9939 - val_loss: 1.5341 - val_accuracy: 0.7684\n",
      "Epoch 62/100\n",
      "196/196 [==============================] - 12s 63ms/step - loss: 0.0240 - accuracy: 0.9927 - val_loss: 2.0148 - val_accuracy: 0.7175\n",
      "Epoch 63/100\n",
      "196/196 [==============================] - 12s 63ms/step - loss: 0.0354 - accuracy: 0.9892 - val_loss: 2.0178 - val_accuracy: 0.7175\n",
      "Epoch 64/100\n",
      "196/196 [==============================] - 12s 63ms/step - loss: 0.0336 - accuracy: 0.9890 - val_loss: 1.7134 - val_accuracy: 0.7684\n",
      "Epoch 65/100\n",
      "196/196 [==============================] - 12s 63ms/step - loss: 0.0352 - accuracy: 0.9890 - val_loss: 1.6769 - val_accuracy: 0.7316\n",
      "Epoch 66/100\n",
      "196/196 [==============================] - 12s 63ms/step - loss: 0.0298 - accuracy: 0.9897 - val_loss: 1.9984 - val_accuracy: 0.7373\n",
      "Epoch 67/100\n",
      "196/196 [==============================] - 12s 63ms/step - loss: 0.0332 - accuracy: 0.9894 - val_loss: 1.4954 - val_accuracy: 0.7797\n",
      "Epoch 68/100\n",
      "196/196 [==============================] - 12s 63ms/step - loss: 0.0291 - accuracy: 0.9912 - val_loss: 1.5802 - val_accuracy: 0.7797\n",
      "Epoch 69/100\n",
      "196/196 [==============================] - 12s 63ms/step - loss: 0.0246 - accuracy: 0.9923 - val_loss: 1.5822 - val_accuracy: 0.7542\n",
      "Epoch 70/100\n",
      "196/196 [==============================] - 12s 63ms/step - loss: 0.0287 - accuracy: 0.9908 - val_loss: 1.5961 - val_accuracy: 0.7542\n",
      "Epoch 71/100\n",
      "196/196 [==============================] - 12s 62ms/step - loss: 0.0210 - accuracy: 0.9931 - val_loss: 1.7793 - val_accuracy: 0.7599\n",
      "Epoch 72/100\n",
      "196/196 [==============================] - 12s 63ms/step - loss: 0.0323 - accuracy: 0.9899 - val_loss: 1.7542 - val_accuracy: 0.7571\n",
      "Epoch 73/100\n",
      "196/196 [==============================] - 12s 63ms/step - loss: 0.0362 - accuracy: 0.9887 - val_loss: 1.5541 - val_accuracy: 0.7486\n",
      "Epoch 74/100\n",
      "196/196 [==============================] - 12s 63ms/step - loss: 0.0270 - accuracy: 0.9915 - val_loss: 2.1572 - val_accuracy: 0.7571\n",
      "Epoch 75/100\n",
      "196/196 [==============================] - 12s 63ms/step - loss: 0.0258 - accuracy: 0.9918 - val_loss: 2.2520 - val_accuracy: 0.7288\n"
     ]
    }
   ],
   "source": [
    "X, Y = dataset_helper.load_dataset_from_numpy()\n",
    "dataset_size = X.shape[0]\n",
    "#Split Training and Testing\n",
    "X_train, X_test, Y_train, Y_test = train_test_split(X, Y, random_state=seed, test_size=int(0.1 * dataset_size),\n",
    "                                                    stratify=Y)\n",
    "\n",
    "# Normalize data\n",
    "X_train = X_train / 255.\n",
    "X_test = X_test / 255.\n",
    "\n",
    "#Split Training and Validation\n",
    "X_train, X_val, Y_train, Y_val = train_test_split(X_train, Y_train, random_state=seed,\n",
    "                                                  test_size=int(0.1 * dataset_size), stratify=Y_train)\n",
    "old_y_train = Y_train\n",
    "X_train, Y_train = dataset_helper.apply_data_augmentation_normalized(X_train, Y_train, 15000, disable_tqdm=True,\n",
    "                                                                     rotation_range=360,\n",
    "                                                                     width_shift_range=0.2,\n",
    "                                                                     height_shift_range=0.2,\n",
    "                                                                     zoom_range=0.3,\n",
    "                                                                     fill_mode=\"reflect\",\n",
    "                                                                     horizontal_flip=True,\n",
    "                                                                     vertical_flip=True,\n",
    "                                                                     brightness_range=(0.5, 1.1), seed=12)\n",
    "X_train, Y_train = dataset_helper.keras_cv_augmentation(X_train, Y_train, 0.1)\n",
    "# Train the model\n",
    "#%env TF_FORCE_UNIFIED_MEMORY: 1\n",
    "callbacks_selected = model_helper.createCallbacks(earlyStopping=True, checkPoints=True, patience=25)\n",
    "\n",
    "#Fit the model\n",
    "history = model.fit(\n",
    "    x=X_train,\n",
    "    y=Y_train,\n",
    "    batch_size=batch_size,\n",
    "    epochs=100,\n",
    "    validation_data=(X_val, Y_val),\n",
    "    callbacks=callbacks_selected\n",
    ").history"
   ],
   "metadata": {
    "collapsed": false
   }
  },
  {
   "cell_type": "code",
   "execution_count": 27,
   "outputs": [
    {
     "name": "stderr",
     "output_type": "stream",
     "text": [
      "WARNING:absl:Function `_wrapped_model` contains input name(s) Input with unsupported characters which will be renamed to input in the SavedModel.\n",
      "WARNING:absl:Found untraced functions such as _jit_compiled_convolution_op, _jit_compiled_convolution_op, _jit_compiled_convolution_op, _jit_compiled_convolution_op, _jit_compiled_convolution_op while saving (showing 5 of 8). These functions will not be directly callable after loading.\n"
     ]
    },
    {
     "name": "stdout",
     "output_type": "stream",
     "text": [
      "INFO:tensorflow:Assets written to: ../../local_saved_models/model3/assets\n"
     ]
    },
    {
     "name": "stderr",
     "output_type": "stream",
     "text": [
      "INFO:tensorflow:Assets written to: ../../local_saved_models/model3/assets\n"
     ]
    },
    {
     "name": "stdout",
     "output_type": "stream",
     "text": [
      "12/12 [==============================] - 0s 11ms/step\n"
     ]
    },
    {
     "name": "stderr",
     "output_type": "stream",
     "text": [
      "2022-11-22 02:42:38.819692: I tensorflow/core/grappler/optimizers/custom_graph_optimizer_registry.cc:114] Plugin optimizer for device_type GPU is enabled.\n"
     ]
    },
    {
     "name": "stdout",
     "output_type": "stream",
     "text": [
      "Accuracy: 0.7881\n",
      "Precision: 0.7798\n",
      "Recall: 0.7639\n",
      "F1: 0.7658\n"
     ]
    },
    {
     "data": {
      "text/plain": "<Figure size 1000x800 with 2 Axes>",
      "image/png": "[encoded data removed]"
     },
     "metadata": {},
     "output_type": "display_data"
    },
    {
     "name": "stdout",
     "output_type": "stream",
     "text": [
      "Model: \"model\"\n",
      "_________________________________________________________________\n",
      " Layer (type)                Output Shape              Param #   \n",
      "=================================================================\n",
      " Input (InputLayer)          [(None, 96, 96, 3)]       0         \n",
      "                                                                 \n",
      " conv2d (Conv2D)             (None, 96, 96, 32)        896       \n",
      "                                                                 \n",
      " batch_normalization (BatchN  (None, 96, 96, 32)       128       \n",
      " ormalization)                                                   \n",
      "                                                                 \n",
      " activation (Activation)     (None, 96, 96, 32)        0         \n",
      "                                                                 \n",
      " max_pooling2d (MaxPooling2D  (None, 48, 48, 32)       0         \n",
      " )                                                               \n",
      "                                                                 \n",
      " conv2d_1 (Conv2D)           (None, 48, 48, 32)        9248      \n",
      "                                                                 \n",
      " batch_normalization_1 (Batc  (None, 48, 48, 32)       128       \n",
      " hNormalization)                                                 \n",
      "                                                                 \n",
      " activation_1 (Activation)   (None, 48, 48, 32)        0         \n",
      "                                                                 \n",
      " conv2d_2 (Conv2D)           (None, 48, 48, 32)        9248      \n",
      "                                                                 \n",
      " batch_normalization_2 (Batc  (None, 48, 48, 32)       128       \n",
      " hNormalization)                                                 \n",
      "                                                                 \n",
      " activation_2 (Activation)   (None, 48, 48, 32)        0         \n",
      "                                                                 \n",
      " max_pooling2d_1 (MaxPooling  (None, 24, 24, 32)       0         \n",
      " 2D)                                                             \n",
      "                                                                 \n",
      " conv2d_3 (Conv2D)           (None, 24, 24, 32)        9248      \n",
      "                                                                 \n",
      " batch_normalization_3 (Batc  (None, 24, 24, 32)       128       \n",
      " hNormalization)                                                 \n",
      "                                                                 \n",
      " activation_3 (Activation)   (None, 24, 24, 32)        0         \n",
      "                                                                 \n",
      " conv2d_4 (Conv2D)           (None, 24, 24, 32)        9248      \n",
      "                                                                 \n",
      " batch_normalization_4 (Batc  (None, 24, 24, 32)       128       \n",
      " hNormalization)                                                 \n",
      "                                                                 \n",
      " activation_4 (Activation)   (None, 24, 24, 32)        0         \n",
      "                                                                 \n",
      " max_pooling2d_2 (MaxPooling  (None, 12, 12, 32)       0         \n",
      " 2D)                                                             \n",
      "                                                                 \n",
      " conv2d_5 (Conv2D)           (None, 12, 12, 32)        9248      \n",
      "                                                                 \n",
      " batch_normalization_5 (Batc  (None, 12, 12, 32)       128       \n",
      " hNormalization)                                                 \n",
      "                                                                 \n",
      " activation_5 (Activation)   (None, 12, 12, 32)        0         \n",
      "                                                                 \n",
      " conv2d_6 (Conv2D)           (None, 12, 12, 32)        9248      \n",
      "                                                                 \n",
      " batch_normalization_6 (Batc  (None, 12, 12, 32)       128       \n",
      " hNormalization)                                                 \n",
      "                                                                 \n",
      " activation_6 (Activation)   (None, 12, 12, 32)        0         \n",
      "                                                                 \n",
      " max_pooling2d_3 (MaxPooling  (None, 6, 6, 32)         0         \n",
      " 2D)                                                             \n",
      "                                                                 \n",
      " conv2d_7 (Conv2D)           (None, 6, 6, 32)          9248      \n",
      "                                                                 \n",
      " batch_normalization_7 (Batc  (None, 6, 6, 32)         128       \n",
      " hNormalization)                                                 \n",
      "                                                                 \n",
      " activation_7 (Activation)   (None, 6, 6, 32)          0         \n",
      "                                                                 \n",
      " Flatten (Flatten)           (None, 1152)              0         \n",
      "                                                                 \n",
      " Classifier (Dense)          (None, 1024)              1180672   \n",
      "                                                                 \n",
      " dropout (Dropout)           (None, 1024)              0         \n",
      "                                                                 \n",
      " Output (Dense)              (None, 8)                 8200      \n",
      "                                                                 \n",
      "=================================================================\n",
      "Total params: 1,255,528\n",
      "Trainable params: 1,255,016\n",
      "Non-trainable params: 512\n",
      "_________________________________________________________________\n"
     ]
    }
   ],
   "source": [
    "model_helper.save_model(model, 'model3')\n",
    "model = model_helper.load_model('model3')\n",
    "model_helper.show_confusion_matrix(X_test, Y_test)\n",
    "\n",
    "model.summary()"
   ],
   "metadata": {
    "collapsed": false
   }
  },
  {
   "cell_type": "code",
   "execution_count": 28,
   "outputs": [
    {
     "name": "stdout",
     "output_type": "stream",
     "text": [
      "Data Augmentation with data distribution\n",
      "Data distribution = [0.13875    0.12021667 0.12108333 0.12135    0.12028333 0.13675\n",
      " 0.12001667 0.12155   ]\n",
      "Class Size :  149, generating: 2081\n",
      "1937 images generated\n",
      "Class Size :  427, generating: 1803\n",
      "1708 images generated\n",
      "Class Size :  414, generating: 1816\n",
      "1784 images generated\n",
      "Class Size :  410, generating: 1820\n",
      "1768 images generated\n",
      "Class Size :  426, generating: 1804\n",
      "1704 images generated\n",
      "Class Size :  179, generating: 2051\n",
      "1918 images generated\n",
      "Class Size :  430, generating: 1800\n",
      "1720 images generated\n",
      "Class Size :  407, generating: 1823\n",
      "1756 images generated\n",
      "Epoch 1/100\n"
     ]
    },
    {
     "name": "stderr",
     "output_type": "stream",
     "text": [
      "2022-11-22 02:43:19.038030: I tensorflow/core/grappler/optimizers/custom_graph_optimizer_registry.cc:114] Plugin optimizer for device_type GPU is enabled.\n"
     ]
    },
    {
     "name": "stdout",
     "output_type": "stream",
     "text": [
      "196/196 [==============================] - ETA: 0s - loss: 0.5907 - accuracy: 0.8357"
     ]
    },
    {
     "name": "stderr",
     "output_type": "stream",
     "text": [
      "2022-11-22 02:43:31.606919: I tensorflow/core/grappler/optimizers/custom_graph_optimizer_registry.cc:114] Plugin optimizer for device_type GPU is enabled.\n"
     ]
    },
    {
     "name": "stdout",
     "output_type": "stream",
     "text": [
      "196/196 [==============================] - 14s 65ms/step - loss: 0.5907 - accuracy: 0.8357 - val_loss: 0.9912 - val_accuracy: 0.7458\n",
      "Epoch 2/100\n",
      "196/196 [==============================] - 12s 63ms/step - loss: 0.3192 - accuracy: 0.8905 - val_loss: 1.0874 - val_accuracy: 0.7316\n",
      "Epoch 3/100\n",
      "196/196 [==============================] - 12s 62ms/step - loss: 0.2282 - accuracy: 0.9213 - val_loss: 0.9625 - val_accuracy: 0.7881\n",
      "Epoch 4/100\n",
      "196/196 [==============================] - 12s 63ms/step - loss: 0.1771 - accuracy: 0.9386 - val_loss: 0.9326 - val_accuracy: 0.7825\n",
      "Epoch 5/100\n",
      "196/196 [==============================] - 12s 63ms/step - loss: 0.1469 - accuracy: 0.9499 - val_loss: 0.9657 - val_accuracy: 0.7797\n",
      "Epoch 6/100\n",
      "196/196 [==============================] - 12s 62ms/step - loss: 0.1173 - accuracy: 0.9600 - val_loss: 1.1063 - val_accuracy: 0.7712\n",
      "Epoch 7/100\n",
      "196/196 [==============================] - 12s 63ms/step - loss: 0.0971 - accuracy: 0.9659 - val_loss: 1.0439 - val_accuracy: 0.8023\n",
      "Epoch 8/100\n",
      "196/196 [==============================] - 12s 63ms/step - loss: 0.0816 - accuracy: 0.9721 - val_loss: 1.3743 - val_accuracy: 0.7627\n",
      "Epoch 9/100\n",
      "196/196 [==============================] - 12s 63ms/step - loss: 0.0778 - accuracy: 0.9729 - val_loss: 1.2734 - val_accuracy: 0.8136\n",
      "Epoch 10/100\n",
      "196/196 [==============================] - 12s 62ms/step - loss: 0.0698 - accuracy: 0.9768 - val_loss: 1.0809 - val_accuracy: 0.8107\n",
      "Epoch 11/100\n",
      "196/196 [==============================] - 13s 65ms/step - loss: 0.0821 - accuracy: 0.9733 - val_loss: 1.3379 - val_accuracy: 0.7797\n",
      "Epoch 12/100\n",
      "196/196 [==============================] - 12s 63ms/step - loss: 0.0688 - accuracy: 0.9772 - val_loss: 1.5499 - val_accuracy: 0.7627\n",
      "Epoch 13/100\n",
      "196/196 [==============================] - 12s 63ms/step - loss: 0.0626 - accuracy: 0.9793 - val_loss: 2.1115 - val_accuracy: 0.7486\n",
      "Epoch 14/100\n",
      "196/196 [==============================] - 12s 63ms/step - loss: 0.0546 - accuracy: 0.9820 - val_loss: 1.6841 - val_accuracy: 0.7684\n",
      "Epoch 15/100\n",
      "196/196 [==============================] - 12s 63ms/step - loss: 0.0682 - accuracy: 0.9764 - val_loss: 1.6702 - val_accuracy: 0.7514\n",
      "Epoch 16/100\n",
      "196/196 [==============================] - 12s 62ms/step - loss: 0.0555 - accuracy: 0.9806 - val_loss: 1.6003 - val_accuracy: 0.7740\n",
      "Epoch 17/100\n",
      "196/196 [==============================] - 12s 63ms/step - loss: 0.0577 - accuracy: 0.9805 - val_loss: 1.5914 - val_accuracy: 0.7740\n",
      "Epoch 18/100\n",
      "196/196 [==============================] - 12s 63ms/step - loss: 0.0457 - accuracy: 0.9840 - val_loss: 1.9288 - val_accuracy: 0.7571\n",
      "Epoch 19/100\n",
      "196/196 [==============================] - 12s 63ms/step - loss: 0.0522 - accuracy: 0.9818 - val_loss: 1.3997 - val_accuracy: 0.7825\n",
      "Epoch 20/100\n",
      "196/196 [==============================] - 12s 63ms/step - loss: 0.0506 - accuracy: 0.9826 - val_loss: 1.4718 - val_accuracy: 0.7910\n",
      "Epoch 21/100\n",
      "196/196 [==============================] - 12s 63ms/step - loss: 0.0472 - accuracy: 0.9840 - val_loss: 1.5777 - val_accuracy: 0.7938\n",
      "Epoch 22/100\n",
      "196/196 [==============================] - 12s 63ms/step - loss: 0.0433 - accuracy: 0.9852 - val_loss: 1.5307 - val_accuracy: 0.7853\n",
      "Epoch 23/100\n",
      "196/196 [==============================] - 12s 62ms/step - loss: 0.0377 - accuracy: 0.9878 - val_loss: 2.0910 - val_accuracy: 0.7345\n",
      "Epoch 24/100\n",
      "196/196 [==============================] - 12s 63ms/step - loss: 0.0488 - accuracy: 0.9841 - val_loss: 1.6440 - val_accuracy: 0.7401\n",
      "Epoch 25/100\n",
      "196/196 [==============================] - 12s 63ms/step - loss: 0.0471 - accuracy: 0.9842 - val_loss: 1.4105 - val_accuracy: 0.7910\n",
      "Epoch 26/100\n",
      "196/196 [==============================] - 12s 63ms/step - loss: 0.0512 - accuracy: 0.9843 - val_loss: 1.7172 - val_accuracy: 0.7316\n",
      "Epoch 27/100\n",
      "196/196 [==============================] - 12s 63ms/step - loss: 0.0374 - accuracy: 0.9884 - val_loss: 2.0016 - val_accuracy: 0.7316\n",
      "Epoch 28/100\n",
      "196/196 [==============================] - 12s 63ms/step - loss: 0.0378 - accuracy: 0.9875 - val_loss: 1.5670 - val_accuracy: 0.7684\n",
      "Epoch 29/100\n",
      "196/196 [==============================] - 12s 63ms/step - loss: 0.0365 - accuracy: 0.9872 - val_loss: 1.8345 - val_accuracy: 0.7571\n",
      "Epoch 30/100\n",
      "196/196 [==============================] - 12s 63ms/step - loss: 0.0348 - accuracy: 0.9889 - val_loss: 3.2574 - val_accuracy: 0.6441\n",
      "Epoch 31/100\n",
      "196/196 [==============================] - 12s 62ms/step - loss: 0.0326 - accuracy: 0.9886 - val_loss: 1.3064 - val_accuracy: 0.8023\n",
      "Epoch 32/100\n",
      "196/196 [==============================] - 12s 63ms/step - loss: 0.0293 - accuracy: 0.9902 - val_loss: 1.2986 - val_accuracy: 0.7938\n",
      "Epoch 33/100\n",
      "196/196 [==============================] - 12s 63ms/step - loss: 0.0297 - accuracy: 0.9898 - val_loss: 3.1357 - val_accuracy: 0.6977\n",
      "Epoch 34/100\n",
      "196/196 [==============================] - 12s 63ms/step - loss: 0.0465 - accuracy: 0.9853 - val_loss: 1.5357 - val_accuracy: 0.7627\n"
     ]
    }
   ],
   "source": [
    "X, Y = dataset_helper.load_dataset_from_numpy()\n",
    "dataset_size = X.shape[0]\n",
    "#Split Training and Testing\n",
    "X_train, X_test, Y_train, Y_test = train_test_split(X, Y, random_state=seed, test_size=int(0.1 * dataset_size),\n",
    "                                                    stratify=Y)\n",
    "\n",
    "# Normalize data\n",
    "X_train = X_train / 255.\n",
    "X_test = X_test / 255.\n",
    "\n",
    "#Split Training and Validation\n",
    "X_train, X_val, Y_train, Y_val = train_test_split(X_train, Y_train, random_state=seed,\n",
    "                                                  test_size=int(0.1 * dataset_size), stratify=Y_train)\n",
    "old_y_train = Y_train\n",
    "X_train, Y_train = dataset_helper.apply_data_augmentation_normalized(X_train, Y_train, 15000, disable_tqdm=True,\n",
    "                                                                     rotation_range=360,\n",
    "                                                                     width_shift_range=0.2,\n",
    "                                                                     height_shift_range=0.2,\n",
    "                                                                     zoom_range=0.3,\n",
    "                                                                     fill_mode=\"reflect\",\n",
    "                                                                     horizontal_flip=True,\n",
    "                                                                     vertical_flip=True,\n",
    "                                                                     brightness_range=(0.5, 1.1), seed=453)\n",
    "X_train, Y_train = dataset_helper.keras_cv_augmentation(X_train, Y_train, 0.1)\n",
    "# Train the model\n",
    "#%env TF_FORCE_UNIFIED_MEMORY: 1\n",
    "callbacks_selected = model_helper.createCallbacks(earlyStopping=True, checkPoints=True, patience=25)\n",
    "\n",
    "#Fit the model\n",
    "history = model.fit(\n",
    "    x=X_train,\n",
    "    y=Y_train,\n",
    "    batch_size=batch_size,\n",
    "    epochs=100,\n",
    "    validation_data=(X_val, Y_val),\n",
    "    callbacks=callbacks_selected\n",
    ").history"
   ],
   "metadata": {
    "collapsed": false
   }
  },
  {
   "cell_type": "code",
   "execution_count": 29,
   "outputs": [
    {
     "name": "stderr",
     "output_type": "stream",
     "text": [
      "WARNING:absl:Function `_wrapped_model` contains input name(s) Input with unsupported characters which will be renamed to input in the SavedModel.\n",
      "WARNING:absl:Found untraced functions such as _jit_compiled_convolution_op, _jit_compiled_convolution_op, _jit_compiled_convolution_op, _jit_compiled_convolution_op, _jit_compiled_convolution_op while saving (showing 5 of 8). These functions will not be directly callable after loading.\n"
     ]
    },
    {
     "name": "stdout",
     "output_type": "stream",
     "text": [
      "INFO:tensorflow:Assets written to: ../../local_saved_models/model4/assets\n"
     ]
    },
    {
     "name": "stderr",
     "output_type": "stream",
     "text": [
      "INFO:tensorflow:Assets written to: ../../local_saved_models/model4/assets\n"
     ]
    },
    {
     "name": "stdout",
     "output_type": "stream",
     "text": [
      "12/12 [==============================] - 0s 11ms/step\n"
     ]
    },
    {
     "name": "stderr",
     "output_type": "stream",
     "text": [
      "2022-11-22 02:50:23.057281: I tensorflow/core/grappler/optimizers/custom_graph_optimizer_registry.cc:114] Plugin optimizer for device_type GPU is enabled.\n"
     ]
    },
    {
     "name": "stdout",
     "output_type": "stream",
     "text": [
      "Accuracy: 0.8164\n",
      "Precision: 0.7858\n",
      "Recall: 0.7791\n",
      "F1: 0.7803\n"
     ]
    },
    {
     "data": {
      "text/plain": "<Figure size 1000x800 with 2 Axes>",
      "image/png": "[encoded data removed]"
     },
     "metadata": {},
     "output_type": "display_data"
    },
    {
     "name": "stdout",
     "output_type": "stream",
     "text": [
      "Model: \"model\"\n",
      "_________________________________________________________________\n",
      " Layer (type)                Output Shape              Param #   \n",
      "=================================================================\n",
      " Input (InputLayer)          [(None, 96, 96, 3)]       0         \n",
      "                                                                 \n",
      " conv2d (Conv2D)             (None, 96, 96, 32)        896       \n",
      "                                                                 \n",
      " batch_normalization (BatchN  (None, 96, 96, 32)       128       \n",
      " ormalization)                                                   \n",
      "                                                                 \n",
      " activation (Activation)     (None, 96, 96, 32)        0         \n",
      "                                                                 \n",
      " max_pooling2d (MaxPooling2D  (None, 48, 48, 32)       0         \n",
      " )                                                               \n",
      "                                                                 \n",
      " conv2d_1 (Conv2D)           (None, 48, 48, 32)        9248      \n",
      "                                                                 \n",
      " batch_normalization_1 (Batc  (None, 48, 48, 32)       128       \n",
      " hNormalization)                                                 \n",
      "                                                                 \n",
      " activation_1 (Activation)   (None, 48, 48, 32)        0         \n",
      "                                                                 \n",
      " conv2d_2 (Conv2D)           (None, 48, 48, 32)        9248      \n",
      "                                                                 \n",
      " batch_normalization_2 (Batc  (None, 48, 48, 32)       128       \n",
      " hNormalization)                                                 \n",
      "                                                                 \n",
      " activation_2 (Activation)   (None, 48, 48, 32)        0         \n",
      "                                                                 \n",
      " max_pooling2d_1 (MaxPooling  (None, 24, 24, 32)       0         \n",
      " 2D)                                                             \n",
      "                                                                 \n",
      " conv2d_3 (Conv2D)           (None, 24, 24, 32)        9248      \n",
      "                                                                 \n",
      " batch_normalization_3 (Batc  (None, 24, 24, 32)       128       \n",
      " hNormalization)                                                 \n",
      "                                                                 \n",
      " activation_3 (Activation)   (None, 24, 24, 32)        0         \n",
      "                                                                 \n",
      " conv2d_4 (Conv2D)           (None, 24, 24, 32)        9248      \n",
      "                                                                 \n",
      " batch_normalization_4 (Batc  (None, 24, 24, 32)       128       \n",
      " hNormalization)                                                 \n",
      "                                                                 \n",
      " activation_4 (Activation)   (None, 24, 24, 32)        0         \n",
      "                                                                 \n",
      " max_pooling2d_2 (MaxPooling  (None, 12, 12, 32)       0         \n",
      " 2D)                                                             \n",
      "                                                                 \n",
      " conv2d_5 (Conv2D)           (None, 12, 12, 32)        9248      \n",
      "                                                                 \n",
      " batch_normalization_5 (Batc  (None, 12, 12, 32)       128       \n",
      " hNormalization)                                                 \n",
      "                                                                 \n",
      " activation_5 (Activation)   (None, 12, 12, 32)        0         \n",
      "                                                                 \n",
      " conv2d_6 (Conv2D)           (None, 12, 12, 32)        9248      \n",
      "                                                                 \n",
      " batch_normalization_6 (Batc  (None, 12, 12, 32)       128       \n",
      " hNormalization)                                                 \n",
      "                                                                 \n",
      " activation_6 (Activation)   (None, 12, 12, 32)        0         \n",
      "                                                                 \n",
      " max_pooling2d_3 (MaxPooling  (None, 6, 6, 32)         0         \n",
      " 2D)                                                             \n",
      "                                                                 \n",
      " conv2d_7 (Conv2D)           (None, 6, 6, 32)          9248      \n",
      "                                                                 \n",
      " batch_normalization_7 (Batc  (None, 6, 6, 32)         128       \n",
      " hNormalization)                                                 \n",
      "                                                                 \n",
      " activation_7 (Activation)   (None, 6, 6, 32)          0         \n",
      "                                                                 \n",
      " Flatten (Flatten)           (None, 1152)              0         \n",
      "                                                                 \n",
      " Classifier (Dense)          (None, 1024)              1180672   \n",
      "                                                                 \n",
      " dropout (Dropout)           (None, 1024)              0         \n",
      "                                                                 \n",
      " Output (Dense)              (None, 8)                 8200      \n",
      "                                                                 \n",
      "=================================================================\n",
      "Total params: 1,255,528\n",
      "Trainable params: 1,255,016\n",
      "Non-trainable params: 512\n",
      "_________________________________________________________________\n"
     ]
    }
   ],
   "source": [
    "model_helper.save_model(model, 'model4')\n",
    "model = model_helper.load_model('model4')\n",
    "model_helper.show_confusion_matrix(X_test, Y_test)\n",
    "\n",
    "model.summary()"
   ],
   "metadata": {
    "collapsed": false
   }
  },
  {
   "cell_type": "code",
   "execution_count": 30,
   "metadata": {
    "id": "EPPRFvJmSXV3"
   },
   "outputs": [],
   "source": [
    "#Submission Model for the challenge -> Path is the folder on the server where our script is\n",
    "class SubmissionModel:\n",
    "    def __init__(self, path):\n",
    "        self.model = tf.keras.models.load_model(os.path.join(path, 'model1'))\n",
    "\n",
    "    def predict(self, X):\n",
    "        # Insert your preprocessing here\n",
    "\n",
    "        out = self.model.predict(X)\n",
    "        out = np.argmax(out, axis=-1)\n",
    "        return out"
   ]
  },
  {
   "cell_type": "code",
   "execution_count": 31,
   "metadata": {
    "id": "qbvLsvjAU7ig"
   },
   "outputs": [
    {
     "data": {
      "text/plain": "(1, 96, 96, 3)"
     },
     "execution_count": 31,
     "metadata": {},
     "output_type": "execute_result"
    }
   ],
   "source": [
    "testing_index = 44\n",
    "image_to_test = X_test[[testing_index], :]\n",
    "#image_to_test = X_test[10,None,:]\n",
    "#image_to_test = np.expand_dims(image_to_test,0)\n",
    "image_to_test.shape\n"
   ]
  },
  {
   "cell_type": "code",
   "execution_count": 32,
   "metadata": {},
   "outputs": [
    {
     "name": "stdout",
     "output_type": "stream",
     "text": [
      "Real Class: \n",
      "Species4\n"
     ]
    },
    {
     "name": "stderr",
     "output_type": "stream",
     "text": [
      "2022-11-22 02:50:25.137130: I tensorflow/core/grappler/optimizers/custom_graph_optimizer_registry.cc:114] Plugin optimizer for device_type GPU is enabled.\n"
     ]
    },
    {
     "name": "stdout",
     "output_type": "stream",
     "text": [
      "1/1 [==============================] - 0s 405ms/step\n"
     ]
    },
    {
     "data": {
      "text/plain": "'Species4'"
     },
     "execution_count": 32,
     "metadata": {},
     "output_type": "execute_result"
    }
   ],
   "source": [
    "print(\"Real Class: \")\n",
    "print(labels[np.argmax(Y_test[testing_index])])\n",
    "tester = SubmissionModel(\"../../local_saved_models/\")\n",
    "res = tester.predict(image_to_test)\n",
    "labels[res[0]]"
   ]
  },
  {
   "cell_type": "code",
   "execution_count": null,
   "metadata": {},
   "outputs": [],
   "source": [
    "#Predict all test at oance\n",
    "predicted_vector = model.predict(X_test)\n",
    "predicted_vector.shape"
   ]
  },
  {
   "cell_type": "code",
   "execution_count": null,
   "metadata": {},
   "outputs": [],
   "source": []
  }
 ],
 "metadata": {
  "colab": {
   "collapsed_sections": [],
   "provenance": []
  },
  "gpuClass": "standard",
  "kernelspec": {
   "display_name": "Python 3",
   "language": "python",
   "name": "python3"
  },
  "language_info": {
   "codemirror_mode": {
    "name": "ipython",
    "version": 3
   },
   "file_extension": ".py",
   "mimetype": "text/x-python",
   "name": "python",
   "nbconvert_exporter": "python",
   "pygments_lexer": "ipython3",
   "version": "3.8.10"
  },
  "vscode": {
   "interpreter": {
    "hash": "916dbcbb3f70747c44a77c7bcd40155683ae19c65e1c03b4aa3499c5328201f1"
   }
  }
 },
 "nbformat": 4,
 "nbformat_minor": 1
}
